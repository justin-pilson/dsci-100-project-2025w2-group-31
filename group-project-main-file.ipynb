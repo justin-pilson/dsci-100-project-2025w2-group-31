{
 "cells": [
  {
   "cell_type": "markdown",
   "id": "6a4189ac-62db-40ad-9762-3c3823df9e57",
   "metadata": {},
   "source": [
    "# Predictability of Player Subscription Status - DSCI 100 Project: Group 31 Section 5"
   ]
  },
  {
   "cell_type": "markdown",
   "id": "fc793097-50ec-4d9f-bb38-d2753205615e",
   "metadata": {},
   "source": [
    "# Introduction\n",
    "We will be investigating the behaviour of people who play games using the dataset `players.csv` which was collected by Frank Wood's research group at UBC Computer Science from a MineCraft server that records each individual player's information. This information is collected to gain knowledge on how to go about player recruitment and the resources required to handle the amount of players.\n",
    "\n",
    "From the `players.csv` dataset we are investigating, \"Can age and hours played predict if a player has subscribed to the newsletter?\" To have success in the gaming industry, it is important to prioritize player engagement and retention. One way to maintain engagement is through newsletter subscription. However, not all players subscribe to the newsletter, allowing for identification of factors that affect player subscription. Understanding trends of player variables can help tailor marketing strategies such as personalized outreach, to target specific players based on their behaviour.\n",
    "\n",
    "The `players.csv` dataset represents different information of all players recorded in the dataset; the variables include:\n",
    "- experience: How experienced the player is in MineCraft (Rank: Beginning, Amateur, Regular, Pro, Veteran), Type: character\n",
    "- subscribe: Whether or not the player as subscribed to the game related newsletter (True or False), Type: logical\n",
    "- hashedEmail: The email of each player converted into a string of different characters, Type: character\n",
    "- played_hours: Amount of total hours played, Type: double\n",
    "- name: The player's name, Type: character\n",
    "- gender: The player's gender, Type: character\n",
    "- Age: The player's age, Type: double\n",
    "\n",
    "This results in a total of:\n",
    "- 196 observations\n",
    "- 7 variables"
   ]
  },
  {
   "cell_type": "markdown",
   "id": "952798ee-d8a1-4d2c-b5da-3bf1c2d00e00",
   "metadata": {},
   "source": [
    "# Methods & Results"
   ]
  },
  {
   "cell_type": "code",
   "execution_count": 3,
   "id": "39ffdfc7-7338-4a9a-a70f-4c1feb34e1e7",
   "metadata": {},
   "outputs": [
    {
     "name": "stderr",
     "output_type": "stream",
     "text": [
      "── \u001b[1mAttaching core tidyverse packages\u001b[22m ──────────────────────── tidyverse 2.0.0 ──\n",
      "\u001b[32m✔\u001b[39m \u001b[34mdplyr    \u001b[39m 1.1.4     \u001b[32m✔\u001b[39m \u001b[34mreadr    \u001b[39m 2.1.5\n",
      "\u001b[32m✔\u001b[39m \u001b[34mforcats  \u001b[39m 1.0.0     \u001b[32m✔\u001b[39m \u001b[34mstringr  \u001b[39m 1.5.1\n",
      "\u001b[32m✔\u001b[39m \u001b[34mggplot2  \u001b[39m 3.5.1     \u001b[32m✔\u001b[39m \u001b[34mtibble   \u001b[39m 3.2.1\n",
      "\u001b[32m✔\u001b[39m \u001b[34mlubridate\u001b[39m 1.9.3     \u001b[32m✔\u001b[39m \u001b[34mtidyr    \u001b[39m 1.3.1\n",
      "\u001b[32m✔\u001b[39m \u001b[34mpurrr    \u001b[39m 1.0.2     \n",
      "── \u001b[1mConflicts\u001b[22m ────────────────────────────────────────── tidyverse_conflicts() ──\n",
      "\u001b[31m✖\u001b[39m \u001b[34mdplyr\u001b[39m::\u001b[32mfilter()\u001b[39m masks \u001b[34mstats\u001b[39m::filter()\n",
      "\u001b[31m✖\u001b[39m \u001b[34mdplyr\u001b[39m::\u001b[32mlag()\u001b[39m    masks \u001b[34mstats\u001b[39m::lag()\n",
      "\u001b[36mℹ\u001b[39m Use the conflicted package (\u001b[3m\u001b[34m<http://conflicted.r-lib.org/>\u001b[39m\u001b[23m) to force all conflicts to become errors\n",
      "── \u001b[1mAttaching packages\u001b[22m ────────────────────────────────────── tidymodels 1.1.1 ──\n",
      "\n",
      "\u001b[32m✔\u001b[39m \u001b[34mbroom       \u001b[39m 1.0.6     \u001b[32m✔\u001b[39m \u001b[34mrsample     \u001b[39m 1.2.1\n",
      "\u001b[32m✔\u001b[39m \u001b[34mdials       \u001b[39m 1.3.0     \u001b[32m✔\u001b[39m \u001b[34mtune        \u001b[39m 1.1.2\n",
      "\u001b[32m✔\u001b[39m \u001b[34minfer       \u001b[39m 1.0.7     \u001b[32m✔\u001b[39m \u001b[34mworkflows   \u001b[39m 1.1.4\n",
      "\u001b[32m✔\u001b[39m \u001b[34mmodeldata   \u001b[39m 1.4.0     \u001b[32m✔\u001b[39m \u001b[34mworkflowsets\u001b[39m 1.0.1\n",
      "\u001b[32m✔\u001b[39m \u001b[34mparsnip     \u001b[39m 1.2.1     \u001b[32m✔\u001b[39m \u001b[34myardstick   \u001b[39m 1.3.1\n",
      "\u001b[32m✔\u001b[39m \u001b[34mrecipes     \u001b[39m 1.1.0     \n",
      "\n",
      "── \u001b[1mConflicts\u001b[22m ───────────────────────────────────────── tidymodels_conflicts() ──\n",
      "\u001b[31m✖\u001b[39m \u001b[34mscales\u001b[39m::\u001b[32mdiscard()\u001b[39m masks \u001b[34mpurrr\u001b[39m::discard()\n",
      "\u001b[31m✖\u001b[39m \u001b[34mdplyr\u001b[39m::\u001b[32mfilter()\u001b[39m   masks \u001b[34mstats\u001b[39m::filter()\n",
      "\u001b[31m✖\u001b[39m \u001b[34mrecipes\u001b[39m::\u001b[32mfixed()\u001b[39m  masks \u001b[34mstringr\u001b[39m::fixed()\n",
      "\u001b[31m✖\u001b[39m \u001b[34mdplyr\u001b[39m::\u001b[32mlag()\u001b[39m      masks \u001b[34mstats\u001b[39m::lag()\n",
      "\u001b[31m✖\u001b[39m \u001b[34myardstick\u001b[39m::\u001b[32mspec()\u001b[39m masks \u001b[34mreadr\u001b[39m::spec()\n",
      "\u001b[31m✖\u001b[39m \u001b[34mrecipes\u001b[39m::\u001b[32mstep()\u001b[39m   masks \u001b[34mstats\u001b[39m::step()\n",
      "\u001b[34m•\u001b[39m Search for functions across packages at \u001b[32mhttps://www.tidymodels.org/find/\u001b[39m\n",
      "\n",
      "Warning message in file(filename, \"r\", encoding = encoding):\n",
      "“cannot open file 'cleanup.R': No such file or directory”\n"
     ]
    },
    {
     "ename": "ERROR",
     "evalue": "Error in file(filename, \"r\", encoding = encoding): cannot open the connection\n",
     "output_type": "error",
     "traceback": [
      "Error in file(filename, \"r\", encoding = encoding): cannot open the connection\nTraceback:\n",
      "1. source(\"cleanup.R\")",
      "2. file(filename, \"r\", encoding = encoding)"
     ]
    }
   ],
   "source": [
    "library(tidyverse)\n",
    "library(repr)\n",
    "library(readxl)\n",
    "library(tidymodels)\n",
    "options(repr.matrix.max.rows = 6)\n",
    "source('cleanup.R')"
   ]
  },
  {
   "cell_type": "markdown",
   "id": "de411c69-e668-42b0-964b-d679e4108d18",
   "metadata": {},
   "source": [
    "First, we input the dataset into our file. The data is pulled from an online url through github to ensure reproducibility across devices. We then use the `read_csv` file to pull the data file into R into a tibble so that we can perform our analysis."
   ]
  },
  {
   "cell_type": "code",
   "execution_count": 4,
   "id": "34c9b406-9657-49f9-9af4-16231986b40d",
   "metadata": {},
   "outputs": [
    {
     "name": "stderr",
     "output_type": "stream",
     "text": [
      "\u001b[1mRows: \u001b[22m\u001b[34m196\u001b[39m \u001b[1mColumns: \u001b[22m\u001b[34m7\u001b[39m\n",
      "\u001b[36m──\u001b[39m \u001b[1mColumn specification\u001b[22m \u001b[36m────────────────────────────────────────────────────────\u001b[39m\n",
      "\u001b[1mDelimiter:\u001b[22m \",\"\n",
      "\u001b[31mchr\u001b[39m (4): experience, hashedEmail, name, gender\n",
      "\u001b[32mdbl\u001b[39m (2): played_hours, Age\n",
      "\u001b[33mlgl\u001b[39m (1): subscribe\n",
      "\n",
      "\u001b[36mℹ\u001b[39m Use `spec()` to retrieve the full column specification for this data.\n",
      "\u001b[36mℹ\u001b[39m Specify the column types or set `show_col_types = FALSE` to quiet this message.\n"
     ]
    },
    {
     "data": {
      "text/html": [
       "<table class=\"dataframe\">\n",
       "<caption>A spec_tbl_df: 196 × 7</caption>\n",
       "<thead>\n",
       "\t<tr><th scope=col>experience</th><th scope=col>subscribe</th><th scope=col>hashedEmail</th><th scope=col>played_hours</th><th scope=col>name</th><th scope=col>gender</th><th scope=col>Age</th></tr>\n",
       "\t<tr><th scope=col>&lt;chr&gt;</th><th scope=col>&lt;lgl&gt;</th><th scope=col>&lt;chr&gt;</th><th scope=col>&lt;dbl&gt;</th><th scope=col>&lt;chr&gt;</th><th scope=col>&lt;chr&gt;</th><th scope=col>&lt;dbl&gt;</th></tr>\n",
       "</thead>\n",
       "<tbody>\n",
       "\t<tr><td>Pro    </td><td> TRUE</td><td>f6daba428a5e19a3d47574858c13550499be23603422e6a0ee9728f8b53e192d</td><td>30.3</td><td>Morgan   </td><td>Male</td><td> 9</td></tr>\n",
       "\t<tr><td>Veteran</td><td> TRUE</td><td>f3c813577c458ba0dfef80996f8f32c93b6e8af1fa939732842f2312358a88e9</td><td> 3.8</td><td>Christian</td><td>Male</td><td>17</td></tr>\n",
       "\t<tr><td>Veteran</td><td>FALSE</td><td>b674dd7ee0d24096d1c019615ce4d12b20fcbff12d79d3c5a9d2118eb7ccbb28</td><td> 0.0</td><td>Blake    </td><td>Male</td><td>17</td></tr>\n",
       "\t<tr><td>⋮</td><td>⋮</td><td>⋮</td><td>⋮</td><td>⋮</td><td>⋮</td><td>⋮</td></tr>\n",
       "\t<tr><td>Amateur</td><td>FALSE</td><td>d572f391d452b76ea2d7e5e53a3d38bfd7499c7399db299bd4fedb06a46ad5bb</td><td>0.0</td><td>Dylan </td><td>Prefer not to say</td><td>17</td></tr>\n",
       "\t<tr><td>Amateur</td><td>FALSE</td><td>f19e136ddde68f365afc860c725ccff54307dedd13968e896a9f890c40aea436</td><td>2.3</td><td>Harlow</td><td>Male             </td><td>17</td></tr>\n",
       "\t<tr><td>Pro    </td><td> TRUE</td><td>d9473710057f7d42f36570f0be83817a4eea614029ff90cf50d8889cdd729d11</td><td>0.2</td><td>Ahmed </td><td>Other            </td><td>NA</td></tr>\n",
       "</tbody>\n",
       "</table>\n"
      ],
      "text/latex": [
       "A spec\\_tbl\\_df: 196 × 7\n",
       "\\begin{tabular}{lllllll}\n",
       " experience & subscribe & hashedEmail & played\\_hours & name & gender & Age\\\\\n",
       " <chr> & <lgl> & <chr> & <dbl> & <chr> & <chr> & <dbl>\\\\\n",
       "\\hline\n",
       "\t Pro     &  TRUE & f6daba428a5e19a3d47574858c13550499be23603422e6a0ee9728f8b53e192d & 30.3 & Morgan    & Male &  9\\\\\n",
       "\t Veteran &  TRUE & f3c813577c458ba0dfef80996f8f32c93b6e8af1fa939732842f2312358a88e9 &  3.8 & Christian & Male & 17\\\\\n",
       "\t Veteran & FALSE & b674dd7ee0d24096d1c019615ce4d12b20fcbff12d79d3c5a9d2118eb7ccbb28 &  0.0 & Blake     & Male & 17\\\\\n",
       "\t ⋮ & ⋮ & ⋮ & ⋮ & ⋮ & ⋮ & ⋮\\\\\n",
       "\t Amateur & FALSE & d572f391d452b76ea2d7e5e53a3d38bfd7499c7399db299bd4fedb06a46ad5bb & 0.0 & Dylan  & Prefer not to say & 17\\\\\n",
       "\t Amateur & FALSE & f19e136ddde68f365afc860c725ccff54307dedd13968e896a9f890c40aea436 & 2.3 & Harlow & Male              & 17\\\\\n",
       "\t Pro     &  TRUE & d9473710057f7d42f36570f0be83817a4eea614029ff90cf50d8889cdd729d11 & 0.2 & Ahmed  & Other             & NA\\\\\n",
       "\\end{tabular}\n"
      ],
      "text/markdown": [
       "\n",
       "A spec_tbl_df: 196 × 7\n",
       "\n",
       "| experience &lt;chr&gt; | subscribe &lt;lgl&gt; | hashedEmail &lt;chr&gt; | played_hours &lt;dbl&gt; | name &lt;chr&gt; | gender &lt;chr&gt; | Age &lt;dbl&gt; |\n",
       "|---|---|---|---|---|---|---|\n",
       "| Pro     |  TRUE | f6daba428a5e19a3d47574858c13550499be23603422e6a0ee9728f8b53e192d | 30.3 | Morgan    | Male |  9 |\n",
       "| Veteran |  TRUE | f3c813577c458ba0dfef80996f8f32c93b6e8af1fa939732842f2312358a88e9 |  3.8 | Christian | Male | 17 |\n",
       "| Veteran | FALSE | b674dd7ee0d24096d1c019615ce4d12b20fcbff12d79d3c5a9d2118eb7ccbb28 |  0.0 | Blake     | Male | 17 |\n",
       "| ⋮ | ⋮ | ⋮ | ⋮ | ⋮ | ⋮ | ⋮ |\n",
       "| Amateur | FALSE | d572f391d452b76ea2d7e5e53a3d38bfd7499c7399db299bd4fedb06a46ad5bb | 0.0 | Dylan  | Prefer not to say | 17 |\n",
       "| Amateur | FALSE | f19e136ddde68f365afc860c725ccff54307dedd13968e896a9f890c40aea436 | 2.3 | Harlow | Male              | 17 |\n",
       "| Pro     |  TRUE | d9473710057f7d42f36570f0be83817a4eea614029ff90cf50d8889cdd729d11 | 0.2 | Ahmed  | Other             | NA |\n",
       "\n"
      ],
      "text/plain": [
       "    experience subscribe\n",
       "1   Pro         TRUE    \n",
       "2   Veteran     TRUE    \n",
       "3   Veteran    FALSE    \n",
       "⋮   ⋮          ⋮        \n",
       "194 Amateur    FALSE    \n",
       "195 Amateur    FALSE    \n",
       "196 Pro         TRUE    \n",
       "    hashedEmail                                                     \n",
       "1   f6daba428a5e19a3d47574858c13550499be23603422e6a0ee9728f8b53e192d\n",
       "2   f3c813577c458ba0dfef80996f8f32c93b6e8af1fa939732842f2312358a88e9\n",
       "3   b674dd7ee0d24096d1c019615ce4d12b20fcbff12d79d3c5a9d2118eb7ccbb28\n",
       "⋮   ⋮                                                               \n",
       "194 d572f391d452b76ea2d7e5e53a3d38bfd7499c7399db299bd4fedb06a46ad5bb\n",
       "195 f19e136ddde68f365afc860c725ccff54307dedd13968e896a9f890c40aea436\n",
       "196 d9473710057f7d42f36570f0be83817a4eea614029ff90cf50d8889cdd729d11\n",
       "    played_hours name      gender            Age\n",
       "1   30.3         Morgan    Male               9 \n",
       "2    3.8         Christian Male              17 \n",
       "3    0.0         Blake     Male              17 \n",
       "⋮   ⋮            ⋮         ⋮                 ⋮  \n",
       "194 0.0          Dylan     Prefer not to say 17 \n",
       "195 2.3          Harlow    Male              17 \n",
       "196 0.2          Ahmed     Other             NA "
      ]
     },
     "metadata": {},
     "output_type": "display_data"
    }
   ],
   "source": [
    "set.seed(2000)\n",
    "players.csv <- \"https://raw.githubusercontent.com/justin-pilson/dsci-100-project-2025w2-group-31/refs/heads/main/players.csv\"\n",
    "players <- read_csv('players.csv')\n",
    "players"
   ]
  },
  {
   "cell_type": "markdown",
   "id": "fca7a0c0-592f-47df-a424-784f3bb05780",
   "metadata": {},
   "source": [
    "Next, we wrangle and tidy the data by eliminating unnecessary variables and ensuring the labels are consistently formatted. Since we are only looking at played_hours, age, and subscription status for our analysis, we will remove the rest. This step is not completely necessary to complete our model, however it simplifies the dataset making it easier to work with. We will also change 'Age' to 'age', for consistency. Other than this, the data is tidy and ready for analysis.\n",
    "\n",
    "To change the name, we will use the `mutate` function. To eliminate the variables, we will use the `select` function."
   ]
  },
  {
   "cell_type": "code",
   "execution_count": 5,
   "id": "f99f76e1-351a-4272-ad2e-9456673c3c0c",
   "metadata": {},
   "outputs": [
    {
     "data": {
      "text/html": [
       "<table class=\"dataframe\">\n",
       "<caption>A tibble: 196 × 3</caption>\n",
       "<thead>\n",
       "\t<tr><th scope=col>age</th><th scope=col>subscribe</th><th scope=col>played_hours</th></tr>\n",
       "\t<tr><th scope=col>&lt;dbl&gt;</th><th scope=col>&lt;lgl&gt;</th><th scope=col>&lt;dbl&gt;</th></tr>\n",
       "</thead>\n",
       "<tbody>\n",
       "\t<tr><td> 9</td><td> TRUE</td><td>30.3</td></tr>\n",
       "\t<tr><td>17</td><td> TRUE</td><td> 3.8</td></tr>\n",
       "\t<tr><td>17</td><td>FALSE</td><td> 0.0</td></tr>\n",
       "\t<tr><td>⋮</td><td>⋮</td><td>⋮</td></tr>\n",
       "\t<tr><td>17</td><td>FALSE</td><td>0.0</td></tr>\n",
       "\t<tr><td>17</td><td>FALSE</td><td>2.3</td></tr>\n",
       "\t<tr><td>NA</td><td> TRUE</td><td>0.2</td></tr>\n",
       "</tbody>\n",
       "</table>\n"
      ],
      "text/latex": [
       "A tibble: 196 × 3\n",
       "\\begin{tabular}{lll}\n",
       " age & subscribe & played\\_hours\\\\\n",
       " <dbl> & <lgl> & <dbl>\\\\\n",
       "\\hline\n",
       "\t  9 &  TRUE & 30.3\\\\\n",
       "\t 17 &  TRUE &  3.8\\\\\n",
       "\t 17 & FALSE &  0.0\\\\\n",
       "\t ⋮ & ⋮ & ⋮\\\\\n",
       "\t 17 & FALSE & 0.0\\\\\n",
       "\t 17 & FALSE & 2.3\\\\\n",
       "\t NA &  TRUE & 0.2\\\\\n",
       "\\end{tabular}\n"
      ],
      "text/markdown": [
       "\n",
       "A tibble: 196 × 3\n",
       "\n",
       "| age &lt;dbl&gt; | subscribe &lt;lgl&gt; | played_hours &lt;dbl&gt; |\n",
       "|---|---|---|\n",
       "|  9 |  TRUE | 30.3 |\n",
       "| 17 |  TRUE |  3.8 |\n",
       "| 17 | FALSE |  0.0 |\n",
       "| ⋮ | ⋮ | ⋮ |\n",
       "| 17 | FALSE | 0.0 |\n",
       "| 17 | FALSE | 2.3 |\n",
       "| NA |  TRUE | 0.2 |\n",
       "\n"
      ],
      "text/plain": [
       "    age subscribe played_hours\n",
       "1    9   TRUE     30.3        \n",
       "2   17   TRUE      3.8        \n",
       "3   17  FALSE      0.0        \n",
       "⋮   ⋮   ⋮         ⋮           \n",
       "194 17  FALSE     0.0         \n",
       "195 17  FALSE     2.3         \n",
       "196 NA   TRUE     0.2         "
      ]
     },
     "metadata": {},
     "output_type": "display_data"
    }
   ],
   "source": [
    "players_simplified <- players |>\n",
    "    mutate(age = Age) |>\n",
    "    select(age, subscribe, played_hours)\n",
    "\n",
    "players_simplified"
   ]
  },
  {
   "cell_type": "markdown",
   "id": "0f511986-7cf4-45ef-ba2f-d6497ebda937",
   "metadata": {},
   "source": [
    "To further develop our understanding of the dataset, we will perform some summary statistics.\n",
    "\n",
    "Firstly, we calculate the averages of both quantitative variables using `summarize`."
   ]
  },
  {
   "cell_type": "code",
   "execution_count": 6,
   "id": "789549f1-46fe-41cc-8db8-7db3fad34f18",
   "metadata": {},
   "outputs": [
    {
     "data": {
      "text/html": [
       "<table class=\"dataframe\">\n",
       "<caption>A tibble: 1 × 2</caption>\n",
       "<thead>\n",
       "\t<tr><th scope=col>avg_hours</th><th scope=col>avg_age</th></tr>\n",
       "\t<tr><th scope=col>&lt;dbl&gt;</th><th scope=col>&lt;dbl&gt;</th></tr>\n",
       "</thead>\n",
       "<tbody>\n",
       "\t<tr><td>5.85</td><td>20.52</td></tr>\n",
       "</tbody>\n",
       "</table>\n"
      ],
      "text/latex": [
       "A tibble: 1 × 2\n",
       "\\begin{tabular}{ll}\n",
       " avg\\_hours & avg\\_age\\\\\n",
       " <dbl> & <dbl>\\\\\n",
       "\\hline\n",
       "\t 5.85 & 20.52\\\\\n",
       "\\end{tabular}\n"
      ],
      "text/markdown": [
       "\n",
       "A tibble: 1 × 2\n",
       "\n",
       "| avg_hours &lt;dbl&gt; | avg_age &lt;dbl&gt; |\n",
       "|---|---|\n",
       "| 5.85 | 20.52 |\n",
       "\n"
      ],
      "text/plain": [
       "  avg_hours avg_age\n",
       "1 5.85      20.52  "
      ]
     },
     "metadata": {},
     "output_type": "display_data"
    }
   ],
   "source": [
    "avg_played_hours <- players_simplified |>\n",
    "    summarize(avg_hours = mean(played_hours)) |>\n",
    "    pull()\n",
    "\n",
    "avg_age <- players_simplified |>\n",
    "    summarize(avg_age = mean(age, na.rm = TRUE)) |>\n",
    "    pull()\n",
    "\n",
    "averages <- tibble(avg_hours = round(avg_played_hours, 2), avg_age = round(avg_age, 2))\n",
    "averages"
   ]
  },
  {
   "cell_type": "markdown",
   "id": "3ed12bb8-37c4-40b2-b71e-480e848b6ed7",
   "metadata": {},
   "source": [
    "To help us discover patterns in the data before our analys, we create 3 summary plots:\n",
    "- A bar graph showing the average hours by subscription status\n",
    "- A histogram distribution of players' ages\n",
    "- A scatterplot showing age vs. played hours, colouring the dots by subscription status\n",
    "\n",
    "The bar graph first uses `group_by` and `summarize` to calculate the average hours played based on their subscription status. We then use `ggplot` to create the plot, classifying subscription status as *x* and average played hours as *y*. Next, we use `geom_bar`, classifying the *stat* argument as \"identity\" and adding a fill colour of #e87478 for aesthetic purposes. Finally, we add the x-label, y-label, and title using `labs` and change the text size using `theme`."
   ]
  },
  {
   "cell_type": "code",
   "execution_count": 5,
   "id": "7814c24b-aa76-4009-929a-baa154a614cf",
   "metadata": {},
   "outputs": [
    {
     "data": {
      "application/pdf": "[encoded data removed]",
      "image/jpeg": "[encoded data removed]",
      "image/png": "[encoded data removed]",
      "image/svg+xml": [
       "<?xml version=\"1.0\" encoding=\"UTF-8\"?>\n",
       "<svg xmlns=\"http://www.w3.org/2000/svg\" xmlns:xlink=\"http://www.w3.org/1999/xlink\" width=\"504\" height=\"504\" viewBox=\"0 0 504 504\">\n",
       "<defs>\n",
       "<g>\n",
       "<g id=\"glyph-0-0\">\n",
       "<path d=\"M 6.609375 -4.40625 C 6.609375 -3.5625 6.53125 -2.847656 6.375 -2.265625 C 6.21875 -1.691406 6 -1.226562 5.71875 -0.875 C 5.445312 -0.519531 5.125 -0.265625 4.75 -0.109375 C 4.375 0.046875 3.972656 0.125 3.546875 0.125 C 3.117188 0.125 2.71875 0.046875 2.34375 -0.109375 C 1.96875 -0.265625 1.644531 -0.519531 1.375 -0.875 C 1.101562 -1.226562 0.890625 -1.691406 0.734375 -2.265625 C 0.578125 -2.835938 0.5 -3.550781 0.5 -4.40625 C 0.5 -5.289062 0.578125 -6.023438 0.734375 -6.609375 C 0.890625 -7.191406 1.101562 -7.65625 1.375 -8 C 1.65625 -8.34375 1.984375 -8.582031 2.359375 -8.71875 C 2.734375 -8.863281 3.140625 -8.9375 3.578125 -8.9375 C 4.003906 -8.9375 4.398438 -8.863281 4.765625 -8.71875 C 5.128906 -8.582031 5.445312 -8.34375 5.71875 -8 C 6 -7.65625 6.21875 -7.191406 6.375 -6.609375 C 6.53125 -6.023438 6.609375 -5.289062 6.609375 -4.40625 Z M 5.46875 -4.40625 C 5.46875 -5.101562 5.425781 -5.679688 5.34375 -6.140625 C 5.257812 -6.609375 5.132812 -6.976562 4.96875 -7.25 C 4.8125 -7.53125 4.613281 -7.726562 4.375 -7.84375 C 4.144531 -7.957031 3.878906 -8.015625 3.578125 -8.015625 C 3.265625 -8.015625 2.984375 -7.957031 2.734375 -7.84375 C 2.492188 -7.726562 2.289062 -7.53125 2.125 -7.25 C 1.96875 -6.976562 1.847656 -6.609375 1.765625 -6.140625 C 1.679688 -5.679688 1.640625 -5.101562 1.640625 -4.40625 C 1.640625 -3.726562 1.679688 -3.15625 1.765625 -2.6875 C 1.847656 -2.226562 1.972656 -1.859375 2.140625 -1.578125 C 2.304688 -1.296875 2.503906 -1.09375 2.734375 -0.96875 C 2.972656 -0.851562 3.25 -0.796875 3.5625 -0.796875 C 3.851562 -0.796875 4.117188 -0.851562 4.359375 -0.96875 C 4.597656 -1.09375 4.796875 -1.296875 4.953125 -1.578125 C 5.117188 -1.859375 5.242188 -2.226562 5.328125 -2.6875 C 5.421875 -3.15625 5.46875 -3.726562 5.46875 -4.40625 Z M 5.46875 -4.40625 \"/>\n",
       "</g>\n",
       "<g id=\"glyph-0-1\">\n",
       "<path d=\"M 0.640625 0 L 0.640625 -0.796875 C 0.859375 -1.285156 1.117188 -1.710938 1.421875 -2.078125 C 1.722656 -2.453125 2.039062 -2.789062 2.375 -3.09375 C 2.71875 -3.394531 3.054688 -3.675781 3.390625 -3.9375 C 3.722656 -4.195312 4.019531 -4.453125 4.28125 -4.703125 C 4.550781 -4.960938 4.769531 -5.234375 4.9375 -5.515625 C 5.101562 -5.804688 5.1875 -6.128906 5.1875 -6.484375 C 5.1875 -6.734375 5.144531 -6.953125 5.0625 -7.140625 C 4.988281 -7.328125 4.878906 -7.484375 4.734375 -7.609375 C 4.597656 -7.742188 4.429688 -7.84375 4.234375 -7.90625 C 4.035156 -7.976562 3.816406 -8.015625 3.578125 -8.015625 C 3.347656 -8.015625 3.132812 -7.984375 2.9375 -7.921875 C 2.738281 -7.859375 2.5625 -7.765625 2.40625 -7.640625 C 2.257812 -7.515625 2.132812 -7.359375 2.03125 -7.171875 C 1.9375 -6.984375 1.875 -6.765625 1.84375 -6.515625 L 0.6875 -6.625 C 0.726562 -6.945312 0.816406 -7.242188 0.953125 -7.515625 C 1.085938 -7.796875 1.273438 -8.039062 1.515625 -8.25 C 1.765625 -8.46875 2.054688 -8.632812 2.390625 -8.75 C 2.734375 -8.875 3.128906 -8.9375 3.578125 -8.9375 C 4.015625 -8.9375 4.398438 -8.882812 4.734375 -8.78125 C 5.078125 -8.675781 5.367188 -8.519531 5.609375 -8.3125 C 5.847656 -8.113281 6.03125 -7.863281 6.15625 -7.5625 C 6.28125 -7.257812 6.34375 -6.910156 6.34375 -6.515625 C 6.34375 -6.222656 6.285156 -5.941406 6.171875 -5.671875 C 6.066406 -5.410156 5.925781 -5.160156 5.75 -4.921875 C 5.570312 -4.679688 5.363281 -4.445312 5.125 -4.21875 C 4.894531 -3.988281 4.65625 -3.765625 4.40625 -3.546875 C 4.15625 -3.335938 3.898438 -3.128906 3.640625 -2.921875 C 3.378906 -2.710938 3.132812 -2.5 2.90625 -2.28125 C 2.675781 -2.070312 2.472656 -1.859375 2.296875 -1.640625 C 2.117188 -1.421875 1.976562 -1.191406 1.875 -0.953125 L 6.46875 -0.953125 L 6.46875 0 Z M 0.640625 0 \"/>\n",
       "</g>\n",
       "<g id=\"glyph-0-2\">\n",
       "<path d=\"M 5.5 -2 L 5.5 0 L 4.4375 0 L 4.4375 -2 L 0.296875 -2 L 0.296875 -2.875 L 4.328125 -8.796875 L 5.5 -8.796875 L 5.5 -2.875 L 6.734375 -2.875 L 6.734375 -2 Z M 4.4375 -7.53125 C 4.4375 -7.507812 4.414062 -7.46875 4.375 -7.40625 C 4.34375 -7.351562 4.304688 -7.285156 4.265625 -7.203125 C 4.222656 -7.128906 4.179688 -7.050781 4.140625 -6.96875 C 4.097656 -6.894531 4.0625 -6.835938 4.03125 -6.796875 L 1.765625 -3.46875 C 1.742188 -3.4375 1.710938 -3.390625 1.671875 -3.328125 C 1.640625 -3.273438 1.601562 -3.222656 1.5625 -3.171875 C 1.519531 -3.117188 1.476562 -3.0625 1.4375 -3 C 1.394531 -2.945312 1.359375 -2.90625 1.328125 -2.875 L 4.4375 -2.875 Z M 4.4375 -7.53125 \"/>\n",
       "</g>\n",
       "<g id=\"glyph-0-3\">\n",
       "<path d=\"M 6.546875 -2.875 C 6.546875 -2.4375 6.484375 -2.03125 6.359375 -1.65625 C 6.242188 -1.289062 6.066406 -0.972656 5.828125 -0.703125 C 5.585938 -0.441406 5.289062 -0.238281 4.9375 -0.09375 C 4.582031 0.0507812 4.175781 0.125 3.71875 0.125 C 3.195312 0.125 2.742188 0.0234375 2.359375 -0.171875 C 1.984375 -0.367188 1.664062 -0.648438 1.40625 -1.015625 C 1.15625 -1.378906 0.96875 -1.828125 0.84375 -2.359375 C 0.71875 -2.898438 0.65625 -3.515625 0.65625 -4.203125 C 0.65625 -4.984375 0.722656 -5.664062 0.859375 -6.25 C 1.003906 -6.84375 1.210938 -7.335938 1.484375 -7.734375 C 1.753906 -8.128906 2.082031 -8.425781 2.46875 -8.625 C 2.863281 -8.832031 3.304688 -8.9375 3.796875 -8.9375 C 4.097656 -8.9375 4.378906 -8.90625 4.640625 -8.84375 C 4.898438 -8.78125 5.140625 -8.675781 5.359375 -8.53125 C 5.578125 -8.394531 5.765625 -8.210938 5.921875 -7.984375 C 6.085938 -7.753906 6.21875 -7.472656 6.3125 -7.140625 L 5.234375 -6.953125 C 5.117188 -7.328125 4.929688 -7.597656 4.671875 -7.765625 C 4.421875 -7.929688 4.125 -8.015625 3.78125 -8.015625 C 3.476562 -8.015625 3.203125 -7.941406 2.953125 -7.796875 C 2.703125 -7.648438 2.488281 -7.429688 2.3125 -7.140625 C 2.132812 -6.859375 2 -6.5 1.90625 -6.0625 C 1.8125 -5.625 1.765625 -5.113281 1.765625 -4.53125 C 1.972656 -4.90625 2.257812 -5.191406 2.625 -5.390625 C 3 -5.585938 3.425781 -5.6875 3.90625 -5.6875 C 4.300781 -5.6875 4.660156 -5.625 4.984375 -5.5 C 5.316406 -5.375 5.597656 -5.1875 5.828125 -4.9375 C 6.054688 -4.695312 6.234375 -4.398438 6.359375 -4.046875 C 6.484375 -3.703125 6.546875 -3.3125 6.546875 -2.875 Z M 5.40625 -2.828125 C 5.40625 -3.128906 5.367188 -3.40625 5.296875 -3.65625 C 5.222656 -3.90625 5.109375 -4.113281 4.953125 -4.28125 C 4.804688 -4.457031 4.625 -4.59375 4.40625 -4.6875 C 4.1875 -4.78125 3.929688 -4.828125 3.640625 -4.828125 C 3.429688 -4.828125 3.222656 -4.796875 3.015625 -4.734375 C 2.804688 -4.671875 2.617188 -4.570312 2.453125 -4.4375 C 2.285156 -4.300781 2.144531 -4.125 2.03125 -3.90625 C 1.925781 -3.6875 1.875 -3.414062 1.875 -3.09375 C 1.875 -2.769531 1.914062 -2.46875 2 -2.1875 C 2.082031 -1.90625 2.203125 -1.660156 2.359375 -1.453125 C 2.515625 -1.242188 2.703125 -1.078125 2.921875 -0.953125 C 3.148438 -0.835938 3.398438 -0.78125 3.671875 -0.78125 C 3.941406 -0.78125 4.179688 -0.828125 4.390625 -0.921875 C 4.609375 -1.015625 4.789062 -1.148438 4.9375 -1.328125 C 5.09375 -1.503906 5.207031 -1.71875 5.28125 -1.96875 C 5.363281 -2.226562 5.40625 -2.515625 5.40625 -2.828125 Z M 5.40625 -2.828125 \"/>\n",
       "</g>\n",
       "<g id=\"glyph-0-4\">\n",
       "<path d=\"M 6.5625 -2.453125 C 6.5625 -2.078125 6.5 -1.734375 6.375 -1.421875 C 6.257812 -1.109375 6.078125 -0.835938 5.828125 -0.609375 C 5.585938 -0.378906 5.28125 -0.195312 4.90625 -0.0625 C 4.53125 0.0625 4.082031 0.125 3.5625 0.125 C 3.039062 0.125 2.59375 0.0625 2.21875 -0.0625 C 1.84375 -0.195312 1.53125 -0.375 1.28125 -0.59375 C 1.03125 -0.820312 0.847656 -1.09375 0.734375 -1.40625 C 0.617188 -1.726562 0.5625 -2.070312 0.5625 -2.4375 C 0.5625 -2.757812 0.609375 -3.046875 0.703125 -3.296875 C 0.796875 -3.546875 0.925781 -3.757812 1.09375 -3.9375 C 1.257812 -4.125 1.445312 -4.269531 1.65625 -4.375 C 1.863281 -4.488281 2.082031 -4.566406 2.3125 -4.609375 L 2.3125 -4.625 C 2.0625 -4.6875 1.835938 -4.78125 1.640625 -4.90625 C 1.453125 -5.039062 1.289062 -5.195312 1.15625 -5.375 C 1.03125 -5.5625 0.929688 -5.765625 0.859375 -5.984375 C 0.796875 -6.203125 0.765625 -6.429688 0.765625 -6.671875 C 0.765625 -6.984375 0.820312 -7.273438 0.9375 -7.546875 C 1.0625 -7.816406 1.238281 -8.054688 1.46875 -8.265625 C 1.695312 -8.472656 1.984375 -8.632812 2.328125 -8.75 C 2.679688 -8.875 3.082031 -8.9375 3.53125 -8.9375 C 4.007812 -8.9375 4.425781 -8.875 4.78125 -8.75 C 5.132812 -8.632812 5.425781 -8.472656 5.65625 -8.265625 C 5.882812 -8.054688 6.054688 -7.8125 6.171875 -7.53125 C 6.285156 -7.257812 6.34375 -6.972656 6.34375 -6.671875 C 6.34375 -6.429688 6.304688 -6.195312 6.234375 -5.96875 C 6.171875 -5.75 6.070312 -5.546875 5.9375 -5.359375 C 5.8125 -5.179688 5.648438 -5.03125 5.453125 -4.90625 C 5.253906 -4.78125 5.03125 -4.691406 4.78125 -4.640625 L 4.78125 -4.625 C 5.03125 -4.582031 5.265625 -4.503906 5.484375 -4.390625 C 5.703125 -4.273438 5.890625 -4.128906 6.046875 -3.953125 C 6.203125 -3.773438 6.328125 -3.5625 6.421875 -3.3125 C 6.515625 -3.0625 6.5625 -2.773438 6.5625 -2.453125 Z M 5.171875 -6.609375 C 5.171875 -6.828125 5.140625 -7.023438 5.078125 -7.203125 C 5.023438 -7.390625 4.9375 -7.546875 4.8125 -7.671875 C 4.6875 -7.804688 4.519531 -7.910156 4.3125 -7.984375 C 4.101562 -8.054688 3.84375 -8.09375 3.53125 -8.09375 C 3.238281 -8.09375 2.988281 -8.054688 2.78125 -7.984375 C 2.582031 -7.910156 2.414062 -7.804688 2.28125 -7.671875 C 2.15625 -7.546875 2.0625 -7.390625 2 -7.203125 C 1.9375 -7.023438 1.90625 -6.828125 1.90625 -6.609375 C 1.90625 -6.429688 1.925781 -6.25 1.96875 -6.0625 C 2.019531 -5.882812 2.101562 -5.71875 2.21875 -5.5625 C 2.34375 -5.414062 2.507812 -5.296875 2.71875 -5.203125 C 2.9375 -5.109375 3.210938 -5.0625 3.546875 -5.0625 C 3.898438 -5.0625 4.179688 -5.109375 4.390625 -5.203125 C 4.609375 -5.296875 4.773438 -5.414062 4.890625 -5.5625 C 5.003906 -5.71875 5.078125 -5.882812 5.109375 -6.0625 C 5.148438 -6.25 5.171875 -6.429688 5.171875 -6.609375 Z M 5.390625 -2.5625 C 5.390625 -2.769531 5.359375 -2.972656 5.296875 -3.171875 C 5.242188 -3.367188 5.144531 -3.546875 5 -3.703125 C 4.863281 -3.859375 4.675781 -3.984375 4.4375 -4.078125 C 4.195312 -4.171875 3.894531 -4.21875 3.53125 -4.21875 C 3.207031 -4.21875 2.925781 -4.171875 2.6875 -4.078125 C 2.457031 -3.984375 2.269531 -3.859375 2.125 -3.703125 C 1.988281 -3.546875 1.882812 -3.363281 1.8125 -3.15625 C 1.75 -2.957031 1.71875 -2.75 1.71875 -2.53125 C 1.71875 -2.257812 1.75 -2.015625 1.8125 -1.796875 C 1.882812 -1.578125 1.992188 -1.382812 2.140625 -1.21875 C 2.285156 -1.0625 2.472656 -0.9375 2.703125 -0.84375 C 2.941406 -0.757812 3.234375 -0.71875 3.578125 -0.71875 C 3.921875 -0.71875 4.207031 -0.757812 4.4375 -0.84375 C 4.664062 -0.9375 4.851562 -1.0625 5 -1.21875 C 5.144531 -1.382812 5.242188 -1.578125 5.296875 -1.796875 C 5.359375 -2.023438 5.390625 -2.28125 5.390625 -2.5625 Z M 5.390625 -2.5625 \"/>\n",
       "</g>\n",
       "<g id=\"glyph-0-5\">\n",
       "<path d=\"M 2.25 -7.828125 L 2.25 -4.5625 L 7.15625 -4.5625 L 7.15625 -3.5625 L 2.25 -3.5625 L 2.25 0 L 1.046875 0 L 1.046875 -8.796875 L 7.296875 -8.796875 L 7.296875 -7.828125 Z M 2.25 -7.828125 \"/>\n",
       "</g>\n",
       "<g id=\"glyph-0-6\">\n",
       "<path d=\"M 7.296875 0 L 6.28125 -2.578125 L 2.28125 -2.578125 L 1.265625 0 L 0.03125 0 L 3.625 -8.796875 L 4.96875 -8.796875 L 8.515625 0 Z M 4.796875 -6.40625 C 4.734375 -6.570312 4.671875 -6.738281 4.609375 -6.90625 C 4.546875 -7.082031 4.488281 -7.238281 4.4375 -7.375 C 4.394531 -7.519531 4.359375 -7.640625 4.328125 -7.734375 C 4.296875 -7.828125 4.28125 -7.882812 4.28125 -7.90625 C 4.269531 -7.882812 4.25 -7.820312 4.21875 -7.71875 C 4.195312 -7.625 4.160156 -7.503906 4.109375 -7.359375 C 4.054688 -7.222656 4 -7.066406 3.9375 -6.890625 C 3.882812 -6.722656 3.828125 -6.5625 3.765625 -6.40625 L 2.640625 -3.5 L 5.9375 -3.5 Z M 4.796875 -6.40625 \"/>\n",
       "</g>\n",
       "<g id=\"glyph-0-7\">\n",
       "<path d=\"M 1.046875 0 L 1.046875 -8.796875 L 2.25 -8.796875 L 2.25 -0.96875 L 6.6875 -0.96875 L 6.6875 0 Z M 1.046875 0 \"/>\n",
       "</g>\n",
       "<g id=\"glyph-0-8\">\n",
       "<path d=\"M 7.953125 -2.4375 C 7.953125 -2.0625 7.878906 -1.71875 7.734375 -1.40625 C 7.585938 -1.09375 7.363281 -0.820312 7.0625 -0.59375 C 6.757812 -0.363281 6.378906 -0.1875 5.921875 -0.0625 C 5.472656 0.0625 4.9375 0.125 4.3125 0.125 C 3.21875 0.125 2.363281 -0.0664062 1.75 -0.453125 C 1.132812 -0.835938 0.742188 -1.390625 0.578125 -2.109375 L 1.734375 -2.34375 C 1.796875 -2.113281 1.882812 -1.90625 2 -1.71875 C 2.125 -1.53125 2.289062 -1.367188 2.5 -1.234375 C 2.707031 -1.097656 2.960938 -0.992188 3.265625 -0.921875 C 3.566406 -0.847656 3.929688 -0.8125 4.359375 -0.8125 C 4.710938 -0.8125 5.035156 -0.835938 5.328125 -0.890625 C 5.628906 -0.953125 5.882812 -1.046875 6.09375 -1.171875 C 6.300781 -1.296875 6.460938 -1.457031 6.578125 -1.65625 C 6.703125 -1.851562 6.765625 -2.09375 6.765625 -2.375 C 6.765625 -2.65625 6.695312 -2.882812 6.5625 -3.0625 C 6.4375 -3.25 6.253906 -3.398438 6.015625 -3.515625 C 5.773438 -3.628906 5.488281 -3.722656 5.15625 -3.796875 C 4.832031 -3.878906 4.472656 -3.96875 4.078125 -4.0625 C 3.828125 -4.113281 3.578125 -4.171875 3.328125 -4.234375 C 3.085938 -4.304688 2.851562 -4.382812 2.625 -4.46875 C 2.394531 -4.5625 2.179688 -4.664062 1.984375 -4.78125 C 1.785156 -4.90625 1.613281 -5.050781 1.46875 -5.21875 C 1.320312 -5.382812 1.207031 -5.578125 1.125 -5.796875 C 1.039062 -6.023438 1 -6.285156 1 -6.578125 C 1 -6.992188 1.082031 -7.347656 1.25 -7.640625 C 1.414062 -7.941406 1.648438 -8.1875 1.953125 -8.375 C 2.253906 -8.570312 2.609375 -8.710938 3.015625 -8.796875 C 3.421875 -8.890625 3.863281 -8.9375 4.34375 -8.9375 C 4.882812 -8.9375 5.347656 -8.890625 5.734375 -8.796875 C 6.117188 -8.710938 6.441406 -8.585938 6.703125 -8.421875 C 6.972656 -8.253906 7.1875 -8.039062 7.34375 -7.78125 C 7.507812 -7.53125 7.640625 -7.238281 7.734375 -6.90625 L 6.5625 -6.703125 C 6.507812 -6.910156 6.425781 -7.097656 6.3125 -7.265625 C 6.207031 -7.429688 6.0625 -7.570312 5.875 -7.6875 C 5.695312 -7.800781 5.476562 -7.882812 5.21875 -7.9375 C 4.96875 -8 4.671875 -8.03125 4.328125 -8.03125 C 3.921875 -8.03125 3.578125 -7.992188 3.296875 -7.921875 C 3.015625 -7.847656 2.789062 -7.75 2.625 -7.625 C 2.457031 -7.5 2.335938 -7.351562 2.265625 -7.1875 C 2.191406 -7.019531 2.15625 -6.835938 2.15625 -6.640625 C 2.15625 -6.378906 2.21875 -6.164062 2.34375 -6 C 2.476562 -5.832031 2.65625 -5.691406 2.875 -5.578125 C 3.101562 -5.460938 3.363281 -5.367188 3.65625 -5.296875 C 3.957031 -5.222656 4.273438 -5.144531 4.609375 -5.0625 C 4.878906 -5 5.148438 -4.9375 5.421875 -4.875 C 5.691406 -4.8125 5.945312 -4.734375 6.1875 -4.640625 C 6.4375 -4.554688 6.664062 -4.453125 6.875 -4.328125 C 7.09375 -4.210938 7.28125 -4.066406 7.4375 -3.890625 C 7.59375 -3.710938 7.71875 -3.503906 7.8125 -3.265625 C 7.90625 -3.023438 7.953125 -2.75 7.953125 -2.4375 Z M 7.953125 -2.4375 \"/>\n",
       "</g>\n",
       "<g id=\"glyph-0-9\">\n",
       "<path d=\"M 1.046875 0 L 1.046875 -8.796875 L 7.734375 -8.796875 L 7.734375 -7.828125 L 2.25 -7.828125 L 2.25 -5 L 7.359375 -5 L 7.359375 -4.046875 L 2.25 -4.046875 L 2.25 -0.96875 L 7.984375 -0.96875 L 7.984375 0 Z M 1.046875 0 \"/>\n",
       "</g>\n",
       "<g id=\"glyph-0-10\">\n",
       "<path d=\"M 4.5 -7.828125 L 4.5 0 L 3.3125 0 L 3.3125 -7.828125 L 0.28125 -7.828125 L 0.28125 -8.796875 L 7.515625 -8.796875 L 7.515625 -7.828125 Z M 4.5 -7.828125 \"/>\n",
       "</g>\n",
       "<g id=\"glyph-0-11\">\n",
       "<path d=\"M 7.265625 0 L 4.984375 -3.65625 L 2.25 -3.65625 L 2.25 0 L 1.046875 0 L 1.046875 -8.796875 L 5.1875 -8.796875 C 5.6875 -8.796875 6.128906 -8.738281 6.515625 -8.625 C 6.898438 -8.507812 7.222656 -8.34375 7.484375 -8.125 C 7.753906 -7.914062 7.957031 -7.65625 8.09375 -7.34375 C 8.226562 -7.03125 8.296875 -6.675781 8.296875 -6.28125 C 8.296875 -6.007812 8.253906 -5.738281 8.171875 -5.46875 C 8.085938 -5.195312 7.957031 -4.945312 7.78125 -4.71875 C 7.613281 -4.488281 7.394531 -4.289062 7.125 -4.125 C 6.851562 -3.96875 6.53125 -3.859375 6.15625 -3.796875 L 8.640625 0 Z M 7.09375 -6.28125 C 7.09375 -6.539062 7.046875 -6.769531 6.953125 -6.96875 C 6.867188 -7.164062 6.738281 -7.328125 6.5625 -7.453125 C 6.382812 -7.585938 6.171875 -7.6875 5.921875 -7.75 C 5.671875 -7.8125 5.390625 -7.84375 5.078125 -7.84375 L 2.25 -7.84375 L 2.25 -4.59375 L 5.125 -4.59375 C 5.46875 -4.59375 5.765625 -4.632812 6.015625 -4.71875 C 6.265625 -4.8125 6.46875 -4.929688 6.625 -5.078125 C 6.78125 -5.234375 6.894531 -5.410156 6.96875 -5.609375 C 7.050781 -5.816406 7.09375 -6.039062 7.09375 -6.28125 Z M 7.09375 -6.28125 \"/>\n",
       "</g>\n",
       "<g id=\"glyph-0-12\">\n",
       "<path d=\"M 4.5625 0.125 C 4.082031 0.125 3.625 0.0625 3.1875 -0.0625 C 2.757812 -0.195312 2.378906 -0.398438 2.046875 -0.671875 C 1.722656 -0.941406 1.460938 -1.285156 1.265625 -1.703125 C 1.078125 -2.128906 0.984375 -2.628906 0.984375 -3.203125 L 0.984375 -8.796875 L 2.1875 -8.796875 L 2.1875 -3.296875 C 2.1875 -2.847656 2.242188 -2.46875 2.359375 -2.15625 C 2.472656 -1.851562 2.632812 -1.601562 2.84375 -1.40625 C 3.0625 -1.207031 3.316406 -1.0625 3.609375 -0.96875 C 3.898438 -0.882812 4.21875 -0.84375 4.5625 -0.84375 C 4.90625 -0.84375 5.226562 -0.890625 5.53125 -0.984375 C 5.832031 -1.078125 6.097656 -1.222656 6.328125 -1.421875 C 6.554688 -1.617188 6.734375 -1.878906 6.859375 -2.203125 C 6.992188 -2.523438 7.0625 -2.914062 7.0625 -3.375 L 7.0625 -8.796875 L 8.25 -8.796875 L 8.25 -3.3125 C 8.25 -2.726562 8.148438 -2.21875 7.953125 -1.78125 C 7.765625 -1.351562 7.503906 -0.992188 7.171875 -0.703125 C 6.835938 -0.421875 6.445312 -0.210938 6 -0.078125 C 5.550781 0.0546875 5.070312 0.125 4.5625 0.125 Z M 4.5625 0.125 \"/>\n",
       "</g>\n",
       "<g id=\"glyph-1-0\">\n",
       "<path d=\"M 9.9375 -3.046875 C 9.9375 -2.578125 9.847656 -2.144531 9.671875 -1.75 C 9.492188 -1.363281 9.21875 -1.03125 8.84375 -0.75 C 8.46875 -0.46875 7.992188 -0.242188 7.421875 -0.078125 C 6.847656 0.078125 6.171875 0.15625 5.390625 0.15625 C 4.023438 0.15625 2.957031 -0.0820312 2.1875 -0.5625 C 1.425781 -1.039062 0.941406 -1.734375 0.734375 -2.640625 L 2.171875 -2.9375 C 2.242188 -2.644531 2.351562 -2.378906 2.5 -2.140625 C 2.65625 -1.910156 2.863281 -1.710938 3.125 -1.546875 C 3.382812 -1.378906 3.703125 -1.25 4.078125 -1.15625 C 4.460938 -1.0625 4.921875 -1.015625 5.453125 -1.015625 C 5.890625 -1.015625 6.289062 -1.050781 6.65625 -1.125 C 7.03125 -1.195312 7.347656 -1.3125 7.609375 -1.46875 C 7.878906 -1.625 8.085938 -1.828125 8.234375 -2.078125 C 8.390625 -2.328125 8.46875 -2.625 8.46875 -2.96875 C 8.46875 -3.320312 8.382812 -3.609375 8.21875 -3.828125 C 8.050781 -4.054688 7.816406 -4.242188 7.515625 -4.390625 C 7.222656 -4.535156 6.867188 -4.65625 6.453125 -4.75 C 6.046875 -4.851562 5.59375 -4.960938 5.09375 -5.078125 C 4.789062 -5.148438 4.484375 -5.222656 4.171875 -5.296875 C 3.859375 -5.378906 3.5625 -5.476562 3.28125 -5.59375 C 3 -5.707031 2.734375 -5.835938 2.484375 -5.984375 C 2.234375 -6.140625 2.015625 -6.320312 1.828125 -6.53125 C 1.648438 -6.738281 1.507812 -6.984375 1.40625 -7.265625 C 1.300781 -7.546875 1.25 -7.867188 1.25 -8.234375 C 1.25 -8.753906 1.351562 -9.195312 1.5625 -9.5625 C 1.769531 -9.9375 2.0625 -10.242188 2.4375 -10.484375 C 2.8125 -10.722656 3.253906 -10.894531 3.765625 -11 C 4.273438 -11.113281 4.828125 -11.171875 5.421875 -11.171875 C 6.109375 -11.171875 6.691406 -11.117188 7.171875 -11.015625 C 7.660156 -10.910156 8.070312 -10.75 8.40625 -10.53125 C 8.738281 -10.320312 9.003906 -10.054688 9.203125 -9.734375 C 9.398438 -9.421875 9.5625 -9.054688 9.6875 -8.640625 L 8.21875 -8.390625 C 8.144531 -8.648438 8.035156 -8.882812 7.890625 -9.09375 C 7.753906 -9.300781 7.570312 -9.472656 7.34375 -9.609375 C 7.125 -9.753906 6.851562 -9.863281 6.53125 -9.9375 C 6.21875 -10.007812 5.84375 -10.046875 5.40625 -10.046875 C 4.894531 -10.046875 4.46875 -10 4.125 -9.90625 C 3.78125 -9.820312 3.5 -9.703125 3.28125 -9.546875 C 3.070312 -9.390625 2.921875 -9.203125 2.828125 -8.984375 C 2.742188 -8.773438 2.703125 -8.550781 2.703125 -8.3125 C 2.703125 -7.976562 2.78125 -7.707031 2.9375 -7.5 C 3.101562 -7.289062 3.328125 -7.113281 3.609375 -6.96875 C 3.890625 -6.832031 4.210938 -6.71875 4.578125 -6.625 C 4.953125 -6.53125 5.347656 -6.4375 5.765625 -6.34375 C 6.109375 -6.257812 6.445312 -6.175781 6.78125 -6.09375 C 7.113281 -6.019531 7.429688 -5.925781 7.734375 -5.8125 C 8.046875 -5.695312 8.335938 -5.5625 8.609375 -5.40625 C 8.878906 -5.257812 9.113281 -5.078125 9.3125 -4.859375 C 9.507812 -4.640625 9.660156 -4.378906 9.765625 -4.078125 C 9.878906 -3.785156 9.9375 -3.441406 9.9375 -3.046875 Z M 9.9375 -3.046875 \"/>\n",
       "</g>\n",
       "<g id=\"glyph-1-1\">\n",
       "<path d=\"M 2.453125 -8.453125 L 2.453125 -3.09375 C 2.453125 -2.6875 2.484375 -2.34375 2.546875 -2.0625 C 2.609375 -1.789062 2.707031 -1.566406 2.84375 -1.390625 C 2.976562 -1.222656 3.15625 -1.101562 3.375 -1.03125 C 3.59375 -0.96875 3.867188 -0.9375 4.203125 -0.9375 C 4.535156 -0.9375 4.832031 -0.992188 5.09375 -1.109375 C 5.363281 -1.222656 5.59375 -1.390625 5.78125 -1.609375 C 5.976562 -1.835938 6.128906 -2.113281 6.234375 -2.4375 C 6.335938 -2.757812 6.390625 -3.132812 6.390625 -3.5625 L 6.390625 -8.453125 L 7.796875 -8.453125 L 7.796875 -1.8125 C 7.796875 -1.632812 7.796875 -1.445312 7.796875 -1.25 C 7.796875 -1.050781 7.796875 -0.863281 7.796875 -0.6875 C 7.804688 -0.519531 7.8125 -0.375 7.8125 -0.25 C 7.820312 -0.125 7.832031 -0.0390625 7.84375 0 L 6.515625 0 C 6.503906 -0.03125 6.492188 -0.101562 6.484375 -0.21875 C 6.484375 -0.332031 6.476562 -0.460938 6.46875 -0.609375 C 6.46875 -0.753906 6.460938 -0.90625 6.453125 -1.0625 C 6.453125 -1.21875 6.453125 -1.347656 6.453125 -1.453125 L 6.421875 -1.453125 C 6.285156 -1.203125 6.132812 -0.976562 5.96875 -0.78125 C 5.8125 -0.582031 5.625 -0.414062 5.40625 -0.28125 C 5.195312 -0.144531 4.953125 -0.0390625 4.671875 0.03125 C 4.398438 0.113281 4.082031 0.15625 3.71875 0.15625 C 3.25 0.15625 2.84375 0.0976562 2.5 -0.015625 C 2.164062 -0.128906 1.890625 -0.304688 1.671875 -0.546875 C 1.453125 -0.785156 1.289062 -1.09375 1.1875 -1.46875 C 1.09375 -1.84375 1.046875 -2.296875 1.046875 -2.828125 L 1.046875 -8.453125 Z M 2.453125 -8.453125 \"/>\n",
       "</g>\n",
       "<g id=\"glyph-1-2\">\n",
       "<path d=\"M 8.234375 -4.265625 C 8.234375 -1.316406 7.195312 0.15625 5.125 0.15625 C 4.476562 0.15625 3.941406 0.0390625 3.515625 -0.1875 C 3.097656 -0.425781 2.753906 -0.800781 2.484375 -1.3125 L 2.46875 -1.3125 C 2.46875 -1.175781 2.460938 -1.035156 2.453125 -0.890625 C 2.453125 -0.742188 2.445312 -0.609375 2.4375 -0.484375 C 2.425781 -0.359375 2.414062 -0.25 2.40625 -0.15625 C 2.40625 -0.0703125 2.398438 -0.0195312 2.390625 0 L 1.03125 0 C 1.039062 -0.0507812 1.046875 -0.128906 1.046875 -0.234375 C 1.054688 -0.347656 1.0625 -0.484375 1.0625 -0.640625 C 1.070312 -0.796875 1.078125 -0.96875 1.078125 -1.15625 C 1.078125 -1.34375 1.078125 -1.539062 1.078125 -1.75 L 1.078125 -11.59375 L 2.484375 -11.59375 L 2.484375 -8.296875 C 2.484375 -8.140625 2.484375 -7.988281 2.484375 -7.84375 C 2.484375 -7.695312 2.476562 -7.570312 2.46875 -7.46875 C 2.46875 -7.332031 2.460938 -7.207031 2.453125 -7.09375 L 2.484375 -7.09375 C 2.742188 -7.632812 3.085938 -8.019531 3.515625 -8.25 C 3.953125 -8.488281 4.488281 -8.609375 5.125 -8.609375 C 6.1875 -8.609375 6.96875 -8.25 7.46875 -7.53125 C 7.976562 -6.8125 8.234375 -5.722656 8.234375 -4.265625 Z M 6.75 -4.21875 C 6.75 -4.800781 6.710938 -5.300781 6.640625 -5.71875 C 6.566406 -6.132812 6.445312 -6.476562 6.28125 -6.75 C 6.125 -7.019531 5.921875 -7.21875 5.671875 -7.34375 C 5.421875 -7.46875 5.117188 -7.53125 4.765625 -7.53125 C 4.390625 -7.53125 4.0625 -7.46875 3.78125 -7.34375 C 3.5 -7.226562 3.257812 -7.035156 3.0625 -6.765625 C 2.875 -6.503906 2.726562 -6.15625 2.625 -5.71875 C 2.53125 -5.289062 2.484375 -4.765625 2.484375 -4.140625 C 2.484375 -3.535156 2.53125 -3.023438 2.625 -2.609375 C 2.726562 -2.203125 2.875 -1.867188 3.0625 -1.609375 C 3.257812 -1.347656 3.5 -1.160156 3.78125 -1.046875 C 4.0625 -0.941406 4.382812 -0.890625 4.75 -0.890625 C 5.09375 -0.890625 5.390625 -0.945312 5.640625 -1.0625 C 5.890625 -1.1875 6.097656 -1.378906 6.265625 -1.640625 C 6.429688 -1.910156 6.550781 -2.253906 6.625 -2.671875 C 6.707031 -3.097656 6.75 -3.613281 6.75 -4.21875 Z M 6.75 -4.21875 \"/>\n",
       "</g>\n",
       "<g id=\"glyph-1-3\">\n",
       "<path d=\"M 7.421875 -2.34375 C 7.421875 -1.945312 7.34375 -1.59375 7.1875 -1.28125 C 7.039062 -0.96875 6.820312 -0.707031 6.53125 -0.5 C 6.238281 -0.289062 5.878906 -0.128906 5.453125 -0.015625 C 5.023438 0.0976562 4.539062 0.15625 4 0.15625 C 3.507812 0.15625 3.066406 0.113281 2.671875 0.03125 C 2.273438 -0.0390625 1.925781 -0.160156 1.625 -0.328125 C 1.332031 -0.492188 1.085938 -0.710938 0.890625 -0.984375 C 0.691406 -1.253906 0.546875 -1.585938 0.453125 -1.984375 L 1.6875 -2.234375 C 1.8125 -1.773438 2.0625 -1.441406 2.4375 -1.234375 C 2.8125 -1.023438 3.332031 -0.921875 4 -0.921875 C 4.300781 -0.921875 4.578125 -0.941406 4.828125 -0.984375 C 5.078125 -1.023438 5.289062 -1.09375 5.46875 -1.1875 C 5.65625 -1.289062 5.800781 -1.425781 5.90625 -1.59375 C 6.007812 -1.769531 6.0625 -1.984375 6.0625 -2.234375 C 6.0625 -2.484375 6 -2.691406 5.875 -2.859375 C 5.757812 -3.023438 5.59375 -3.160156 5.375 -3.265625 C 5.164062 -3.378906 4.90625 -3.472656 4.59375 -3.546875 C 4.289062 -3.628906 3.957031 -3.722656 3.59375 -3.828125 C 3.257812 -3.910156 2.925781 -4.003906 2.59375 -4.109375 C 2.257812 -4.222656 1.957031 -4.367188 1.6875 -4.546875 C 1.414062 -4.734375 1.195312 -4.957031 1.03125 -5.21875 C 0.863281 -5.488281 0.78125 -5.820312 0.78125 -6.21875 C 0.78125 -6.988281 1.054688 -7.578125 1.609375 -7.984375 C 2.160156 -8.390625 2.960938 -8.59375 4.015625 -8.59375 C 4.941406 -8.59375 5.679688 -8.425781 6.234375 -8.09375 C 6.785156 -7.769531 7.132812 -7.242188 7.28125 -6.515625 L 6.015625 -6.359375 C 5.960938 -6.578125 5.875 -6.757812 5.75 -6.90625 C 5.625 -7.0625 5.472656 -7.179688 5.296875 -7.265625 C 5.117188 -7.359375 4.921875 -7.425781 4.703125 -7.46875 C 4.484375 -7.507812 4.253906 -7.53125 4.015625 -7.53125 C 3.378906 -7.53125 2.910156 -7.429688 2.609375 -7.234375 C 2.304688 -7.046875 2.15625 -6.753906 2.15625 -6.359375 C 2.15625 -6.128906 2.207031 -5.941406 2.3125 -5.796875 C 2.425781 -5.648438 2.582031 -5.523438 2.78125 -5.421875 C 2.988281 -5.316406 3.234375 -5.226562 3.515625 -5.15625 C 3.796875 -5.082031 4.101562 -5.003906 4.4375 -4.921875 C 4.664062 -4.859375 4.894531 -4.796875 5.125 -4.734375 C 5.363281 -4.671875 5.59375 -4.59375 5.8125 -4.5 C 6.03125 -4.40625 6.238281 -4.296875 6.4375 -4.171875 C 6.632812 -4.054688 6.804688 -3.910156 6.953125 -3.734375 C 7.097656 -3.566406 7.210938 -3.367188 7.296875 -3.140625 C 7.378906 -2.910156 7.421875 -2.644531 7.421875 -2.34375 Z M 7.421875 -2.34375 \"/>\n",
       "</g>\n",
       "<g id=\"glyph-1-4\">\n",
       "<path d=\"M 2.15625 -4.265625 C 2.15625 -3.785156 2.1875 -3.34375 2.25 -2.9375 C 2.320312 -2.53125 2.441406 -2.175781 2.609375 -1.875 C 2.773438 -1.582031 2.992188 -1.351562 3.265625 -1.1875 C 3.546875 -1.03125 3.882812 -0.953125 4.28125 -0.953125 C 4.78125 -0.953125 5.195312 -1.085938 5.53125 -1.359375 C 5.875 -1.628906 6.082031 -2.046875 6.15625 -2.609375 L 7.578125 -2.515625 C 7.535156 -2.171875 7.4375 -1.835938 7.28125 -1.515625 C 7.125 -1.191406 6.910156 -0.90625 6.640625 -0.65625 C 6.367188 -0.414062 6.039062 -0.21875 5.65625 -0.0625 C 5.269531 0.0820312 4.828125 0.15625 4.328125 0.15625 C 3.660156 0.15625 3.09375 0.046875 2.625 -0.171875 C 2.164062 -0.398438 1.789062 -0.710938 1.5 -1.109375 C 1.21875 -1.503906 1.007812 -1.96875 0.875 -2.5 C 0.75 -3.03125 0.6875 -3.609375 0.6875 -4.234375 C 0.6875 -4.804688 0.734375 -5.304688 0.828125 -5.734375 C 0.921875 -6.171875 1.050781 -6.550781 1.21875 -6.875 C 1.382812 -7.207031 1.582031 -7.484375 1.8125 -7.703125 C 2.039062 -7.921875 2.289062 -8.097656 2.5625 -8.234375 C 2.832031 -8.367188 3.113281 -8.460938 3.40625 -8.515625 C 3.707031 -8.578125 4.007812 -8.609375 4.3125 -8.609375 C 4.78125 -8.609375 5.195312 -8.539062 5.5625 -8.40625 C 5.9375 -8.28125 6.257812 -8.101562 6.53125 -7.875 C 6.800781 -7.65625 7.019531 -7.390625 7.1875 -7.078125 C 7.351562 -6.773438 7.46875 -6.445312 7.53125 -6.09375 L 6.09375 -5.984375 C 6.019531 -6.453125 5.832031 -6.820312 5.53125 -7.09375 C 5.238281 -7.375 4.816406 -7.515625 4.265625 -7.515625 C 3.867188 -7.515625 3.535156 -7.445312 3.265625 -7.3125 C 2.992188 -7.175781 2.773438 -6.972656 2.609375 -6.703125 C 2.441406 -6.441406 2.320312 -6.109375 2.25 -5.703125 C 2.1875 -5.296875 2.15625 -4.816406 2.15625 -4.265625 Z M 2.15625 -4.265625 \"/>\n",
       "</g>\n",
       "<g id=\"glyph-1-5\">\n",
       "<path d=\"M 1.109375 0 L 1.109375 -6.484375 C 1.109375 -6.660156 1.109375 -6.84375 1.109375 -7.03125 C 1.109375 -7.21875 1.101562 -7.394531 1.09375 -7.5625 C 1.09375 -7.738281 1.085938 -7.898438 1.078125 -8.046875 C 1.078125 -8.203125 1.070312 -8.335938 1.0625 -8.453125 L 2.390625 -8.453125 C 2.398438 -8.335938 2.40625 -8.203125 2.40625 -8.046875 C 2.414062 -7.890625 2.425781 -7.726562 2.4375 -7.5625 C 2.445312 -7.40625 2.453125 -7.253906 2.453125 -7.109375 C 2.453125 -6.960938 2.453125 -6.835938 2.453125 -6.734375 L 2.484375 -6.734375 C 2.585938 -7.054688 2.691406 -7.332031 2.796875 -7.5625 C 2.910156 -7.800781 3.039062 -8 3.1875 -8.15625 C 3.34375 -8.3125 3.523438 -8.425781 3.734375 -8.5 C 3.941406 -8.570312 4.195312 -8.609375 4.5 -8.609375 C 4.613281 -8.609375 4.722656 -8.597656 4.828125 -8.578125 C 4.929688 -8.566406 5.007812 -8.550781 5.0625 -8.53125 L 5.0625 -7.25 C 4.96875 -7.269531 4.859375 -7.285156 4.734375 -7.296875 C 4.609375 -7.316406 4.46875 -7.328125 4.3125 -7.328125 C 3.988281 -7.328125 3.710938 -7.253906 3.484375 -7.109375 C 3.265625 -6.960938 3.082031 -6.757812 2.9375 -6.5 C 2.789062 -6.238281 2.679688 -5.929688 2.609375 -5.578125 C 2.546875 -5.222656 2.515625 -4.832031 2.515625 -4.40625 L 2.515625 0 Z M 1.109375 0 \"/>\n",
       "</g>\n",
       "<g id=\"glyph-1-6\">\n",
       "<path d=\"M 1.078125 -10.25 L 1.078125 -11.59375 L 2.484375 -11.59375 L 2.484375 -10.25 Z M 1.078125 0 L 1.078125 -8.453125 L 2.484375 -8.453125 L 2.484375 0 Z M 1.078125 0 \"/>\n",
       "</g>\n",
       "<g id=\"glyph-1-7\">\n",
       "<path d=\"M 2.15625 -3.9375 C 2.15625 -3.488281 2.203125 -3.078125 2.296875 -2.703125 C 2.390625 -2.335938 2.53125 -2.019531 2.71875 -1.75 C 2.90625 -1.476562 3.144531 -1.269531 3.4375 -1.125 C 3.738281 -0.976562 4.097656 -0.90625 4.515625 -0.90625 C 5.128906 -0.90625 5.617188 -1.023438 5.984375 -1.265625 C 6.347656 -1.515625 6.597656 -1.828125 6.734375 -2.203125 L 7.96875 -1.84375 C 7.875 -1.613281 7.75 -1.378906 7.59375 -1.140625 C 7.4375 -0.898438 7.222656 -0.6875 6.953125 -0.5 C 6.691406 -0.3125 6.359375 -0.15625 5.953125 -0.03125 C 5.554688 0.09375 5.078125 0.15625 4.515625 0.15625 C 3.265625 0.15625 2.3125 -0.210938 1.65625 -0.953125 C 1.007812 -1.703125 0.6875 -2.8125 0.6875 -4.28125 C 0.6875 -5.070312 0.785156 -5.742188 0.984375 -6.296875 C 1.179688 -6.847656 1.453125 -7.296875 1.796875 -7.640625 C 2.140625 -7.984375 2.539062 -8.226562 3 -8.375 C 3.457031 -8.53125 3.945312 -8.609375 4.46875 -8.609375 C 5.175781 -8.609375 5.765625 -8.492188 6.234375 -8.265625 C 6.710938 -8.035156 7.097656 -7.71875 7.390625 -7.3125 C 7.679688 -6.914062 7.882812 -6.441406 8 -5.890625 C 8.125 -5.347656 8.1875 -4.757812 8.1875 -4.125 L 8.1875 -3.9375 Z M 6.734375 -5.015625 C 6.660156 -5.898438 6.4375 -6.546875 6.0625 -6.953125 C 5.6875 -7.367188 5.144531 -7.578125 4.4375 -7.578125 C 4.207031 -7.578125 3.960938 -7.535156 3.703125 -7.453125 C 3.441406 -7.378906 3.203125 -7.242188 2.984375 -7.046875 C 2.765625 -6.859375 2.578125 -6.597656 2.421875 -6.265625 C 2.273438 -5.941406 2.191406 -5.523438 2.171875 -5.015625 Z M 6.734375 -5.015625 \"/>\n",
       "</g>\n",
       "<g id=\"glyph-1-8\">\n",
       "<path d=\"M 6.421875 -1.359375 C 6.160156 -0.816406 5.8125 -0.425781 5.375 -0.1875 C 4.945312 0.0390625 4.414062 0.15625 3.78125 0.15625 C 2.71875 0.15625 1.929688 -0.203125 1.421875 -0.921875 C 0.921875 -1.640625 0.671875 -2.726562 0.671875 -4.1875 C 0.671875 -7.132812 1.707031 -8.609375 3.78125 -8.609375 C 4.425781 -8.609375 4.960938 -8.488281 5.390625 -8.25 C 5.816406 -8.019531 6.160156 -7.648438 6.421875 -7.140625 L 6.4375 -7.140625 C 6.4375 -7.191406 6.429688 -7.273438 6.421875 -7.390625 C 6.421875 -7.503906 6.421875 -7.617188 6.421875 -7.734375 C 6.421875 -7.859375 6.421875 -7.972656 6.421875 -8.078125 C 6.421875 -8.191406 6.421875 -8.273438 6.421875 -8.328125 L 6.421875 -11.59375 L 7.828125 -11.59375 L 7.828125 -1.75 C 7.828125 -1.539062 7.828125 -1.34375 7.828125 -1.15625 C 7.828125 -0.96875 7.828125 -0.796875 7.828125 -0.640625 C 7.835938 -0.484375 7.84375 -0.347656 7.84375 -0.234375 C 7.851562 -0.128906 7.863281 -0.0507812 7.875 0 L 6.53125 0 C 6.519531 -0.0507812 6.507812 -0.125 6.5 -0.21875 C 6.488281 -0.320312 6.476562 -0.4375 6.46875 -0.5625 C 6.46875 -0.6875 6.460938 -0.816406 6.453125 -0.953125 C 6.453125 -1.085938 6.453125 -1.222656 6.453125 -1.359375 Z M 2.15625 -4.234375 C 2.15625 -3.648438 2.191406 -3.148438 2.265625 -2.734375 C 2.335938 -2.316406 2.453125 -1.972656 2.609375 -1.703125 C 2.773438 -1.441406 2.984375 -1.25 3.234375 -1.125 C 3.484375 -1 3.785156 -0.9375 4.140625 -0.9375 C 4.515625 -0.9375 4.84375 -0.992188 5.125 -1.109375 C 5.40625 -1.234375 5.640625 -1.425781 5.828125 -1.6875 C 6.023438 -1.957031 6.171875 -2.304688 6.265625 -2.734375 C 6.367188 -3.171875 6.421875 -3.703125 6.421875 -4.328125 C 6.421875 -4.929688 6.367188 -5.4375 6.265625 -5.84375 C 6.171875 -6.257812 6.023438 -6.59375 5.828125 -6.84375 C 5.640625 -7.101562 5.40625 -7.289062 5.125 -7.40625 C 4.84375 -7.519531 4.519531 -7.578125 4.15625 -7.578125 C 3.8125 -7.578125 3.515625 -7.515625 3.265625 -7.390625 C 3.015625 -7.273438 2.804688 -7.082031 2.640625 -6.8125 C 2.472656 -6.550781 2.347656 -6.207031 2.265625 -5.78125 C 2.191406 -5.351562 2.15625 -4.835938 2.15625 -4.234375 Z M 2.15625 -4.234375 \"/>\n",
       "</g>\n",
       "<g id=\"glyph-1-9\">\n",
       "</g>\n",
       "<g id=\"glyph-1-10\">\n",
       "<path d=\"M 1 -4.15625 C 1 -4.882812 1.050781 -5.578125 1.15625 -6.234375 C 1.269531 -6.898438 1.441406 -7.535156 1.671875 -8.140625 C 1.910156 -8.753906 2.210938 -9.347656 2.578125 -9.921875 C 2.941406 -10.492188 3.375 -11.050781 3.875 -11.59375 L 5.234375 -11.59375 C 4.742188 -11.050781 4.320312 -10.488281 3.96875 -9.90625 C 3.613281 -9.332031 3.320312 -8.738281 3.09375 -8.125 C 2.863281 -7.519531 2.691406 -6.882812 2.578125 -6.21875 C 2.460938 -5.5625 2.40625 -4.867188 2.40625 -4.140625 C 2.40625 -3.421875 2.460938 -2.726562 2.578125 -2.0625 C 2.691406 -1.40625 2.863281 -0.765625 3.09375 -0.140625 C 3.320312 0.472656 3.613281 1.066406 3.96875 1.640625 C 4.320312 2.210938 4.742188 2.769531 5.234375 3.3125 L 3.875 3.3125 C 3.375 2.769531 2.941406 2.210938 2.578125 1.640625 C 2.210938 1.066406 1.910156 0.472656 1.671875 -0.140625 C 1.441406 -0.753906 1.269531 -1.390625 1.15625 -2.046875 C 1.050781 -2.703125 1 -3.394531 1 -4.125 Z M 1 -4.15625 \"/>\n",
       "</g>\n",
       "<g id=\"glyph-1-11\">\n",
       "<path d=\"M 5.625 -9.796875 L 5.625 0 L 4.140625 0 L 4.140625 -9.796875 L 0.359375 -9.796875 L 0.359375 -11.015625 L 9.40625 -11.015625 L 9.40625 -9.796875 Z M 5.625 -9.796875 \"/>\n",
       "</g>\n",
       "<g id=\"glyph-1-12\">\n",
       "<path d=\"M 0 0.15625 L 3.21875 -11.59375 L 4.453125 -11.59375 L 1.265625 0.15625 Z M 0 0.15625 \"/>\n",
       "</g>\n",
       "<g id=\"glyph-1-13\">\n",
       "<path d=\"M 2.8125 -9.796875 L 2.8125 -5.703125 L 8.953125 -5.703125 L 8.953125 -4.46875 L 2.8125 -4.46875 L 2.8125 0 L 1.3125 0 L 1.3125 -11.015625 L 9.140625 -11.015625 L 9.140625 -9.796875 Z M 2.8125 -9.796875 \"/>\n",
       "</g>\n",
       "<g id=\"glyph-1-14\">\n",
       "<path d=\"M 4.34375 -4.125 C 4.34375 -3.394531 4.285156 -2.703125 4.171875 -2.046875 C 4.066406 -1.390625 3.894531 -0.753906 3.65625 -0.140625 C 3.425781 0.472656 3.128906 1.066406 2.765625 1.640625 C 2.398438 2.210938 1.960938 2.769531 1.453125 3.3125 L 0.09375 3.3125 C 0.582031 2.769531 1.003906 2.210938 1.359375 1.640625 C 1.722656 1.066406 2.019531 0.472656 2.25 -0.140625 C 2.476562 -0.765625 2.644531 -1.40625 2.75 -2.0625 C 2.863281 -2.726562 2.921875 -3.421875 2.921875 -4.140625 C 2.921875 -4.867188 2.863281 -5.5625 2.75 -6.21875 C 2.644531 -6.882812 2.476562 -7.519531 2.25 -8.125 C 2.019531 -8.738281 1.722656 -9.332031 1.359375 -9.90625 C 1.003906 -10.488281 0.582031 -11.050781 0.09375 -11.59375 L 1.453125 -11.59375 C 1.960938 -11.050781 2.398438 -10.492188 2.765625 -9.921875 C 3.128906 -9.347656 3.425781 -8.753906 3.65625 -8.140625 C 3.894531 -7.535156 4.066406 -6.898438 4.171875 -6.234375 C 4.285156 -5.578125 4.34375 -4.882812 4.34375 -4.15625 Z M 4.34375 -4.125 \"/>\n",
       "</g>\n",
       "<g id=\"glyph-2-0\">\n",
       "<path d=\"M 0 -9.125 L -3.21875 -7.859375 L -3.21875 -2.84375 L 0 -1.578125 L 0 -0.03125 L -11.015625 -4.53125 L -11.015625 -6.21875 L 0 -10.640625 Z M -8.015625 -6 C -8.222656 -5.914062 -8.429688 -5.835938 -8.640625 -5.765625 C -8.859375 -5.691406 -9.054688 -5.625 -9.234375 -5.5625 C -9.410156 -5.507812 -9.554688 -5.460938 -9.671875 -5.421875 C -9.785156 -5.378906 -9.859375 -5.359375 -9.890625 -5.359375 C -9.859375 -5.347656 -9.78125 -5.320312 -9.65625 -5.28125 C -9.539062 -5.25 -9.394531 -5.203125 -9.21875 -5.140625 C -9.039062 -5.078125 -8.84375 -5.007812 -8.625 -4.9375 C -8.414062 -4.863281 -8.207031 -4.785156 -8 -4.703125 L -4.390625 -3.296875 L -4.390625 -7.421875 Z M -8.015625 -6 \"/>\n",
       "</g>\n",
       "<g id=\"glyph-2-1\">\n",
       "<path d=\"M 0 -4.796875 L 0 -3.125 L -8.453125 -0.0625 L -8.453125 -1.5625 L -2.953125 -3.421875 C -2.835938 -3.453125 -2.695312 -3.492188 -2.53125 -3.546875 C -2.375 -3.597656 -2.207031 -3.648438 -2.03125 -3.703125 C -1.851562 -3.753906 -1.679688 -3.800781 -1.515625 -3.84375 C -1.347656 -3.882812 -1.210938 -3.921875 -1.109375 -3.953125 C -1.210938 -3.984375 -1.347656 -4.023438 -1.515625 -4.078125 C -1.679688 -4.128906 -1.847656 -4.179688 -2.015625 -4.234375 C -2.191406 -4.285156 -2.359375 -4.335938 -2.515625 -4.390625 C -2.679688 -4.441406 -2.820312 -4.488281 -2.9375 -4.53125 L -8.453125 -6.453125 L -8.453125 -7.953125 Z M 0 -4.796875 \"/>\n",
       "</g>\n",
       "<g id=\"glyph-2-2\">\n",
       "<path d=\"M -3.9375 -2.15625 C -3.488281 -2.15625 -3.078125 -2.203125 -2.703125 -2.296875 C -2.335938 -2.390625 -2.019531 -2.53125 -1.75 -2.71875 C -1.476562 -2.90625 -1.269531 -3.144531 -1.125 -3.4375 C -0.976562 -3.738281 -0.90625 -4.097656 -0.90625 -4.515625 C -0.90625 -5.128906 -1.023438 -5.617188 -1.265625 -5.984375 C -1.515625 -6.347656 -1.828125 -6.597656 -2.203125 -6.734375 L -1.84375 -7.96875 C -1.613281 -7.875 -1.378906 -7.75 -1.140625 -7.59375 C -0.898438 -7.4375 -0.6875 -7.222656 -0.5 -6.953125 C -0.3125 -6.691406 -0.15625 -6.359375 -0.03125 -5.953125 C 0.09375 -5.554688 0.15625 -5.078125 0.15625 -4.515625 C 0.15625 -3.265625 -0.210938 -2.3125 -0.953125 -1.65625 C -1.703125 -1.007812 -2.8125 -0.6875 -4.28125 -0.6875 C -5.070312 -0.6875 -5.742188 -0.785156 -6.296875 -0.984375 C -6.847656 -1.179688 -7.296875 -1.453125 -7.640625 -1.796875 C -7.984375 -2.140625 -8.226562 -2.539062 -8.375 -3 C -8.53125 -3.457031 -8.609375 -3.945312 -8.609375 -4.46875 C -8.609375 -5.175781 -8.492188 -5.765625 -8.265625 -6.234375 C -8.035156 -6.710938 -7.71875 -7.097656 -7.3125 -7.390625 C -6.914062 -7.679688 -6.441406 -7.882812 -5.890625 -8 C -5.347656 -8.125 -4.757812 -8.1875 -4.125 -8.1875 L -3.9375 -8.1875 Z M -5.015625 -6.734375 C -5.898438 -6.660156 -6.546875 -6.4375 -6.953125 -6.0625 C -7.367188 -5.6875 -7.578125 -5.144531 -7.578125 -4.4375 C -7.578125 -4.207031 -7.535156 -3.960938 -7.453125 -3.703125 C -7.378906 -3.441406 -7.242188 -3.203125 -7.046875 -2.984375 C -6.859375 -2.765625 -6.597656 -2.578125 -6.265625 -2.421875 C -5.941406 -2.273438 -5.523438 -2.191406 -5.015625 -2.171875 Z M -5.015625 -6.734375 \"/>\n",
       "</g>\n",
       "<g id=\"glyph-2-3\">\n",
       "<path d=\"M 0 -1.109375 L -6.484375 -1.109375 C -6.660156 -1.109375 -6.84375 -1.109375 -7.03125 -1.109375 C -7.21875 -1.109375 -7.394531 -1.101562 -7.5625 -1.09375 C -7.738281 -1.09375 -7.898438 -1.085938 -8.046875 -1.078125 C -8.203125 -1.078125 -8.335938 -1.070312 -8.453125 -1.0625 L -8.453125 -2.390625 C -8.335938 -2.398438 -8.203125 -2.40625 -8.046875 -2.40625 C -7.890625 -2.414062 -7.726562 -2.425781 -7.5625 -2.4375 C -7.40625 -2.445312 -7.253906 -2.453125 -7.109375 -2.453125 C -6.960938 -2.453125 -6.835938 -2.453125 -6.734375 -2.453125 L -6.734375 -2.484375 C -7.054688 -2.585938 -7.332031 -2.691406 -7.5625 -2.796875 C -7.800781 -2.910156 -8 -3.039062 -8.15625 -3.1875 C -8.3125 -3.34375 -8.425781 -3.523438 -8.5 -3.734375 C -8.570312 -3.941406 -8.609375 -4.195312 -8.609375 -4.5 C -8.609375 -4.613281 -8.597656 -4.722656 -8.578125 -4.828125 C -8.566406 -4.929688 -8.550781 -5.007812 -8.53125 -5.0625 L -7.25 -5.0625 C -7.269531 -4.96875 -7.285156 -4.859375 -7.296875 -4.734375 C -7.316406 -4.609375 -7.328125 -4.46875 -7.328125 -4.3125 C -7.328125 -3.988281 -7.253906 -3.710938 -7.109375 -3.484375 C -6.960938 -3.265625 -6.757812 -3.082031 -6.5 -2.9375 C -6.238281 -2.789062 -5.929688 -2.679688 -5.578125 -2.609375 C -5.222656 -2.546875 -4.832031 -2.515625 -4.40625 -2.515625 L 0 -2.515625 Z M 0 -1.109375 \"/>\n",
       "</g>\n",
       "<g id=\"glyph-2-4\">\n",
       "<path d=\"M 0.15625 -3.234375 C 0.15625 -2.390625 -0.0664062 -1.753906 -0.515625 -1.328125 C -0.960938 -0.898438 -1.578125 -0.6875 -2.359375 -0.6875 C -2.921875 -0.6875 -3.378906 -0.789062 -3.734375 -1 C -4.085938 -1.207031 -4.363281 -1.484375 -4.5625 -1.828125 C -4.769531 -2.171875 -4.910156 -2.5625 -4.984375 -3 C -5.066406 -3.4375 -5.113281 -3.878906 -5.125 -4.328125 L -5.15625 -6.234375 L -5.625 -6.234375 C -5.96875 -6.234375 -6.257812 -6.195312 -6.5 -6.125 C -6.75 -6.050781 -6.945312 -5.9375 -7.09375 -5.78125 C -7.25 -5.632812 -7.363281 -5.445312 -7.4375 -5.21875 C -7.507812 -4.988281 -7.546875 -4.722656 -7.546875 -4.421875 C -7.546875 -4.148438 -7.523438 -3.90625 -7.484375 -3.6875 C -7.441406 -3.46875 -7.367188 -3.273438 -7.265625 -3.109375 C -7.171875 -2.953125 -7.035156 -2.820312 -6.859375 -2.71875 C -6.679688 -2.625 -6.460938 -2.5625 -6.203125 -2.53125 L -6.328125 -1.0625 C -6.660156 -1.113281 -6.96875 -1.210938 -7.25 -1.359375 C -7.53125 -1.503906 -7.769531 -1.707031 -7.96875 -1.96875 C -8.175781 -2.238281 -8.332031 -2.578125 -8.4375 -2.984375 C -8.550781 -3.390625 -8.609375 -3.878906 -8.609375 -4.453125 C -8.609375 -5.515625 -8.363281 -6.3125 -7.875 -6.84375 C -7.394531 -7.382812 -6.691406 -7.65625 -5.765625 -7.65625 L -2.125 -7.65625 C -1.707031 -7.65625 -1.394531 -7.707031 -1.1875 -7.8125 C -0.976562 -7.925781 -0.875 -8.132812 -0.875 -8.4375 C -0.875 -8.519531 -0.878906 -8.597656 -0.890625 -8.671875 C -0.898438 -8.753906 -0.910156 -8.832031 -0.921875 -8.90625 L -0.046875 -8.90625 C -0.00390625 -8.726562 0.0234375 -8.550781 0.046875 -8.375 C 0.0664062 -8.195312 0.078125 -8.007812 0.078125 -7.8125 C 0.078125 -7.550781 0.0390625 -7.320312 -0.03125 -7.125 C -0.101562 -6.9375 -0.207031 -6.78125 -0.34375 -6.65625 C -0.488281 -6.539062 -0.664062 -6.453125 -0.875 -6.390625 C -1.09375 -6.328125 -1.34375 -6.289062 -1.625 -6.28125 L -1.625 -6.234375 C -1.351562 -6.078125 -1.109375 -5.910156 -0.890625 -5.734375 C -0.671875 -5.554688 -0.484375 -5.347656 -0.328125 -5.109375 C -0.171875 -4.867188 -0.0507812 -4.59375 0.03125 -4.28125 C 0.113281 -3.976562 0.15625 -3.628906 0.15625 -3.234375 Z M -0.90625 -3.5625 C -0.90625 -4.007812 -0.984375 -4.398438 -1.140625 -4.734375 C -1.304688 -5.066406 -1.515625 -5.34375 -1.765625 -5.5625 C -2.023438 -5.789062 -2.304688 -5.957031 -2.609375 -6.0625 C -2.910156 -6.175781 -3.203125 -6.234375 -3.484375 -6.234375 L -4.171875 -6.234375 L -4.140625 -4.6875 C -4.140625 -4.34375 -4.113281 -4.015625 -4.0625 -3.703125 C -4.019531 -3.398438 -3.929688 -3.128906 -3.796875 -2.890625 C -3.671875 -2.660156 -3.488281 -2.472656 -3.25 -2.328125 C -3.019531 -2.191406 -2.71875 -2.125 -2.34375 -2.125 C -1.882812 -2.125 -1.53125 -2.25 -1.28125 -2.5 C -1.03125 -2.75 -0.90625 -3.101562 -0.90625 -3.5625 Z M -0.90625 -3.5625 \"/>\n",
       "</g>\n",
       "<g id=\"glyph-2-5\">\n",
       "<path d=\"M 3.328125 -4.28125 C 3.328125 -3.800781 3.273438 -3.375 3.171875 -3 C 3.078125 -2.625 2.9375 -2.300781 2.75 -2.03125 C 2.5625 -1.769531 2.335938 -1.554688 2.078125 -1.390625 C 1.828125 -1.222656 1.546875 -1.101562 1.234375 -1.03125 L 1.03125 -2.4375 C 1.425781 -2.53125 1.726562 -2.738281 1.9375 -3.0625 C 2.144531 -3.382812 2.25 -3.804688 2.25 -4.328125 C 2.25 -4.640625 2.203125 -4.925781 2.109375 -5.1875 C 2.023438 -5.445312 1.882812 -5.664062 1.6875 -5.84375 C 1.5 -6.03125 1.25 -6.171875 0.9375 -6.265625 C 0.625 -6.367188 0.238281 -6.421875 -0.21875 -6.421875 L -1.578125 -6.421875 L -1.578125 -6.40625 C -1.359375 -6.300781 -1.148438 -6.171875 -0.953125 -6.015625 C -0.765625 -5.867188 -0.59375 -5.679688 -0.4375 -5.453125 C -0.289062 -5.234375 -0.171875 -4.976562 -0.078125 -4.6875 C 0.015625 -4.394531 0.0625 -4.0625 0.0625 -3.6875 C 0.0625 -3.15625 -0.0234375 -2.695312 -0.203125 -2.3125 C -0.390625 -1.925781 -0.660156 -1.613281 -1.015625 -1.375 C -1.378906 -1.132812 -1.828125 -0.957031 -2.359375 -0.84375 C -2.890625 -0.726562 -3.507812 -0.671875 -4.21875 -0.671875 C -4.894531 -0.671875 -5.503906 -0.726562 -6.046875 -0.84375 C -6.585938 -0.957031 -7.046875 -1.140625 -7.421875 -1.390625 C -7.796875 -1.640625 -8.082031 -1.96875 -8.28125 -2.375 C -8.488281 -2.78125 -8.59375 -3.269531 -8.59375 -3.84375 C -8.59375 -4.445312 -8.453125 -4.96875 -8.171875 -5.40625 C -7.898438 -5.84375 -7.515625 -6.179688 -7.015625 -6.421875 L -7.015625 -6.4375 C -7.140625 -6.4375 -7.28125 -6.441406 -7.4375 -6.453125 C -7.601562 -6.460938 -7.757812 -6.46875 -7.90625 -6.46875 C -8.050781 -6.476562 -8.175781 -6.488281 -8.28125 -6.5 C -8.382812 -6.507812 -8.441406 -6.519531 -8.453125 -6.53125 L -8.453125 -7.875 C -8.410156 -7.863281 -8.332031 -7.851562 -8.21875 -7.84375 C -8.101562 -7.84375 -7.96875 -7.835938 -7.8125 -7.828125 C -7.65625 -7.828125 -7.484375 -7.828125 -7.296875 -7.828125 C -7.109375 -7.828125 -6.910156 -7.828125 -6.703125 -7.828125 L -0.25 -7.828125 C 0.9375 -7.828125 1.828125 -7.535156 2.421875 -6.953125 C 3.023438 -6.367188 3.328125 -5.476562 3.328125 -4.28125 Z M -4.234375 -6.421875 C -4.816406 -6.421875 -5.316406 -6.359375 -5.734375 -6.234375 C -6.160156 -6.109375 -6.503906 -5.941406 -6.765625 -5.734375 C -7.035156 -5.523438 -7.234375 -5.285156 -7.359375 -5.015625 C -7.484375 -4.742188 -7.546875 -4.46875 -7.546875 -4.1875 C -7.546875 -3.832031 -7.484375 -3.523438 -7.359375 -3.265625 C -7.234375 -3.003906 -7.035156 -2.789062 -6.765625 -2.625 C -6.492188 -2.457031 -6.148438 -2.332031 -5.734375 -2.25 C -5.316406 -2.164062 -4.816406 -2.125 -4.234375 -2.125 C -3.617188 -2.125 -3.101562 -2.164062 -2.6875 -2.25 C -2.28125 -2.332031 -1.945312 -2.457031 -1.6875 -2.625 C -1.4375 -2.789062 -1.253906 -3 -1.140625 -3.25 C -1.035156 -3.507812 -0.984375 -3.816406 -0.984375 -4.171875 C -0.984375 -4.453125 -1.039062 -4.722656 -1.15625 -4.984375 C -1.28125 -5.253906 -1.472656 -5.492188 -1.734375 -5.703125 C -1.992188 -5.921875 -2.328125 -6.09375 -2.734375 -6.21875 C -3.148438 -6.351562 -3.648438 -6.421875 -4.234375 -6.421875 Z M -4.234375 -6.421875 \"/>\n",
       "</g>\n",
       "<g id=\"glyph-2-6\">\n",
       "</g>\n",
       "<g id=\"glyph-2-7\">\n",
       "<path d=\"M 0 -8.765625 L -5.109375 -8.765625 L -5.109375 -2.8125 L 0 -2.8125 L 0 -1.3125 L -11.015625 -1.3125 L -11.015625 -2.8125 L -6.359375 -2.8125 L -6.359375 -8.765625 L -11.015625 -8.765625 L -11.015625 -10.25 L 0 -10.25 Z M 0 -8.765625 \"/>\n",
       "</g>\n",
       "<g id=\"glyph-2-8\">\n",
       "<path d=\"M -4.234375 -8.234375 C -2.753906 -8.234375 -1.648438 -7.90625 -0.921875 -7.25 C -0.203125 -6.601562 0.15625 -5.660156 0.15625 -4.421875 C 0.15625 -3.828125 0.0664062 -3.296875 -0.109375 -2.828125 C -0.285156 -2.367188 -0.554688 -1.976562 -0.921875 -1.65625 C -1.285156 -1.34375 -1.742188 -1.097656 -2.296875 -0.921875 C -2.847656 -0.753906 -3.492188 -0.671875 -4.234375 -0.671875 C -7.148438 -0.671875 -8.609375 -1.9375 -8.609375 -4.46875 C -8.609375 -5.125 -8.515625 -5.6875 -8.328125 -6.15625 C -8.148438 -6.632812 -7.878906 -7.023438 -7.515625 -7.328125 C -7.148438 -7.640625 -6.691406 -7.867188 -6.140625 -8.015625 C -5.597656 -8.160156 -4.960938 -8.234375 -4.234375 -8.234375 Z M -4.234375 -6.75 C -4.890625 -6.75 -5.429688 -6.695312 -5.859375 -6.59375 C -6.285156 -6.5 -6.625 -6.351562 -6.875 -6.15625 C -7.132812 -5.957031 -7.316406 -5.71875 -7.421875 -5.4375 C -7.523438 -5.15625 -7.578125 -4.835938 -7.578125 -4.484375 C -7.578125 -4.128906 -7.519531 -3.804688 -7.40625 -3.515625 C -7.300781 -3.222656 -7.117188 -2.972656 -6.859375 -2.765625 C -6.609375 -2.566406 -6.269531 -2.414062 -5.84375 -2.3125 C -5.414062 -2.207031 -4.878906 -2.15625 -4.234375 -2.15625 C -3.578125 -2.15625 -3.035156 -2.210938 -2.609375 -2.328125 C -2.179688 -2.441406 -1.835938 -2.597656 -1.578125 -2.796875 C -1.328125 -2.992188 -1.148438 -3.226562 -1.046875 -3.5 C -0.941406 -3.78125 -0.890625 -4.082031 -0.890625 -4.40625 C -0.890625 -4.757812 -0.9375 -5.082031 -1.03125 -5.375 C -1.132812 -5.664062 -1.3125 -5.910156 -1.5625 -6.109375 C -1.820312 -6.316406 -2.164062 -6.472656 -2.59375 -6.578125 C -3.03125 -6.691406 -3.578125 -6.75 -4.234375 -6.75 Z M -4.234375 -6.75 \"/>\n",
       "</g>\n",
       "<g id=\"glyph-2-9\">\n",
       "<path d=\"M -8.453125 -2.453125 L -3.09375 -2.453125 C -2.6875 -2.453125 -2.34375 -2.484375 -2.0625 -2.546875 C -1.789062 -2.609375 -1.566406 -2.707031 -1.390625 -2.84375 C -1.222656 -2.976562 -1.101562 -3.15625 -1.03125 -3.375 C -0.96875 -3.59375 -0.9375 -3.867188 -0.9375 -4.203125 C -0.9375 -4.535156 -0.992188 -4.832031 -1.109375 -5.09375 C -1.222656 -5.363281 -1.390625 -5.59375 -1.609375 -5.78125 C -1.835938 -5.976562 -2.113281 -6.128906 -2.4375 -6.234375 C -2.757812 -6.335938 -3.132812 -6.390625 -3.5625 -6.390625 L -8.453125 -6.390625 L -8.453125 -7.796875 L -1.8125 -7.796875 C -1.632812 -7.796875 -1.445312 -7.796875 -1.25 -7.796875 C -1.050781 -7.796875 -0.863281 -7.796875 -0.6875 -7.796875 C -0.519531 -7.804688 -0.375 -7.8125 -0.25 -7.8125 C -0.125 -7.820312 -0.0390625 -7.832031 0 -7.84375 L 0 -6.515625 C -0.03125 -6.503906 -0.101562 -6.492188 -0.21875 -6.484375 C -0.332031 -6.484375 -0.460938 -6.476562 -0.609375 -6.46875 C -0.753906 -6.46875 -0.90625 -6.460938 -1.0625 -6.453125 C -1.21875 -6.453125 -1.347656 -6.453125 -1.453125 -6.453125 L -1.453125 -6.421875 C -1.203125 -6.285156 -0.976562 -6.132812 -0.78125 -5.96875 C -0.582031 -5.8125 -0.414062 -5.625 -0.28125 -5.40625 C -0.144531 -5.195312 -0.0390625 -4.953125 0.03125 -4.671875 C 0.113281 -4.398438 0.15625 -4.082031 0.15625 -3.71875 C 0.15625 -3.25 0.0976562 -2.84375 -0.015625 -2.5 C -0.128906 -2.164062 -0.304688 -1.890625 -0.546875 -1.671875 C -0.785156 -1.453125 -1.09375 -1.289062 -1.46875 -1.1875 C -1.84375 -1.09375 -2.296875 -1.046875 -2.828125 -1.046875 L -8.453125 -1.046875 Z M -8.453125 -2.453125 \"/>\n",
       "</g>\n",
       "<g id=\"glyph-2-10\">\n",
       "<path d=\"M -2.34375 -7.421875 C -1.945312 -7.421875 -1.59375 -7.34375 -1.28125 -7.1875 C -0.96875 -7.039062 -0.707031 -6.820312 -0.5 -6.53125 C -0.289062 -6.238281 -0.128906 -5.878906 -0.015625 -5.453125 C 0.0976562 -5.023438 0.15625 -4.539062 0.15625 -4 C 0.15625 -3.507812 0.113281 -3.066406 0.03125 -2.671875 C -0.0390625 -2.273438 -0.160156 -1.925781 -0.328125 -1.625 C -0.492188 -1.332031 -0.710938 -1.085938 -0.984375 -0.890625 C -1.253906 -0.691406 -1.585938 -0.546875 -1.984375 -0.453125 L -2.234375 -1.6875 C -1.773438 -1.8125 -1.441406 -2.0625 -1.234375 -2.4375 C -1.023438 -2.8125 -0.921875 -3.332031 -0.921875 -4 C -0.921875 -4.300781 -0.941406 -4.578125 -0.984375 -4.828125 C -1.023438 -5.078125 -1.09375 -5.289062 -1.1875 -5.46875 C -1.289062 -5.65625 -1.425781 -5.800781 -1.59375 -5.90625 C -1.769531 -6.007812 -1.984375 -6.0625 -2.234375 -6.0625 C -2.484375 -6.0625 -2.691406 -6 -2.859375 -5.875 C -3.023438 -5.757812 -3.160156 -5.59375 -3.265625 -5.375 C -3.378906 -5.164062 -3.472656 -4.90625 -3.546875 -4.59375 C -3.628906 -4.289062 -3.722656 -3.957031 -3.828125 -3.59375 C -3.910156 -3.257812 -4.003906 -2.925781 -4.109375 -2.59375 C -4.222656 -2.257812 -4.367188 -1.957031 -4.546875 -1.6875 C -4.734375 -1.414062 -4.957031 -1.195312 -5.21875 -1.03125 C -5.488281 -0.863281 -5.820312 -0.78125 -6.21875 -0.78125 C -6.988281 -0.78125 -7.578125 -1.054688 -7.984375 -1.609375 C -8.390625 -2.160156 -8.59375 -2.960938 -8.59375 -4.015625 C -8.59375 -4.941406 -8.425781 -5.679688 -8.09375 -6.234375 C -7.769531 -6.785156 -7.242188 -7.132812 -6.515625 -7.28125 L -6.359375 -6.015625 C -6.578125 -5.960938 -6.757812 -5.875 -6.90625 -5.75 C -7.0625 -5.625 -7.179688 -5.472656 -7.265625 -5.296875 C -7.359375 -5.117188 -7.425781 -4.921875 -7.46875 -4.703125 C -7.507812 -4.484375 -7.53125 -4.253906 -7.53125 -4.015625 C -7.53125 -3.378906 -7.429688 -2.910156 -7.234375 -2.609375 C -7.046875 -2.304688 -6.753906 -2.15625 -6.359375 -2.15625 C -6.128906 -2.15625 -5.941406 -2.207031 -5.796875 -2.3125 C -5.648438 -2.425781 -5.523438 -2.582031 -5.421875 -2.78125 C -5.316406 -2.988281 -5.226562 -3.234375 -5.15625 -3.515625 C -5.082031 -3.796875 -5.003906 -4.101562 -4.921875 -4.4375 C -4.859375 -4.664062 -4.796875 -4.894531 -4.734375 -5.125 C -4.671875 -5.363281 -4.59375 -5.59375 -4.5 -5.8125 C -4.40625 -6.03125 -4.296875 -6.238281 -4.171875 -6.4375 C -4.054688 -6.632812 -3.910156 -6.804688 -3.734375 -6.953125 C -3.566406 -7.097656 -3.367188 -7.210938 -3.140625 -7.296875 C -2.910156 -7.378906 -2.644531 -7.421875 -2.34375 -7.421875 Z M -2.34375 -7.421875 \"/>\n",
       "</g>\n",
       "<g id=\"glyph-2-11\">\n",
       "<path d=\"M -7.703125 -9.828125 C -7.222656 -9.828125 -6.773438 -9.75 -6.359375 -9.59375 C -5.941406 -9.4375 -5.582031 -9.195312 -5.28125 -8.875 C -4.976562 -8.5625 -4.738281 -8.164062 -4.5625 -7.6875 C -4.382812 -7.21875 -4.296875 -6.671875 -4.296875 -6.046875 L -4.296875 -2.8125 L 0 -2.8125 L 0 -1.3125 L -11.015625 -1.3125 L -11.015625 -5.953125 C -11.015625 -6.597656 -10.929688 -7.160156 -10.765625 -7.640625 C -10.609375 -8.128906 -10.382812 -8.535156 -10.09375 -8.859375 C -9.8125 -9.179688 -9.460938 -9.421875 -9.046875 -9.578125 C -8.640625 -9.742188 -8.191406 -9.828125 -7.703125 -9.828125 Z M -7.6875 -8.328125 C -8.382812 -8.328125 -8.910156 -8.113281 -9.265625 -7.6875 C -9.628906 -7.257812 -9.8125 -6.617188 -9.8125 -5.765625 L -9.8125 -2.8125 L -5.46875 -2.8125 L -5.46875 -5.828125 C -5.46875 -6.691406 -5.65625 -7.320312 -6.03125 -7.71875 C -6.414062 -8.125 -6.96875 -8.328125 -7.6875 -8.328125 Z M -7.6875 -8.328125 \"/>\n",
       "</g>\n",
       "<g id=\"glyph-2-12\">\n",
       "<path d=\"M 0 -1.078125 L -11.59375 -1.078125 L -11.59375 -2.484375 L 0 -2.484375 Z M 0 -1.078125 \"/>\n",
       "</g>\n",
       "<g id=\"glyph-2-13\">\n",
       "<path d=\"M 0 -4.71875 C 0.507812 -4.519531 0.96875 -4.316406 1.375 -4.109375 C 1.789062 -3.910156 2.140625 -3.679688 2.421875 -3.421875 C 2.710938 -3.171875 2.9375 -2.890625 3.09375 -2.578125 C 3.25 -2.265625 3.328125 -1.90625 3.328125 -1.5 C 3.328125 -1.320312 3.320312 -1.15625 3.3125 -1 C 3.300781 -0.851562 3.273438 -0.695312 3.234375 -0.53125 L 2.1875 -0.53125 C 2.195312 -0.625 2.207031 -0.734375 2.21875 -0.859375 C 2.226562 -0.984375 2.234375 -1.09375 2.234375 -1.1875 C 2.234375 -1.59375 2.078125 -1.972656 1.765625 -2.328125 C 1.460938 -2.679688 0.972656 -2.992188 0.296875 -3.265625 L -0.046875 -3.390625 L -8.453125 -0.046875 L -8.453125 -1.546875 L -3.78125 -3.328125 C -3.644531 -3.378906 -3.457031 -3.441406 -3.21875 -3.515625 C -2.988281 -3.597656 -2.753906 -3.679688 -2.515625 -3.765625 C -2.285156 -3.847656 -2.078125 -3.921875 -1.890625 -3.984375 C -1.703125 -4.046875 -1.582031 -4.082031 -1.53125 -4.09375 C -1.59375 -4.101562 -1.707031 -4.140625 -1.875 -4.203125 C -2.039062 -4.265625 -2.226562 -4.332031 -2.4375 -4.40625 C -2.644531 -4.476562 -2.851562 -4.550781 -3.0625 -4.625 C -3.28125 -4.707031 -3.46875 -4.773438 -3.625 -4.828125 L -8.453125 -6.484375 L -8.453125 -7.96875 Z M 0 -4.71875 \"/>\n",
       "</g>\n",
       "<g id=\"glyph-2-14\">\n",
       "<path d=\"M -1.359375 -6.421875 C -0.816406 -6.160156 -0.425781 -5.8125 -0.1875 -5.375 C 0.0390625 -4.945312 0.15625 -4.414062 0.15625 -3.78125 C 0.15625 -2.71875 -0.203125 -1.929688 -0.921875 -1.421875 C -1.640625 -0.921875 -2.726562 -0.671875 -4.1875 -0.671875 C -7.132812 -0.671875 -8.609375 -1.707031 -8.609375 -3.78125 C -8.609375 -4.425781 -8.488281 -4.960938 -8.25 -5.390625 C -8.019531 -5.816406 -7.648438 -6.160156 -7.140625 -6.421875 L -7.140625 -6.4375 C -7.191406 -6.4375 -7.273438 -6.429688 -7.390625 -6.421875 C -7.503906 -6.421875 -7.617188 -6.421875 -7.734375 -6.421875 C -7.859375 -6.421875 -7.972656 -6.421875 -8.078125 -6.421875 C -8.191406 -6.421875 -8.273438 -6.421875 -8.328125 -6.421875 L -11.59375 -6.421875 L -11.59375 -7.828125 L -1.75 -7.828125 C -1.539062 -7.828125 -1.34375 -7.828125 -1.15625 -7.828125 C -0.96875 -7.828125 -0.796875 -7.828125 -0.640625 -7.828125 C -0.484375 -7.835938 -0.347656 -7.84375 -0.234375 -7.84375 C -0.128906 -7.851562 -0.0507812 -7.863281 0 -7.875 L 0 -6.53125 C -0.0507812 -6.519531 -0.125 -6.507812 -0.21875 -6.5 C -0.320312 -6.488281 -0.4375 -6.476562 -0.5625 -6.46875 C -0.6875 -6.46875 -0.816406 -6.460938 -0.953125 -6.453125 C -1.085938 -6.453125 -1.222656 -6.453125 -1.359375 -6.453125 Z M -4.234375 -2.15625 C -3.648438 -2.15625 -3.148438 -2.191406 -2.734375 -2.265625 C -2.316406 -2.335938 -1.972656 -2.453125 -1.703125 -2.609375 C -1.441406 -2.773438 -1.25 -2.984375 -1.125 -3.234375 C -1 -3.484375 -0.9375 -3.785156 -0.9375 -4.140625 C -0.9375 -4.515625 -0.992188 -4.84375 -1.109375 -5.125 C -1.234375 -5.40625 -1.425781 -5.640625 -1.6875 -5.828125 C -1.957031 -6.023438 -2.304688 -6.171875 -2.734375 -6.265625 C -3.171875 -6.367188 -3.703125 -6.421875 -4.328125 -6.421875 C -4.929688 -6.421875 -5.4375 -6.367188 -5.84375 -6.265625 C -6.257812 -6.171875 -6.59375 -6.023438 -6.84375 -5.828125 C -7.101562 -5.640625 -7.289062 -5.40625 -7.40625 -5.125 C -7.519531 -4.84375 -7.578125 -4.519531 -7.578125 -4.15625 C -7.578125 -3.8125 -7.515625 -3.515625 -7.390625 -3.265625 C -7.273438 -3.015625 -7.082031 -2.804688 -6.8125 -2.640625 C -6.550781 -2.472656 -6.207031 -2.347656 -5.78125 -2.265625 C -5.351562 -2.191406 -4.835938 -2.15625 -4.234375 -2.15625 Z M -4.234375 -2.15625 \"/>\n",
       "</g>\n",
       "<g id=\"glyph-3-0\">\n",
       "<path d=\"M 10.9375 0 L 9.4375 -3.859375 L 3.40625 -3.859375 L 1.890625 0 L 0.03125 0 L 5.421875 -13.21875 L 7.46875 -13.21875 L 12.765625 0 Z M 7.203125 -9.625 C 7.097656 -9.875 7 -10.125 6.90625 -10.375 C 6.820312 -10.632812 6.742188 -10.867188 6.671875 -11.078125 C 6.609375 -11.285156 6.550781 -11.457031 6.5 -11.59375 C 6.457031 -11.738281 6.429688 -11.828125 6.421875 -11.859375 C 6.410156 -11.828125 6.378906 -11.738281 6.328125 -11.59375 C 6.285156 -11.457031 6.226562 -11.28125 6.15625 -11.0625 C 6.09375 -10.851562 6.015625 -10.617188 5.921875 -10.359375 C 5.828125 -10.109375 5.734375 -9.859375 5.640625 -9.609375 L 3.953125 -5.265625 L 8.890625 -5.265625 Z M 7.203125 -9.625 \"/>\n",
       "</g>\n",
       "<g id=\"glyph-3-1\">\n",
       "<path d=\"M 5.75 0 L 3.75 0 L 0.0625 -10.140625 L 1.859375 -10.140625 L 4.09375 -3.546875 C 4.132812 -3.410156 4.1875 -3.242188 4.25 -3.046875 C 4.3125 -2.847656 4.375 -2.640625 4.4375 -2.421875 C 4.5 -2.210938 4.554688 -2.007812 4.609375 -1.8125 C 4.660156 -1.613281 4.707031 -1.453125 4.75 -1.328125 C 4.78125 -1.453125 4.828125 -1.613281 4.890625 -1.8125 C 4.953125 -2.007812 5.015625 -2.210938 5.078125 -2.421875 C 5.140625 -2.628906 5.203125 -2.828125 5.265625 -3.015625 C 5.328125 -3.210938 5.382812 -3.382812 5.4375 -3.53125 L 7.75 -10.140625 L 9.53125 -10.140625 Z M 5.75 0 \"/>\n",
       "</g>\n",
       "<g id=\"glyph-3-2\">\n",
       "<path d=\"M 2.59375 -4.71875 C 2.59375 -4.1875 2.644531 -3.695312 2.75 -3.25 C 2.863281 -2.800781 3.03125 -2.414062 3.25 -2.09375 C 3.476562 -1.769531 3.769531 -1.519531 4.125 -1.34375 C 4.488281 -1.164062 4.921875 -1.078125 5.421875 -1.078125 C 6.148438 -1.078125 6.734375 -1.222656 7.171875 -1.515625 C 7.617188 -1.804688 7.921875 -2.179688 8.078125 -2.640625 L 9.546875 -2.21875 C 9.441406 -1.9375 9.296875 -1.648438 9.109375 -1.359375 C 8.921875 -1.078125 8.664062 -0.820312 8.34375 -0.59375 C 8.019531 -0.363281 7.617188 -0.175781 7.140625 -0.03125 C 6.671875 0.113281 6.097656 0.1875 5.421875 0.1875 C 3.921875 0.1875 2.773438 -0.257812 1.984375 -1.15625 C 1.203125 -2.050781 0.8125 -3.378906 0.8125 -5.140625 C 0.8125 -6.085938 0.929688 -6.890625 1.171875 -7.546875 C 1.410156 -8.210938 1.734375 -8.75 2.140625 -9.15625 C 2.554688 -9.570312 3.039062 -9.867188 3.59375 -10.046875 C 4.144531 -10.234375 4.734375 -10.328125 5.359375 -10.328125 C 6.203125 -10.328125 6.910156 -10.1875 7.484375 -9.90625 C 8.054688 -9.632812 8.515625 -9.253906 8.859375 -8.765625 C 9.210938 -8.285156 9.460938 -7.71875 9.609375 -7.0625 C 9.753906 -6.40625 9.828125 -5.695312 9.828125 -4.9375 L 9.828125 -4.71875 Z M 8.078125 -6.015625 C 7.984375 -7.078125 7.710938 -7.851562 7.265625 -8.34375 C 6.816406 -8.832031 6.171875 -9.078125 5.328125 -9.078125 C 5.046875 -9.078125 4.75 -9.03125 4.4375 -8.9375 C 4.125 -8.851562 3.835938 -8.695312 3.578125 -8.46875 C 3.316406 -8.238281 3.09375 -7.921875 2.90625 -7.515625 C 2.726562 -7.117188 2.628906 -6.617188 2.609375 -6.015625 Z M 8.078125 -6.015625 \"/>\n",
       "</g>\n",
       "<g id=\"glyph-3-3\">\n",
       "<path d=\"M 1.328125 0 L 1.328125 -7.78125 C 1.328125 -7.988281 1.328125 -8.203125 1.328125 -8.421875 C 1.328125 -8.648438 1.320312 -8.867188 1.3125 -9.078125 C 1.300781 -9.285156 1.289062 -9.476562 1.28125 -9.65625 C 1.28125 -9.84375 1.28125 -10.003906 1.28125 -10.140625 L 2.875 -10.140625 C 2.875 -10.003906 2.878906 -9.84375 2.890625 -9.65625 C 2.898438 -9.46875 2.910156 -9.273438 2.921875 -9.078125 C 2.929688 -8.890625 2.9375 -8.707031 2.9375 -8.53125 C 2.9375 -8.351562 2.9375 -8.203125 2.9375 -8.078125 L 2.984375 -8.078125 C 3.097656 -8.460938 3.222656 -8.796875 3.359375 -9.078125 C 3.492188 -9.359375 3.648438 -9.59375 3.828125 -9.78125 C 4.015625 -9.96875 4.234375 -10.101562 4.484375 -10.1875 C 4.734375 -10.28125 5.035156 -10.328125 5.390625 -10.328125 C 5.523438 -10.328125 5.65625 -10.316406 5.78125 -10.296875 C 5.90625 -10.273438 6.003906 -10.253906 6.078125 -10.234375 L 6.078125 -8.6875 C 5.960938 -8.71875 5.828125 -8.738281 5.671875 -8.75 C 5.523438 -8.769531 5.359375 -8.78125 5.171875 -8.78125 C 4.785156 -8.78125 4.457031 -8.691406 4.1875 -8.515625 C 3.914062 -8.347656 3.691406 -8.109375 3.515625 -7.796875 C 3.347656 -7.484375 3.222656 -7.113281 3.140625 -6.6875 C 3.054688 -6.257812 3.015625 -5.789062 3.015625 -5.28125 L 3.015625 0 Z M 1.328125 0 \"/>\n",
       "</g>\n",
       "<g id=\"glyph-3-4\">\n",
       "<path d=\"M 3.875 0.1875 C 2.863281 0.1875 2.097656 -0.078125 1.578125 -0.609375 C 1.066406 -1.148438 0.8125 -1.890625 0.8125 -2.828125 C 0.8125 -3.492188 0.9375 -4.039062 1.1875 -4.46875 C 1.445312 -4.90625 1.78125 -5.242188 2.1875 -5.484375 C 2.59375 -5.722656 3.054688 -5.890625 3.578125 -5.984375 C 4.109375 -6.078125 4.644531 -6.132812 5.1875 -6.15625 L 7.46875 -6.1875 L 7.46875 -6.734375 C 7.46875 -7.160156 7.421875 -7.519531 7.328125 -7.8125 C 7.242188 -8.101562 7.113281 -8.335938 6.9375 -8.515625 C 6.757812 -8.703125 6.53125 -8.835938 6.25 -8.921875 C 5.976562 -9.003906 5.660156 -9.046875 5.296875 -9.046875 C 4.972656 -9.046875 4.675781 -9.019531 4.40625 -8.96875 C 4.144531 -8.925781 3.914062 -8.84375 3.71875 -8.71875 C 3.53125 -8.601562 3.375 -8.4375 3.25 -8.21875 C 3.132812 -8.007812 3.0625 -7.75 3.03125 -7.4375 L 1.265625 -7.59375 C 1.328125 -7.988281 1.445312 -8.351562 1.625 -8.6875 C 1.800781 -9.03125 2.046875 -9.320312 2.359375 -9.5625 C 2.679688 -9.8125 3.082031 -10 3.5625 -10.125 C 4.050781 -10.257812 4.640625 -10.328125 5.328125 -10.328125 C 6.609375 -10.328125 7.566406 -10.035156 8.203125 -9.453125 C 8.847656 -8.867188 9.171875 -8.023438 9.171875 -6.921875 L 9.171875 -2.546875 C 9.171875 -2.046875 9.238281 -1.671875 9.375 -1.421875 C 9.507812 -1.171875 9.757812 -1.046875 10.125 -1.046875 C 10.21875 -1.046875 10.3125 -1.050781 10.40625 -1.0625 C 10.5 -1.070312 10.59375 -1.085938 10.6875 -1.109375 L 10.6875 -0.0625 C 10.46875 -0.0078125 10.253906 0.0234375 10.046875 0.046875 C 9.835938 0.078125 9.613281 0.09375 9.375 0.09375 C 9.050781 0.09375 8.773438 0.0507812 8.546875 -0.03125 C 8.328125 -0.113281 8.144531 -0.238281 8 -0.40625 C 7.851562 -0.582031 7.742188 -0.796875 7.671875 -1.046875 C 7.597656 -1.304688 7.550781 -1.601562 7.53125 -1.9375 L 7.46875 -1.9375 C 7.289062 -1.613281 7.09375 -1.320312 6.875 -1.0625 C 6.65625 -0.800781 6.398438 -0.578125 6.109375 -0.390625 C 5.828125 -0.203125 5.503906 -0.0625 5.140625 0.03125 C 4.773438 0.132812 4.351562 0.1875 3.875 0.1875 Z M 4.265625 -1.078125 C 4.804688 -1.078125 5.273438 -1.175781 5.671875 -1.375 C 6.078125 -1.570312 6.410156 -1.820312 6.671875 -2.125 C 6.941406 -2.4375 7.140625 -2.769531 7.265625 -3.125 C 7.398438 -3.488281 7.46875 -3.835938 7.46875 -4.171875 L 7.46875 -5 L 5.625 -4.96875 C 5.207031 -4.957031 4.8125 -4.925781 4.4375 -4.875 C 4.070312 -4.820312 3.75 -4.71875 3.46875 -4.5625 C 3.1875 -4.40625 2.960938 -4.1875 2.796875 -3.90625 C 2.628906 -3.625 2.546875 -3.253906 2.546875 -2.796875 C 2.546875 -2.253906 2.691406 -1.832031 2.984375 -1.53125 C 3.285156 -1.226562 3.710938 -1.078125 4.265625 -1.078125 Z M 4.265625 -1.078125 \"/>\n",
       "</g>\n",
       "<g id=\"glyph-3-5\">\n",
       "<path d=\"M 5.140625 3.984375 C 4.554688 3.984375 4.039062 3.921875 3.59375 3.796875 C 3.144531 3.679688 2.757812 3.515625 2.4375 3.296875 C 2.113281 3.078125 1.851562 2.8125 1.65625 2.5 C 1.457031 2.195312 1.316406 1.859375 1.234375 1.484375 L 2.921875 1.234375 C 3.035156 1.703125 3.285156 2.0625 3.671875 2.3125 C 4.054688 2.570312 4.5625 2.703125 5.1875 2.703125 C 5.5625 2.703125 5.90625 2.644531 6.21875 2.53125 C 6.53125 2.425781 6.796875 2.253906 7.015625 2.015625 C 7.234375 1.785156 7.398438 1.484375 7.515625 1.109375 C 7.640625 0.734375 7.703125 0.28125 7.703125 -0.25 L 7.703125 -1.890625 L 7.6875 -1.890625 C 7.5625 -1.628906 7.40625 -1.378906 7.21875 -1.140625 C 7.039062 -0.910156 6.816406 -0.703125 6.546875 -0.515625 C 6.285156 -0.335938 5.976562 -0.191406 5.625 -0.078125 C 5.269531 0.0234375 4.867188 0.078125 4.421875 0.078125 C 3.773438 0.078125 3.222656 -0.03125 2.765625 -0.25 C 2.304688 -0.46875 1.929688 -0.789062 1.640625 -1.21875 C 1.347656 -1.644531 1.132812 -2.175781 1 -2.8125 C 0.875 -3.457031 0.8125 -4.203125 0.8125 -5.046875 C 0.8125 -5.859375 0.875 -6.585938 1 -7.234375 C 1.132812 -7.890625 1.351562 -8.441406 1.65625 -8.890625 C 1.96875 -9.347656 2.363281 -9.695312 2.84375 -9.9375 C 3.332031 -10.1875 3.921875 -10.3125 4.609375 -10.3125 C 5.328125 -10.3125 5.953125 -10.144531 6.484375 -9.8125 C 7.015625 -9.476562 7.421875 -9.007812 7.703125 -8.40625 L 7.71875 -8.40625 C 7.71875 -8.5625 7.722656 -8.734375 7.734375 -8.921875 C 7.742188 -9.117188 7.753906 -9.304688 7.765625 -9.484375 C 7.773438 -9.660156 7.785156 -9.8125 7.796875 -9.9375 C 7.804688 -10.0625 7.820312 -10.128906 7.84375 -10.140625 L 9.4375 -10.140625 C 9.4375 -10.085938 9.429688 -9.992188 9.421875 -9.859375 C 9.410156 -9.722656 9.398438 -9.5625 9.390625 -9.375 C 9.390625 -9.1875 9.390625 -8.976562 9.390625 -8.75 C 9.390625 -8.519531 9.390625 -8.285156 9.390625 -8.046875 L 9.390625 -0.296875 C 9.390625 1.128906 9.039062 2.195312 8.34375 2.90625 C 7.644531 3.625 6.578125 3.984375 5.140625 3.984375 Z M 7.703125 -5.078125 C 7.703125 -5.773438 7.625 -6.375 7.46875 -6.875 C 7.320312 -7.382812 7.125 -7.796875 6.875 -8.109375 C 6.625 -8.429688 6.335938 -8.664062 6.015625 -8.8125 C 5.691406 -8.96875 5.363281 -9.046875 5.03125 -9.046875 C 4.59375 -9.046875 4.21875 -8.96875 3.90625 -8.8125 C 3.601562 -8.664062 3.347656 -8.429688 3.140625 -8.109375 C 2.941406 -7.785156 2.789062 -7.375 2.6875 -6.875 C 2.59375 -6.375 2.546875 -5.773438 2.546875 -5.078125 C 2.546875 -4.335938 2.59375 -3.71875 2.6875 -3.21875 C 2.789062 -2.726562 2.941406 -2.328125 3.140625 -2.015625 C 3.335938 -1.710938 3.585938 -1.492188 3.890625 -1.359375 C 4.203125 -1.234375 4.570312 -1.171875 5 -1.171875 C 5.332031 -1.171875 5.660156 -1.242188 5.984375 -1.390625 C 6.304688 -1.535156 6.59375 -1.765625 6.84375 -2.078125 C 7.101562 -2.390625 7.3125 -2.789062 7.46875 -3.28125 C 7.625 -3.769531 7.703125 -4.367188 7.703125 -5.078125 Z M 7.703125 -5.078125 \"/>\n",
       "</g>\n",
       "<g id=\"glyph-3-6\">\n",
       "</g>\n",
       "<g id=\"glyph-3-7\">\n",
       "<path d=\"M 10.515625 0 L 10.515625 -6.125 L 3.359375 -6.125 L 3.359375 0 L 1.578125 0 L 1.578125 -13.21875 L 3.359375 -13.21875 L 3.359375 -7.625 L 10.515625 -7.625 L 10.515625 -13.21875 L 12.296875 -13.21875 L 12.296875 0 Z M 10.515625 0 \"/>\n",
       "</g>\n",
       "<g id=\"glyph-3-8\">\n",
       "<path d=\"M 9.875 -5.078125 C 9.875 -3.304688 9.484375 -1.984375 8.703125 -1.109375 C 7.921875 -0.242188 6.785156 0.1875 5.296875 0.1875 C 4.585938 0.1875 3.953125 0.0820312 3.390625 -0.125 C 2.835938 -0.34375 2.367188 -0.671875 1.984375 -1.109375 C 1.609375 -1.546875 1.316406 -2.09375 1.109375 -2.75 C 0.910156 -3.40625 0.8125 -4.179688 0.8125 -5.078125 C 0.8125 -8.578125 2.328125 -10.328125 5.359375 -10.328125 C 6.140625 -10.328125 6.816406 -10.21875 7.390625 -10 C 7.960938 -9.78125 8.429688 -9.453125 8.796875 -9.015625 C 9.160156 -8.578125 9.429688 -8.03125 9.609375 -7.375 C 9.785156 -6.71875 9.875 -5.953125 9.875 -5.078125 Z M 8.09375 -5.078125 C 8.09375 -5.867188 8.03125 -6.519531 7.90625 -7.03125 C 7.789062 -7.539062 7.613281 -7.945312 7.375 -8.25 C 7.144531 -8.5625 6.859375 -8.773438 6.515625 -8.890625 C 6.179688 -9.015625 5.800781 -9.078125 5.375 -9.078125 C 4.945312 -9.078125 4.554688 -9.015625 4.203125 -8.890625 C 3.859375 -8.765625 3.566406 -8.546875 3.328125 -8.234375 C 3.085938 -7.921875 2.898438 -7.507812 2.765625 -7 C 2.640625 -6.488281 2.578125 -5.847656 2.578125 -5.078125 C 2.578125 -4.296875 2.644531 -3.644531 2.78125 -3.125 C 2.914062 -2.613281 3.101562 -2.203125 3.34375 -1.890625 C 3.59375 -1.585938 3.878906 -1.375 4.203125 -1.25 C 4.535156 -1.125 4.894531 -1.0625 5.28125 -1.0625 C 5.707031 -1.0625 6.09375 -1.117188 6.4375 -1.234375 C 6.789062 -1.359375 7.085938 -1.570312 7.328125 -1.875 C 7.578125 -2.1875 7.765625 -2.601562 7.890625 -3.125 C 8.023438 -3.644531 8.09375 -4.296875 8.09375 -5.078125 Z M 8.09375 -5.078125 \"/>\n",
       "</g>\n",
       "<g id=\"glyph-3-9\">\n",
       "<path d=\"M 2.9375 -10.140625 L 2.9375 -3.71875 C 2.9375 -3.21875 2.972656 -2.800781 3.046875 -2.46875 C 3.117188 -2.144531 3.234375 -1.878906 3.390625 -1.671875 C 3.554688 -1.472656 3.769531 -1.328125 4.03125 -1.234375 C 4.300781 -1.148438 4.632812 -1.109375 5.03125 -1.109375 C 5.4375 -1.109375 5.796875 -1.175781 6.109375 -1.3125 C 6.429688 -1.457031 6.707031 -1.660156 6.9375 -1.921875 C 7.164062 -2.191406 7.34375 -2.519531 7.46875 -2.90625 C 7.59375 -3.300781 7.65625 -3.753906 7.65625 -4.265625 L 7.65625 -10.140625 L 9.34375 -10.140625 L 9.34375 -2.171875 C 9.34375 -1.953125 9.34375 -1.722656 9.34375 -1.484375 C 9.351562 -1.253906 9.359375 -1.035156 9.359375 -0.828125 C 9.367188 -0.617188 9.375 -0.4375 9.375 -0.28125 C 9.382812 -0.132812 9.394531 -0.0390625 9.40625 0 L 7.8125 0 C 7.800781 -0.03125 7.789062 -0.113281 7.78125 -0.25 C 7.78125 -0.382812 7.773438 -0.539062 7.765625 -0.71875 C 7.753906 -0.90625 7.742188 -1.085938 7.734375 -1.265625 C 7.734375 -1.453125 7.734375 -1.609375 7.734375 -1.734375 L 7.703125 -1.734375 C 7.546875 -1.441406 7.367188 -1.175781 7.171875 -0.9375 C 6.972656 -0.695312 6.742188 -0.492188 6.484375 -0.328125 C 6.234375 -0.160156 5.941406 -0.0351562 5.609375 0.046875 C 5.285156 0.140625 4.90625 0.1875 4.46875 0.1875 C 3.90625 0.1875 3.421875 0.117188 3.015625 -0.015625 C 2.609375 -0.148438 2.269531 -0.363281 2 -0.65625 C 1.738281 -0.945312 1.546875 -1.316406 1.421875 -1.765625 C 1.304688 -2.210938 1.25 -2.753906 1.25 -3.390625 L 1.25 -10.140625 Z M 2.9375 -10.140625 \"/>\n",
       "</g>\n",
       "<g id=\"glyph-3-10\">\n",
       "<path d=\"M 8.90625 -2.796875 C 8.90625 -2.328125 8.8125 -1.90625 8.625 -1.53125 C 8.445312 -1.15625 8.179688 -0.84375 7.828125 -0.59375 C 7.472656 -0.34375 7.039062 -0.148438 6.53125 -0.015625 C 6.03125 0.117188 5.453125 0.1875 4.796875 0.1875 C 4.203125 0.1875 3.671875 0.140625 3.203125 0.046875 C 2.734375 -0.0351562 2.316406 -0.175781 1.953125 -0.375 C 1.597656 -0.582031 1.300781 -0.847656 1.0625 -1.171875 C 0.820312 -1.503906 0.644531 -1.90625 0.53125 -2.375 L 2.03125 -2.671875 C 2.164062 -2.128906 2.457031 -1.726562 2.90625 -1.46875 C 3.363281 -1.21875 3.992188 -1.09375 4.796875 -1.09375 C 5.148438 -1.09375 5.476562 -1.117188 5.78125 -1.171875 C 6.09375 -1.222656 6.359375 -1.304688 6.578125 -1.421875 C 6.796875 -1.546875 6.960938 -1.707031 7.078125 -1.90625 C 7.203125 -2.113281 7.265625 -2.367188 7.265625 -2.671875 C 7.265625 -2.972656 7.191406 -3.222656 7.046875 -3.421875 C 6.898438 -3.617188 6.695312 -3.78125 6.4375 -3.90625 C 6.1875 -4.039062 5.878906 -4.15625 5.515625 -4.25 C 5.148438 -4.351562 4.75 -4.460938 4.3125 -4.578125 C 3.90625 -4.691406 3.5 -4.8125 3.09375 -4.9375 C 2.695312 -5.070312 2.335938 -5.242188 2.015625 -5.453125 C 1.691406 -5.671875 1.429688 -5.9375 1.234375 -6.25 C 1.035156 -6.570312 0.9375 -6.976562 0.9375 -7.46875 C 0.9375 -8.382812 1.265625 -9.085938 1.921875 -9.578125 C 2.585938 -10.066406 3.550781 -10.3125 4.8125 -10.3125 C 5.925781 -10.3125 6.8125 -10.113281 7.46875 -9.71875 C 8.132812 -9.320312 8.554688 -8.6875 8.734375 -7.8125 L 7.203125 -7.625 C 7.148438 -7.894531 7.046875 -8.117188 6.890625 -8.296875 C 6.742188 -8.472656 6.5625 -8.613281 6.34375 -8.71875 C 6.132812 -8.832031 5.894531 -8.910156 5.625 -8.953125 C 5.363281 -9.003906 5.09375 -9.03125 4.8125 -9.03125 C 4.050781 -9.03125 3.488281 -8.910156 3.125 -8.671875 C 2.757812 -8.441406 2.578125 -8.09375 2.578125 -7.625 C 2.578125 -7.351562 2.644531 -7.128906 2.78125 -6.953125 C 2.914062 -6.773438 3.101562 -6.625 3.34375 -6.5 C 3.582031 -6.375 3.867188 -6.265625 4.203125 -6.171875 C 4.546875 -6.085938 4.921875 -5.992188 5.328125 -5.890625 C 5.597656 -5.828125 5.875 -5.753906 6.15625 -5.671875 C 6.4375 -5.597656 6.707031 -5.503906 6.96875 -5.390625 C 7.238281 -5.285156 7.488281 -5.160156 7.71875 -5.015625 C 7.957031 -4.867188 8.160156 -4.691406 8.328125 -4.484375 C 8.503906 -4.273438 8.644531 -4.03125 8.75 -3.75 C 8.851562 -3.476562 8.90625 -3.160156 8.90625 -2.796875 Z M 8.90625 -2.796875 \"/>\n",
       "</g>\n",
       "<g id=\"glyph-3-11\">\n",
       "<path d=\"M 9.875 -5.125 C 9.875 -1.582031 8.628906 0.1875 6.140625 0.1875 C 5.367188 0.1875 4.726562 0.0507812 4.21875 -0.21875 C 3.707031 -0.5 3.296875 -0.953125 2.984375 -1.578125 L 2.96875 -1.578125 C 2.96875 -1.410156 2.960938 -1.238281 2.953125 -1.0625 C 2.941406 -0.894531 2.929688 -0.734375 2.921875 -0.578125 C 2.910156 -0.429688 2.898438 -0.300781 2.890625 -0.1875 C 2.878906 -0.0820312 2.875 -0.0195312 2.875 0 L 1.234375 0 C 1.242188 -0.0507812 1.25 -0.144531 1.25 -0.28125 C 1.257812 -0.414062 1.265625 -0.578125 1.265625 -0.765625 C 1.273438 -0.953125 1.28125 -1.15625 1.28125 -1.375 C 1.289062 -1.601562 1.296875 -1.84375 1.296875 -2.09375 L 1.296875 -13.921875 L 2.984375 -13.921875 L 2.984375 -9.953125 C 2.984375 -9.765625 2.976562 -9.582031 2.96875 -9.40625 C 2.96875 -9.238281 2.96875 -9.085938 2.96875 -8.953125 C 2.957031 -8.796875 2.945312 -8.648438 2.9375 -8.515625 L 2.984375 -8.515625 C 3.296875 -9.160156 3.707031 -9.625 4.21875 -9.90625 C 4.738281 -10.1875 5.378906 -10.328125 6.140625 -10.328125 C 7.421875 -10.328125 8.363281 -9.894531 8.96875 -9.03125 C 9.570312 -8.175781 9.875 -6.875 9.875 -5.125 Z M 8.09375 -5.0625 C 8.09375 -5.757812 8.050781 -6.359375 7.96875 -6.859375 C 7.882812 -7.359375 7.742188 -7.769531 7.546875 -8.09375 C 7.347656 -8.414062 7.097656 -8.648438 6.796875 -8.796875 C 6.503906 -8.953125 6.140625 -9.03125 5.703125 -9.03125 C 5.265625 -9.03125 4.875 -8.957031 4.53125 -8.8125 C 4.1875 -8.664062 3.898438 -8.429688 3.671875 -8.109375 C 3.453125 -7.796875 3.28125 -7.378906 3.15625 -6.859375 C 3.039062 -6.335938 2.984375 -5.703125 2.984375 -4.953125 C 2.984375 -4.234375 3.039062 -3.625 3.15625 -3.125 C 3.28125 -2.632812 3.453125 -2.234375 3.671875 -1.921875 C 3.898438 -1.617188 4.179688 -1.398438 4.515625 -1.265625 C 4.859375 -1.128906 5.25 -1.0625 5.6875 -1.0625 C 6.101562 -1.0625 6.457031 -1.128906 6.75 -1.265625 C 7.050781 -1.410156 7.300781 -1.644531 7.5 -1.96875 C 7.707031 -2.289062 7.859375 -2.703125 7.953125 -3.203125 C 8.046875 -3.710938 8.09375 -4.332031 8.09375 -5.0625 Z M 8.09375 -5.0625 \"/>\n",
       "</g>\n",
       "<g id=\"glyph-3-12\">\n",
       "<path d=\"M 5.65625 0 C 5.425781 0.613281 5.1875 1.164062 4.9375 1.65625 C 4.6875 2.144531 4.40625 2.5625 4.09375 2.90625 C 3.789062 3.257812 3.453125 3.523438 3.078125 3.703125 C 2.703125 3.890625 2.273438 3.984375 1.796875 3.984375 C 1.578125 3.984375 1.375 3.976562 1.1875 3.96875 C 1.007812 3.957031 0.820312 3.925781 0.625 3.875 L 0.625 2.609375 C 0.75 2.628906 0.882812 2.644531 1.03125 2.65625 C 1.175781 2.664062 1.304688 2.671875 1.421875 2.671875 C 1.910156 2.671875 2.367188 2.484375 2.796875 2.109375 C 3.222656 1.742188 3.59375 1.160156 3.90625 0.359375 L 4.0625 -0.046875 L 0.046875 -10.140625 L 1.84375 -10.140625 L 3.984375 -4.53125 C 4.046875 -4.363281 4.125 -4.140625 4.21875 -3.859375 C 4.320312 -3.578125 4.421875 -3.296875 4.515625 -3.015625 C 4.609375 -2.734375 4.691406 -2.476562 4.765625 -2.25 C 4.847656 -2.03125 4.894531 -1.894531 4.90625 -1.84375 C 4.925781 -1.90625 4.96875 -2.035156 5.03125 -2.234375 C 5.101562 -2.441406 5.1875 -2.671875 5.28125 -2.921875 C 5.375 -3.171875 5.46875 -3.421875 5.5625 -3.671875 C 5.65625 -3.929688 5.734375 -4.15625 5.796875 -4.34375 L 7.78125 -10.140625 L 9.5625 -10.140625 Z M 5.65625 0 \"/>\n",
       "</g>\n",
       "<g id=\"glyph-3-13\">\n",
       "<path d=\"M 11.921875 -3.640625 C 11.921875 -3.085938 11.8125 -2.578125 11.59375 -2.109375 C 11.382812 -1.640625 11.054688 -1.234375 10.609375 -0.890625 C 10.160156 -0.554688 9.59375 -0.289062 8.90625 -0.09375 C 8.21875 0.09375 7.40625 0.1875 6.46875 0.1875 C 4.820312 0.1875 3.539062 -0.0976562 2.625 -0.671875 C 1.707031 -1.242188 1.125 -2.078125 0.875 -3.171875 L 2.609375 -3.515625 C 2.691406 -3.171875 2.820312 -2.859375 3 -2.578125 C 3.1875 -2.296875 3.429688 -2.050781 3.734375 -1.84375 C 4.046875 -1.644531 4.429688 -1.488281 4.890625 -1.375 C 5.347656 -1.257812 5.894531 -1.203125 6.53125 -1.203125 C 7.0625 -1.203125 7.546875 -1.25 7.984375 -1.34375 C 8.429688 -1.4375 8.816406 -1.578125 9.140625 -1.765625 C 9.460938 -1.953125 9.710938 -2.191406 9.890625 -2.484375 C 10.066406 -2.785156 10.15625 -3.140625 10.15625 -3.546875 C 10.15625 -3.984375 10.054688 -4.332031 9.859375 -4.59375 C 9.660156 -4.863281 9.382812 -5.085938 9.03125 -5.265625 C 8.675781 -5.441406 8.25 -5.585938 7.75 -5.703125 C 7.257812 -5.828125 6.710938 -5.957031 6.109375 -6.09375 C 5.742188 -6.175781 5.375 -6.265625 5 -6.359375 C 4.625 -6.453125 4.265625 -6.566406 3.921875 -6.703125 C 3.585938 -6.835938 3.269531 -6.992188 2.96875 -7.171875 C 2.664062 -7.359375 2.40625 -7.578125 2.1875 -7.828125 C 1.96875 -8.085938 1.796875 -8.382812 1.671875 -8.71875 C 1.546875 -9.050781 1.484375 -9.4375 1.484375 -9.875 C 1.484375 -10.5 1.609375 -11.035156 1.859375 -11.484375 C 2.117188 -11.929688 2.472656 -12.296875 2.921875 -12.578125 C 3.367188 -12.867188 3.898438 -13.078125 4.515625 -13.203125 C 5.128906 -13.335938 5.789062 -13.40625 6.5 -13.40625 C 7.320312 -13.40625 8.023438 -13.34375 8.609375 -13.21875 C 9.191406 -13.09375 9.679688 -12.898438 10.078125 -12.640625 C 10.484375 -12.378906 10.804688 -12.0625 11.046875 -11.6875 C 11.285156 -11.3125 11.476562 -10.875 11.625 -10.375 L 9.859375 -10.0625 C 9.765625 -10.382812 9.632812 -10.671875 9.46875 -10.921875 C 9.300781 -11.171875 9.082031 -11.378906 8.8125 -11.546875 C 8.550781 -11.710938 8.226562 -11.835938 7.84375 -11.921875 C 7.457031 -12.015625 7.003906 -12.0625 6.484375 -12.0625 C 5.867188 -12.0625 5.351562 -12.003906 4.9375 -11.890625 C 4.53125 -11.785156 4.195312 -11.640625 3.9375 -11.453125 C 3.6875 -11.265625 3.503906 -11.039062 3.390625 -10.78125 C 3.285156 -10.53125 3.234375 -10.257812 3.234375 -9.96875 C 3.234375 -9.570312 3.332031 -9.242188 3.53125 -8.984375 C 3.726562 -8.734375 3.992188 -8.523438 4.328125 -8.359375 C 4.671875 -8.191406 5.0625 -8.050781 5.5 -7.9375 C 5.945312 -7.820312 6.421875 -7.710938 6.921875 -7.609375 C 7.328125 -7.515625 7.726562 -7.414062 8.125 -7.3125 C 8.53125 -7.21875 8.914062 -7.101562 9.28125 -6.96875 C 9.65625 -6.832031 10.003906 -6.671875 10.328125 -6.484375 C 10.648438 -6.304688 10.929688 -6.085938 11.171875 -5.828125 C 11.410156 -5.566406 11.59375 -5.257812 11.71875 -4.90625 C 11.851562 -4.550781 11.921875 -4.128906 11.921875 -3.640625 Z M 11.921875 -3.640625 \"/>\n",
       "</g>\n",
       "<g id=\"glyph-3-14\">\n",
       "<path d=\"M 2.578125 -5.125 C 2.578125 -4.539062 2.617188 -4.003906 2.703125 -3.515625 C 2.785156 -3.023438 2.925781 -2.601562 3.125 -2.25 C 3.332031 -1.894531 3.597656 -1.617188 3.921875 -1.421875 C 4.253906 -1.234375 4.660156 -1.140625 5.140625 -1.140625 C 5.734375 -1.140625 6.234375 -1.300781 6.640625 -1.625 C 7.046875 -1.957031 7.296875 -2.457031 7.390625 -3.125 L 9.09375 -3.015625 C 9.039062 -2.597656 8.921875 -2.195312 8.734375 -1.8125 C 8.546875 -1.425781 8.289062 -1.082031 7.96875 -0.78125 C 7.644531 -0.488281 7.25 -0.253906 6.78125 -0.078125 C 6.320312 0.0976562 5.789062 0.1875 5.1875 0.1875 C 4.394531 0.1875 3.71875 0.0507812 3.15625 -0.21875 C 2.601562 -0.488281 2.148438 -0.859375 1.796875 -1.328125 C 1.453125 -1.796875 1.203125 -2.347656 1.046875 -2.984375 C 0.890625 -3.628906 0.8125 -4.328125 0.8125 -5.078125 C 0.8125 -5.765625 0.867188 -6.367188 0.984375 -6.890625 C 1.097656 -7.410156 1.253906 -7.863281 1.453125 -8.25 C 1.660156 -8.644531 1.898438 -8.972656 2.171875 -9.234375 C 2.453125 -9.503906 2.75 -9.71875 3.0625 -9.875 C 3.382812 -10.039062 3.722656 -10.15625 4.078125 -10.21875 C 4.441406 -10.289062 4.804688 -10.328125 5.171875 -10.328125 C 5.734375 -10.328125 6.234375 -10.25 6.671875 -10.09375 C 7.117188 -9.9375 7.503906 -9.722656 7.828125 -9.453125 C 8.148438 -9.179688 8.410156 -8.859375 8.609375 -8.484375 C 8.816406 -8.117188 8.957031 -7.722656 9.03125 -7.296875 L 7.296875 -7.171875 C 7.210938 -7.734375 6.992188 -8.179688 6.640625 -8.515625 C 6.285156 -8.847656 5.78125 -9.015625 5.125 -9.015625 C 4.632812 -9.015625 4.226562 -8.929688 3.90625 -8.765625 C 3.59375 -8.609375 3.332031 -8.367188 3.125 -8.046875 C 2.925781 -7.722656 2.785156 -7.316406 2.703125 -6.828125 C 2.617188 -6.347656 2.578125 -5.78125 2.578125 -5.125 Z M 2.578125 -5.125 \"/>\n",
       "</g>\n",
       "<g id=\"glyph-3-15\">\n",
       "<path d=\"M 1.28125 -12.296875 L 1.28125 -13.921875 L 2.96875 -13.921875 L 2.96875 -12.296875 Z M 1.28125 0 L 1.28125 -10.140625 L 2.96875 -10.140625 L 2.96875 0 Z M 1.28125 0 \"/>\n",
       "</g>\n",
       "<g id=\"glyph-3-16\">\n",
       "<path d=\"M 9.875 -5.125 C 9.875 -4.351562 9.8125 -3.640625 9.6875 -2.984375 C 9.5625 -2.335938 9.351562 -1.78125 9.0625 -1.3125 C 8.769531 -0.84375 8.382812 -0.472656 7.90625 -0.203125 C 7.425781 0.0546875 6.835938 0.1875 6.140625 0.1875 C 5.410156 0.1875 4.773438 0.0507812 4.234375 -0.21875 C 3.691406 -0.5 3.273438 -0.953125 2.984375 -1.578125 L 2.9375 -1.578125 C 2.945312 -1.566406 2.953125 -1.507812 2.953125 -1.40625 C 2.960938 -1.300781 2.96875 -1.175781 2.96875 -1.03125 C 2.96875 -0.882812 2.96875 -0.71875 2.96875 -0.53125 C 2.976562 -0.34375 2.984375 -0.160156 2.984375 0.015625 L 2.984375 3.984375 L 1.296875 3.984375 L 1.296875 -8.078125 C 1.296875 -8.316406 1.289062 -8.546875 1.28125 -8.765625 C 1.28125 -8.992188 1.273438 -9.203125 1.265625 -9.390625 C 1.265625 -9.578125 1.257812 -9.734375 1.25 -9.859375 C 1.25 -9.992188 1.242188 -10.085938 1.234375 -10.140625 L 2.875 -10.140625 C 2.875 -10.128906 2.878906 -10.066406 2.890625 -9.953125 C 2.898438 -9.835938 2.910156 -9.695312 2.921875 -9.53125 C 2.929688 -9.375 2.941406 -9.203125 2.953125 -9.015625 C 2.960938 -8.835938 2.96875 -8.671875 2.96875 -8.515625 L 3 -8.515625 C 3.15625 -8.835938 3.332031 -9.113281 3.53125 -9.34375 C 3.726562 -9.570312 3.957031 -9.757812 4.21875 -9.90625 C 4.476562 -10.050781 4.765625 -10.15625 5.078125 -10.21875 C 5.390625 -10.289062 5.742188 -10.328125 6.140625 -10.328125 C 6.835938 -10.328125 7.425781 -10.203125 7.90625 -9.953125 C 8.382812 -9.703125 8.769531 -9.347656 9.0625 -8.890625 C 9.351562 -8.441406 9.5625 -7.894531 9.6875 -7.25 C 9.8125 -6.613281 9.875 -5.90625 9.875 -5.125 Z M 8.09375 -5.078125 C 8.09375 -5.703125 8.054688 -6.257812 7.984375 -6.75 C 7.910156 -7.238281 7.78125 -7.648438 7.59375 -7.984375 C 7.414062 -8.328125 7.171875 -8.582031 6.859375 -8.75 C 6.554688 -8.925781 6.171875 -9.015625 5.703125 -9.015625 C 5.328125 -9.015625 4.972656 -8.960938 4.640625 -8.859375 C 4.316406 -8.753906 4.03125 -8.550781 3.78125 -8.25 C 3.53125 -7.945312 3.332031 -7.53125 3.1875 -7 C 3.050781 -6.476562 2.984375 -5.796875 2.984375 -4.953125 C 2.984375 -4.234375 3.039062 -3.625 3.15625 -3.125 C 3.28125 -2.625 3.453125 -2.222656 3.671875 -1.921875 C 3.898438 -1.617188 4.179688 -1.398438 4.515625 -1.265625 C 4.859375 -1.128906 5.25 -1.0625 5.6875 -1.0625 C 6.15625 -1.0625 6.546875 -1.148438 6.859375 -1.328125 C 7.171875 -1.515625 7.414062 -1.78125 7.59375 -2.125 C 7.78125 -2.46875 7.910156 -2.882812 7.984375 -3.375 C 8.054688 -3.875 8.09375 -4.441406 8.09375 -5.078125 Z M 8.09375 -5.078125 \"/>\n",
       "</g>\n",
       "<g id=\"glyph-3-17\">\n",
       "<path d=\"M 5.1875 -0.078125 C 4.9375 -0.00390625 4.675781 0.0507812 4.40625 0.09375 C 4.144531 0.132812 3.835938 0.15625 3.484375 0.15625 C 2.140625 0.15625 1.46875 -0.609375 1.46875 -2.140625 L 1.46875 -8.921875 L 0.296875 -8.921875 L 0.296875 -10.140625 L 1.53125 -10.140625 L 2.03125 -12.421875 L 3.15625 -12.421875 L 3.15625 -10.140625 L 5.03125 -10.140625 L 5.03125 -8.921875 L 3.15625 -8.921875 L 3.15625 -2.515625 C 3.15625 -2.023438 3.234375 -1.679688 3.390625 -1.484375 C 3.546875 -1.285156 3.820312 -1.1875 4.21875 -1.1875 C 4.382812 -1.1875 4.539062 -1.195312 4.6875 -1.21875 C 4.84375 -1.25 5.007812 -1.285156 5.1875 -1.328125 Z M 5.1875 -0.078125 \"/>\n",
       "</g>\n",
       "<g id=\"glyph-3-18\">\n",
       "<path d=\"M 7.734375 0 L 7.734375 -6.4375 C 7.734375 -6.925781 7.695312 -7.335938 7.625 -7.671875 C 7.550781 -8.003906 7.429688 -8.269531 7.265625 -8.46875 C 7.109375 -8.675781 6.894531 -8.820312 6.625 -8.90625 C 6.363281 -8.988281 6.035156 -9.03125 5.640625 -9.03125 C 5.242188 -9.03125 4.882812 -8.957031 4.5625 -8.8125 C 4.238281 -8.675781 3.960938 -8.472656 3.734375 -8.203125 C 3.503906 -7.941406 3.328125 -7.613281 3.203125 -7.21875 C 3.078125 -6.832031 3.015625 -6.382812 3.015625 -5.875 L 3.015625 0 L 1.328125 0 L 1.328125 -7.984375 C 1.328125 -8.191406 1.328125 -8.410156 1.328125 -8.640625 C 1.328125 -8.878906 1.320312 -9.101562 1.3125 -9.3125 C 1.300781 -9.519531 1.289062 -9.695312 1.28125 -9.84375 C 1.28125 -10 1.28125 -10.097656 1.28125 -10.140625 L 2.875 -10.140625 C 2.875 -10.109375 2.875 -10.023438 2.875 -9.890625 C 2.882812 -9.753906 2.894531 -9.597656 2.90625 -9.421875 C 2.914062 -9.242188 2.921875 -9.0625 2.921875 -8.875 C 2.929688 -8.6875 2.9375 -8.53125 2.9375 -8.40625 L 2.96875 -8.40625 C 3.132812 -8.695312 3.3125 -8.960938 3.5 -9.203125 C 3.695312 -9.441406 3.921875 -9.644531 4.171875 -9.8125 C 4.429688 -9.976562 4.726562 -10.101562 5.0625 -10.1875 C 5.394531 -10.28125 5.78125 -10.328125 6.21875 -10.328125 C 6.78125 -10.328125 7.265625 -10.257812 7.671875 -10.125 C 8.078125 -9.988281 8.410156 -9.773438 8.671875 -9.484375 C 8.929688 -9.203125 9.125 -8.832031 9.25 -8.375 C 9.375 -7.925781 9.4375 -7.390625 9.4375 -6.765625 L 9.4375 0 Z M 7.734375 0 \"/>\n",
       "</g>\n",
       "</g>\n",
       "<clipPath id=\"clip-0\">\n",
       "<path clip-rule=\"nonzero\" d=\"M 35.152344 28.957031 L 498.523438 28.957031 L 498.523438 463.847656 L 35.152344 463.847656 Z M 35.152344 28.957031 \"/>\n",
       "</clipPath>\n",
       "<clipPath id=\"clip-1\">\n",
       "<path clip-rule=\"nonzero\" d=\"M 35.152344 392 L 498.523438 392 L 498.523438 394 L 35.152344 394 Z M 35.152344 392 \"/>\n",
       "</clipPath>\n",
       "<clipPath id=\"clip-2\">\n",
       "<path clip-rule=\"nonzero\" d=\"M 35.152344 291 L 498.523438 291 L 498.523438 292 L 35.152344 292 Z M 35.152344 291 \"/>\n",
       "</clipPath>\n",
       "<clipPath id=\"clip-3\">\n",
       "<path clip-rule=\"nonzero\" d=\"M 35.152344 189 L 498.523438 189 L 498.523438 191 L 35.152344 191 Z M 35.152344 189 \"/>\n",
       "</clipPath>\n",
       "<clipPath id=\"clip-4\">\n",
       "<path clip-rule=\"nonzero\" d=\"M 35.152344 87 L 498.523438 87 L 498.523438 89 L 35.152344 89 Z M 35.152344 87 \"/>\n",
       "</clipPath>\n",
       "<clipPath id=\"clip-5\">\n",
       "<path clip-rule=\"nonzero\" d=\"M 35.152344 443 L 498.523438 443 L 498.523438 445 L 35.152344 445 Z M 35.152344 443 \"/>\n",
       "</clipPath>\n",
       "<clipPath id=\"clip-6\">\n",
       "<path clip-rule=\"nonzero\" d=\"M 35.152344 341 L 498.523438 341 L 498.523438 343 L 35.152344 343 Z M 35.152344 341 \"/>\n",
       "</clipPath>\n",
       "<clipPath id=\"clip-7\">\n",
       "<path clip-rule=\"nonzero\" d=\"M 35.152344 240 L 498.523438 240 L 498.523438 242 L 35.152344 242 Z M 35.152344 240 \"/>\n",
       "</clipPath>\n",
       "<clipPath id=\"clip-8\">\n",
       "<path clip-rule=\"nonzero\" d=\"M 35.152344 138 L 498.523438 138 L 498.523438 140 L 35.152344 140 Z M 35.152344 138 \"/>\n",
       "</clipPath>\n",
       "<clipPath id=\"clip-9\">\n",
       "<path clip-rule=\"nonzero\" d=\"M 35.152344 36 L 498.523438 36 L 498.523438 38 L 35.152344 38 Z M 35.152344 36 \"/>\n",
       "</clipPath>\n",
       "<clipPath id=\"clip-10\">\n",
       "<path clip-rule=\"nonzero\" d=\"M 160 28.957031 L 163 28.957031 L 163 463.847656 L 160 463.847656 Z M 160 28.957031 \"/>\n",
       "</clipPath>\n",
       "<clipPath id=\"clip-11\">\n",
       "<path clip-rule=\"nonzero\" d=\"M 371 28.957031 L 373 28.957031 L 373 463.847656 L 371 463.847656 Z M 371 28.957031 \"/>\n",
       "</clipPath>\n",
       "</defs>\n",
       "<rect x=\"-50.4\" y=\"-50.4\" width=\"604.8\" height=\"604.8\" fill=\"rgb(100%, 100%, 100%)\" fill-opacity=\"1\"/>\n",
       "<rect x=\"-50.4\" y=\"-50.4\" width=\"604.8\" height=\"604.8\" fill=\"rgb(100%, 100%, 100%)\" fill-opacity=\"1\"/>\n",
       "<path fill=\"none\" stroke-width=\"1.066978\" stroke-linecap=\"round\" stroke-linejoin=\"round\" stroke=\"rgb(100%, 100%, 100%)\" stroke-opacity=\"1\" stroke-miterlimit=\"10\" d=\"M 0 504 L 504 504 L 504 0 L 0 0 Z M 0 504 \"/>\n",
       "<g clip-path=\"url(#clip-0)\">\n",
       "<path fill-rule=\"nonzero\" fill=\"rgb(92.156863%, 92.156863%, 92.156863%)\" fill-opacity=\"1\" d=\"M 35.152344 463.847656 L 498.523438 463.847656 L 498.523438 28.957031 L 35.152344 28.957031 Z M 35.152344 463.847656 \"/>\n",
       "</g>\n",
       "<g clip-path=\"url(#clip-1)\">\n",
       "<path fill=\"none\" stroke-width=\"0.533489\" stroke-linecap=\"butt\" stroke-linejoin=\"round\" stroke=\"rgb(100%, 100%, 100%)\" stroke-opacity=\"1\" stroke-miterlimit=\"10\" d=\"M 35.152344 393.238281 L 498.519531 393.238281 \"/>\n",
       "</g>\n",
       "<g clip-path=\"url(#clip-2)\">\n",
       "<path fill=\"none\" stroke-width=\"0.533489\" stroke-linecap=\"butt\" stroke-linejoin=\"round\" stroke=\"rgb(100%, 100%, 100%)\" stroke-opacity=\"1\" stroke-miterlimit=\"10\" d=\"M 35.152344 291.546875 L 498.519531 291.546875 \"/>\n",
       "</g>\n",
       "<g clip-path=\"url(#clip-3)\">\n",
       "<path fill=\"none\" stroke-width=\"0.533489\" stroke-linecap=\"butt\" stroke-linejoin=\"round\" stroke=\"rgb(100%, 100%, 100%)\" stroke-opacity=\"1\" stroke-miterlimit=\"10\" d=\"M 35.152344 189.855469 L 498.519531 189.855469 \"/>\n",
       "</g>\n",
       "<g clip-path=\"url(#clip-4)\">\n",
       "<path fill=\"none\" stroke-width=\"0.533489\" stroke-linecap=\"butt\" stroke-linejoin=\"round\" stroke=\"rgb(100%, 100%, 100%)\" stroke-opacity=\"1\" stroke-miterlimit=\"10\" d=\"M 35.152344 88.167969 L 498.519531 88.167969 \"/>\n",
       "</g>\n",
       "<g clip-path=\"url(#clip-5)\">\n",
       "<path fill=\"none\" stroke-width=\"1.066978\" stroke-linecap=\"butt\" stroke-linejoin=\"round\" stroke=\"rgb(100%, 100%, 100%)\" stroke-opacity=\"1\" stroke-miterlimit=\"10\" d=\"M 35.152344 444.082031 L 498.519531 444.082031 \"/>\n",
       "</g>\n",
       "<g clip-path=\"url(#clip-6)\">\n",
       "<path fill=\"none\" stroke-width=\"1.066978\" stroke-linecap=\"butt\" stroke-linejoin=\"round\" stroke=\"rgb(100%, 100%, 100%)\" stroke-opacity=\"1\" stroke-miterlimit=\"10\" d=\"M 35.152344 342.390625 L 498.519531 342.390625 \"/>\n",
       "</g>\n",
       "<g clip-path=\"url(#clip-7)\">\n",
       "<path fill=\"none\" stroke-width=\"1.066978\" stroke-linecap=\"butt\" stroke-linejoin=\"round\" stroke=\"rgb(100%, 100%, 100%)\" stroke-opacity=\"1\" stroke-miterlimit=\"10\" d=\"M 35.152344 240.703125 L 498.519531 240.703125 \"/>\n",
       "</g>\n",
       "<g clip-path=\"url(#clip-8)\">\n",
       "<path fill=\"none\" stroke-width=\"1.066978\" stroke-linecap=\"butt\" stroke-linejoin=\"round\" stroke=\"rgb(100%, 100%, 100%)\" stroke-opacity=\"1\" stroke-miterlimit=\"10\" d=\"M 35.152344 139.011719 L 498.519531 139.011719 \"/>\n",
       "</g>\n",
       "<g clip-path=\"url(#clip-9)\">\n",
       "<path fill=\"none\" stroke-width=\"1.066978\" stroke-linecap=\"butt\" stroke-linejoin=\"round\" stroke=\"rgb(100%, 100%, 100%)\" stroke-opacity=\"1\" stroke-miterlimit=\"10\" d=\"M 35.152344 37.320312 L 498.519531 37.320312 \"/>\n",
       "</g>\n",
       "<g clip-path=\"url(#clip-10)\">\n",
       "<path fill=\"none\" stroke-width=\"1.066978\" stroke-linecap=\"butt\" stroke-linejoin=\"round\" stroke=\"rgb(100%, 100%, 100%)\" stroke-opacity=\"1\" stroke-miterlimit=\"10\" d=\"M 161.523438 463.847656 L 161.523438 28.957031 \"/>\n",
       "</g>\n",
       "<g clip-path=\"url(#clip-11)\">\n",
       "<path fill=\"none\" stroke-width=\"1.066978\" stroke-linecap=\"butt\" stroke-linejoin=\"round\" stroke=\"rgb(100%, 100%, 100%)\" stroke-opacity=\"1\" stroke-miterlimit=\"10\" d=\"M 372.148438 463.847656 L 372.148438 28.957031 \"/>\n",
       "</g>\n",
       "<path fill-rule=\"nonzero\" fill=\"rgb(90.980392%, 45.490196%, 47.058824%)\" fill-opacity=\"1\" d=\"M 66.742188 444.082031 L 256.300781 444.082031 L 256.300781 418.5625 L 66.742188 418.5625 Z M 66.742188 444.082031 \"/>\n",
       "<path fill-rule=\"nonzero\" fill=\"rgb(90.980392%, 45.490196%, 47.058824%)\" fill-opacity=\"1\" d=\"M 277.367188 444.082031 L 466.925781 444.082031 L 466.925781 48.726562 L 277.367188 48.726562 Z M 277.367188 444.082031 \"/>\n",
       "<g fill=\"rgb(30.196078%, 30.196078%, 30.196078%)\" fill-opacity=\"1\">\n",
       "<use xlink:href=\"#glyph-0-0\" x=\"23.21875\" y=\"448.168945\"/>\n",
       "</g>\n",
       "<g fill=\"rgb(30.196078%, 30.196078%, 30.196078%)\" fill-opacity=\"1\">\n",
       "<use xlink:href=\"#glyph-0-1\" x=\"23.21875\" y=\"346.477539\"/>\n",
       "</g>\n",
       "<g fill=\"rgb(30.196078%, 30.196078%, 30.196078%)\" fill-opacity=\"1\">\n",
       "<use xlink:href=\"#glyph-0-2\" x=\"23.21875\" y=\"244.790039\"/>\n",
       "</g>\n",
       "<g fill=\"rgb(30.196078%, 30.196078%, 30.196078%)\" fill-opacity=\"1\">\n",
       "<use xlink:href=\"#glyph-0-3\" x=\"23.21875\" y=\"143.098633\"/>\n",
       "</g>\n",
       "<g fill=\"rgb(30.196078%, 30.196078%, 30.196078%)\" fill-opacity=\"1\">\n",
       "<use xlink:href=\"#glyph-0-4\" x=\"23.21875\" y=\"41.407227\"/>\n",
       "</g>\n",
       "<path fill=\"none\" stroke-width=\"1.066978\" stroke-linecap=\"butt\" stroke-linejoin=\"round\" stroke=\"rgb(20%, 20%, 20%)\" stroke-opacity=\"1\" stroke-miterlimit=\"10\" d=\"M 32.410156 444.082031 L 35.152344 444.082031 \"/>\n",
       "<path fill=\"none\" stroke-width=\"1.066978\" stroke-linecap=\"butt\" stroke-linejoin=\"round\" stroke=\"rgb(20%, 20%, 20%)\" stroke-opacity=\"1\" stroke-miterlimit=\"10\" d=\"M 32.410156 342.390625 L 35.152344 342.390625 \"/>\n",
       "<path fill=\"none\" stroke-width=\"1.066978\" stroke-linecap=\"butt\" stroke-linejoin=\"round\" stroke=\"rgb(20%, 20%, 20%)\" stroke-opacity=\"1\" stroke-miterlimit=\"10\" d=\"M 32.410156 240.703125 L 35.152344 240.703125 \"/>\n",
       "<path fill=\"none\" stroke-width=\"1.066978\" stroke-linecap=\"butt\" stroke-linejoin=\"round\" stroke=\"rgb(20%, 20%, 20%)\" stroke-opacity=\"1\" stroke-miterlimit=\"10\" d=\"M 32.410156 139.011719 L 35.152344 139.011719 \"/>\n",
       "<path fill=\"none\" stroke-width=\"1.066978\" stroke-linecap=\"butt\" stroke-linejoin=\"round\" stroke=\"rgb(20%, 20%, 20%)\" stroke-opacity=\"1\" stroke-miterlimit=\"10\" d=\"M 32.410156 37.320312 L 35.152344 37.320312 \"/>\n",
       "<path fill=\"none\" stroke-width=\"1.066978\" stroke-linecap=\"butt\" stroke-linejoin=\"round\" stroke=\"rgb(20%, 20%, 20%)\" stroke-opacity=\"1\" stroke-miterlimit=\"10\" d=\"M 161.523438 466.589844 L 161.523438 463.847656 \"/>\n",
       "<path fill=\"none\" stroke-width=\"1.066978\" stroke-linecap=\"butt\" stroke-linejoin=\"round\" stroke=\"rgb(20%, 20%, 20%)\" stroke-opacity=\"1\" stroke-miterlimit=\"10\" d=\"M 372.148438 466.589844 L 372.148438 463.847656 \"/>\n",
       "<g fill=\"rgb(30.196078%, 30.196078%, 30.196078%)\" fill-opacity=\"1\">\n",
       "<use xlink:href=\"#glyph-0-5\" x=\"141.023438\" y=\"477.368164\"/>\n",
       "<use xlink:href=\"#glyph-0-6\" x=\"148.023438\" y=\"477.368164\"/>\n",
       "<use xlink:href=\"#glyph-0-7\" x=\"157.023438\" y=\"477.368164\"/>\n",
       "<use xlink:href=\"#glyph-0-8\" x=\"164.023438\" y=\"477.368164\"/>\n",
       "<use xlink:href=\"#glyph-0-9\" x=\"173.023438\" y=\"477.368164\"/>\n",
       "</g>\n",
       "<g fill=\"rgb(30.196078%, 30.196078%, 30.196078%)\" fill-opacity=\"1\">\n",
       "<use xlink:href=\"#glyph-0-10\" x=\"354.648438\" y=\"477.368164\"/>\n",
       "<use xlink:href=\"#glyph-0-11\" x=\"362.648438\" y=\"477.368164\"/>\n",
       "<use xlink:href=\"#glyph-0-12\" x=\"371.648438\" y=\"477.368164\"/>\n",
       "<use xlink:href=\"#glyph-0-9\" x=\"380.648438\" y=\"477.368164\"/>\n",
       "</g>\n",
       "<g fill=\"rgb(0%, 0%, 0%)\" fill-opacity=\"1\">\n",
       "<use xlink:href=\"#glyph-1-0\" x=\"207.335938\" y=\"495.003906\"/>\n",
       "<use xlink:href=\"#glyph-1-1\" x=\"218.335938\" y=\"495.003906\"/>\n",
       "<use xlink:href=\"#glyph-1-2\" x=\"227.335938\" y=\"495.003906\"/>\n",
       "<use xlink:href=\"#glyph-1-3\" x=\"236.335938\" y=\"495.003906\"/>\n",
       "<use xlink:href=\"#glyph-1-4\" x=\"244.335938\" y=\"495.003906\"/>\n",
       "<use xlink:href=\"#glyph-1-5\" x=\"252.335938\" y=\"495.003906\"/>\n",
       "<use xlink:href=\"#glyph-1-6\" x=\"257.335938\" y=\"495.003906\"/>\n",
       "<use xlink:href=\"#glyph-1-2\" x=\"261.335938\" y=\"495.003906\"/>\n",
       "<use xlink:href=\"#glyph-1-7\" x=\"270.335938\" y=\"495.003906\"/>\n",
       "<use xlink:href=\"#glyph-1-8\" x=\"279.335938\" y=\"495.003906\"/>\n",
       "<use xlink:href=\"#glyph-1-9\" x=\"288.335938\" y=\"495.003906\"/>\n",
       "<use xlink:href=\"#glyph-1-10\" x=\"292.335938\" y=\"495.003906\"/>\n",
       "<use xlink:href=\"#glyph-1-11\" x=\"297.335938\" y=\"495.003906\"/>\n",
       "<use xlink:href=\"#glyph-1-12\" x=\"307.335938\" y=\"495.003906\"/>\n",
       "<use xlink:href=\"#glyph-1-13\" x=\"311.335938\" y=\"495.003906\"/>\n",
       "<use xlink:href=\"#glyph-1-14\" x=\"321.335938\" y=\"495.003906\"/>\n",
       "</g>\n",
       "<g fill=\"rgb(0%, 0%, 0%)\" fill-opacity=\"1\">\n",
       "<use xlink:href=\"#glyph-2-0\" x=\"16.964844\" y=\"326.402344\"/>\n",
       "<use xlink:href=\"#glyph-2-1\" x=\"16.964844\" y=\"316.402344\"/>\n",
       "<use xlink:href=\"#glyph-2-2\" x=\"16.964844\" y=\"308.402344\"/>\n",
       "<use xlink:href=\"#glyph-2-3\" x=\"16.964844\" y=\"299.402344\"/>\n",
       "<use xlink:href=\"#glyph-2-4\" x=\"16.964844\" y=\"294.402344\"/>\n",
       "<use xlink:href=\"#glyph-2-5\" x=\"16.964844\" y=\"285.402344\"/>\n",
       "<use xlink:href=\"#glyph-2-2\" x=\"16.964844\" y=\"276.402344\"/>\n",
       "<use xlink:href=\"#glyph-2-6\" x=\"16.964844\" y=\"267.402344\"/>\n",
       "<use xlink:href=\"#glyph-2-7\" x=\"16.964844\" y=\"263.402344\"/>\n",
       "<use xlink:href=\"#glyph-2-8\" x=\"16.964844\" y=\"251.402344\"/>\n",
       "<use xlink:href=\"#glyph-2-9\" x=\"16.964844\" y=\"242.402344\"/>\n",
       "<use xlink:href=\"#glyph-2-3\" x=\"16.964844\" y=\"233.402344\"/>\n",
       "<use xlink:href=\"#glyph-2-10\" x=\"16.964844\" y=\"228.402344\"/>\n",
       "<use xlink:href=\"#glyph-2-6\" x=\"16.964844\" y=\"220.402344\"/>\n",
       "<use xlink:href=\"#glyph-2-11\" x=\"16.964844\" y=\"216.402344\"/>\n",
       "<use xlink:href=\"#glyph-2-12\" x=\"16.964844\" y=\"205.402344\"/>\n",
       "<use xlink:href=\"#glyph-2-4\" x=\"16.964844\" y=\"201.402344\"/>\n",
       "<use xlink:href=\"#glyph-2-13\" x=\"16.964844\" y=\"192.402344\"/>\n",
       "<use xlink:href=\"#glyph-2-2\" x=\"16.964844\" y=\"184.402344\"/>\n",
       "<use xlink:href=\"#glyph-2-14\" x=\"16.964844\" y=\"175.402344\"/>\n",
       "</g>\n",
       "<g fill=\"rgb(0%, 0%, 0%)\" fill-opacity=\"1\">\n",
       "<use xlink:href=\"#glyph-3-0\" x=\"35.152344\" y=\"18.861328\"/>\n",
       "<use xlink:href=\"#glyph-3-1\" x=\"47.152344\" y=\"18.861328\"/>\n",
       "<use xlink:href=\"#glyph-3-2\" x=\"57.152344\" y=\"18.861328\"/>\n",
       "<use xlink:href=\"#glyph-3-3\" x=\"68.152344\" y=\"18.861328\"/>\n",
       "<use xlink:href=\"#glyph-3-4\" x=\"74.152344\" y=\"18.861328\"/>\n",
       "<use xlink:href=\"#glyph-3-5\" x=\"85.152344\" y=\"18.861328\"/>\n",
       "<use xlink:href=\"#glyph-3-2\" x=\"96.152344\" y=\"18.861328\"/>\n",
       "<use xlink:href=\"#glyph-3-6\" x=\"107.152344\" y=\"18.861328\"/>\n",
       "<use xlink:href=\"#glyph-3-7\" x=\"112.152344\" y=\"18.861328\"/>\n",
       "<use xlink:href=\"#glyph-3-8\" x=\"126.152344\" y=\"18.861328\"/>\n",
       "<use xlink:href=\"#glyph-3-9\" x=\"137.152344\" y=\"18.861328\"/>\n",
       "<use xlink:href=\"#glyph-3-3\" x=\"148.152344\" y=\"18.861328\"/>\n",
       "<use xlink:href=\"#glyph-3-10\" x=\"154.152344\" y=\"18.861328\"/>\n",
       "<use xlink:href=\"#glyph-3-6\" x=\"164.152344\" y=\"18.861328\"/>\n",
       "<use xlink:href=\"#glyph-3-11\" x=\"169.152344\" y=\"18.861328\"/>\n",
       "<use xlink:href=\"#glyph-3-12\" x=\"180.152344\" y=\"18.861328\"/>\n",
       "<use xlink:href=\"#glyph-3-6\" x=\"190.152344\" y=\"18.861328\"/>\n",
       "<use xlink:href=\"#glyph-3-13\" x=\"195.152344\" y=\"18.861328\"/>\n",
       "<use xlink:href=\"#glyph-3-9\" x=\"208.152344\" y=\"18.861328\"/>\n",
       "<use xlink:href=\"#glyph-3-11\" x=\"219.152344\" y=\"18.861328\"/>\n",
       "<use xlink:href=\"#glyph-3-10\" x=\"230.152344\" y=\"18.861328\"/>\n",
       "<use xlink:href=\"#glyph-3-14\" x=\"240.152344\" y=\"18.861328\"/>\n",
       "<use xlink:href=\"#glyph-3-3\" x=\"250.152344\" y=\"18.861328\"/>\n",
       "<use xlink:href=\"#glyph-3-15\" x=\"256.152344\" y=\"18.861328\"/>\n",
       "<use xlink:href=\"#glyph-3-16\" x=\"260.152344\" y=\"18.861328\"/>\n",
       "<use xlink:href=\"#glyph-3-17\" x=\"271.152344\" y=\"18.861328\"/>\n",
       "<use xlink:href=\"#glyph-3-15\" x=\"276.152344\" y=\"18.861328\"/>\n",
       "<use xlink:href=\"#glyph-3-8\" x=\"280.152344\" y=\"18.861328\"/>\n",
       "<use xlink:href=\"#glyph-3-18\" x=\"291.152344\" y=\"18.861328\"/>\n",
       "<use xlink:href=\"#glyph-3-6\" x=\"302.152344\" y=\"18.861328\"/>\n",
       "<use xlink:href=\"#glyph-3-13\" x=\"307.152344\" y=\"18.861328\"/>\n",
       "<use xlink:href=\"#glyph-3-17\" x=\"320.152344\" y=\"18.861328\"/>\n",
       "<use xlink:href=\"#glyph-3-4\" x=\"325.152344\" y=\"18.861328\"/>\n",
       "<use xlink:href=\"#glyph-3-17\" x=\"336.152344\" y=\"18.861328\"/>\n",
       "<use xlink:href=\"#glyph-3-9\" x=\"341.152344\" y=\"18.861328\"/>\n",
       "<use xlink:href=\"#glyph-3-10\" x=\"352.152344\" y=\"18.861328\"/>\n",
       "</g>\n",
       "</svg>\n"
      ],
      "text/plain": [
       "plot without title"
      ]
     },
     "metadata": {
      "application/pdf": {
       "height": 420,
       "width": 420
      },
      "image/jpeg": {
       "height": 420,
       "width": 420
      },
      "image/png": {
       "height": 420,
       "width": 420
      },
      "image/svg+xml": {
       "height": 420,
       "isolated": true,
       "width": 420
      }
     },
     "output_type": "display_data"
    }
   ],
   "source": [
    "avg_hours_plot <- players_simplified |>\n",
    "    group_by(subscribe) |>\n",
    "    summarize(avg_hours = mean(played_hours)) |>\n",
    "    ggplot(aes(x = subscribe, y = avg_hours)) +\n",
    "        geom_bar(stat = \"identity\", fill = '#e87478') +  \n",
    "        labs(title = 'Average Hours by Subscription Status', \n",
    "             x = 'Subscribed (T/F)', \n",
    "             y = 'Average Hours Played') +\n",
    "        theme(text = element_text(size = 16))\n",
    "\n",
    "avg_hours_plot"
   ]
  },
  {
   "cell_type": "code",
   "execution_count": null,
   "id": "c4255cf8-cdb4-4b80-ab2c-107366fad9a5",
   "metadata": {},
   "outputs": [
    {
     "name": "stderr",
     "output_type": "stream",
     "text": [
      "Warning message:\n",
      "“\u001b[1m\u001b[22mRemoved 2 rows containing non-finite outside the scale range (`stat_bin()`).”\n"
     ]
    }
   ],
   "source": [
    "age_histogram <- players_simplified |>\n",
    "    ggplot(aes(x = age)) +\n",
    "    geom_histogram(binwidth = 5, fill = '#5dd4ba') +\n",
    "    labs(x = 'Age of Player', y = 'Number of Players', title = 'Age Distribution of Players') +\n",
    "    theme(text = element_text(size = 16))\n",
    "\n",
    "age_histogram"
   ]
  },
  {
   "cell_type": "code",
   "execution_count": 2,
   "id": "72f6d11f-15ea-47e6-b6df-822fffc062d5",
   "metadata": {},
   "outputs": [
    {
     "ename": "ERROR",
     "evalue": "Error in ggplot(players_simplified, aes(x = age, y = played_hours, colour = subscribe)): could not find function \"ggplot\"\n",
     "output_type": "error",
     "traceback": [
      "Error in ggplot(players_simplified, aes(x = age, y = played_hours, colour = subscribe)): could not find function \"ggplot\"\nTraceback:\n"
     ]
    }
   ],
   "source": [
    "age_vs_hours_plot <- players_simplified |>\n",
    "    ggplot(aes(x = age, y = played_hours, colour = subscribe)) +\n",
    "        geom_point() +\n",
    "        labs(x = 'Age',\n",
    "             y = 'Hours Played',\n",
    "             colour = 'Subscription Status',\n",
    "             title = 'Played Hours vs. Age') +\n",
    "             theme(text = element_text(size = 16))\n",
    "\n",
    "age_vs_hours_plot"
   ]
  },
  {
   "cell_type": "markdown",
   "id": "2e7bacf2-f95f-425a-8178-a11d4795bdf7",
   "metadata": {},
   "source": [
    "## BOTH PREDICTORS"
   ]
  },
  {
   "cell_type": "code",
   "execution_count": 22,
   "id": "cc9d5f3a-a3ba-47c4-acf0-140dbbd56730",
   "metadata": {},
   "outputs": [],
   "source": [
    "set.seed(2000)\n",
    "players_simplified <- players_simplified |>\n",
    "    mutate(subscribe = as_factor(subscribe))\n",
    "\n",
    "players_split <- initial_split(players_simplified, prop = 0.75, strata = subscribe)  \n",
    "players_train <- training(players_split)   \n",
    "players_test <- testing(players_split)"
   ]
  },
  {
   "cell_type": "code",
   "execution_count": 23,
   "id": "ed30f6b9-956d-4e13-ba1e-45663bae8875",
   "metadata": {},
   "outputs": [],
   "source": [
    "players_recipe <- recipe(subscribe ~ ., data = players_train) |>\n",
    "   step_scale(all_predictors()) |>\n",
    "   step_center(all_predictors())"
   ]
  },
  {
   "cell_type": "markdown",
   "id": "557d70ba-e3c4-4e48-a681-b171df2177ed",
   "metadata": {},
   "source": [
    "Chose to do 3 folds instead of 5 because was having error due to not enough cases from each case (subscribed / not subscribed) with 5"
   ]
  },
  {
   "cell_type": "code",
   "execution_count": 24,
   "id": "341aa7fc-8445-4ab6-b1e9-2afb6ec95641",
   "metadata": {},
   "outputs": [],
   "source": [
    "players_vfold <- vfold_cv(players_train, v = 3, strata = subscribe)"
   ]
  },
  {
   "cell_type": "code",
   "execution_count": 25,
   "id": "0ec12700-ee0e-44dd-8e51-a2e6c490d202",
   "metadata": {},
   "outputs": [],
   "source": [
    "knn_spec <- nearest_neighbor(weight_func = \"rectangular\", neighbors = tune()) |>\n",
    "      set_engine(\"kknn\") |>\n",
    "      set_mode(\"classification\")"
   ]
  },
  {
   "cell_type": "markdown",
   "id": "bc031127-2c6c-4894-ab43-89f002be35db",
   "metadata": {},
   "source": [
    "Chose to test 20 neighbours because graph peaked at around this number"
   ]
  },
  {
   "cell_type": "code",
   "execution_count": 27,
   "id": "02cbc1bb-a7f6-4d4d-bd31-62fde56a0b59",
   "metadata": {},
   "outputs": [
    {
     "name": "stderr",
     "output_type": "stream",
     "text": [
      "→ \u001b[31m\u001b[1mA\u001b[22m\u001b[39m | \u001b[31merror\u001b[39m:   \u001b[1m\u001b[22mAssigned data `orig_rows` must be compatible with existing data.\n",
      "               \u001b[31m✖\u001b[39m Existing data has 47 rows.\n",
      "               \u001b[31m✖\u001b[39m Assigned data has 49 rows.\n",
      "               \u001b[36mℹ\u001b[39m Only vectors of size 1 are recycled.\n",
      "               \u001b[1mCaused by error in `vectbl_recycle_rhs_rows()`:\u001b[22m\n",
      "               \u001b[33m!\u001b[39m Can't recycle input of size 49 to size 47.\n",
      "\n",
      "There were issues with some computations   \u001b[1m\u001b[31mA\u001b[39m\u001b[22m: x1\n",
      "\n",
      "There were issues with some computations   \u001b[1m\u001b[31mA\u001b[39m\u001b[22m: x1\n",
      "\n",
      "\n",
      "\n"
     ]
    }
   ],
   "source": [
    "k_vals <- tibble(neighbors = seq(from = 1, to = 20, by = 1))\n",
    "\n",
    "players_results <- workflow() |>\n",
    "      add_recipe(players_recipe) |>\n",
    "      add_model(knn_spec) |>\n",
    "      tune_grid(resamples = players_vfold, grid = k_vals) |>\n",
    "      collect_metrics() |>\n",
    "      filter(.metric == \"accuracy\")"
   ]
  },
  {
   "cell_type": "code",
   "execution_count": null,
   "id": "6e7ccd35-876d-42bb-a211-38ee6cb78541",
   "metadata": {},
   "outputs": [],
   "source": [
    "neighbours_plot <- players_results |>\n",
    "    ggplot(aes(x = neighbors, y = mean)) +\n",
    "        geom_point() +\n",
    "        geom_line() +\n",
    "        labs(x = \"Number of Neighbours\", y = \"Accuracy\", title = \"Accuracy vs. Neighbours\") +\n",
    "        scale_x_continuous(breaks = seq(0, 20, by = 2))"
   ]
  },
  {
   "cell_type": "code",
   "execution_count": null,
   "id": "72cec55f-a90e-4817-b2a1-2f4b95865166",
   "metadata": {},
   "outputs": [],
   "source": [
    "knn_spec_predict <- nearest_neighbor(weight_func = \"rectangular\", neighbors = 15) |>\n",
    "      set_engine(\"kknn\") |>\n",
    "      set_mode(\"classification\")\n",
    "\n",
    "players_fit <- workflow() |>\n",
    "    add_recipe(players_recipe) |>\n",
    "    add_model(knn_spec_predict) |>\n",
    "    fit(data = players_train)"
   ]
  },
  {
   "cell_type": "code",
   "execution_count": 17,
   "id": "4917124e-d8a0-4826-b9a0-4c21774777f3",
   "metadata": {},
   "outputs": [
    {
     "ename": "ERROR",
     "evalue": "Error in eval(expr, envir, enclos): object 'players_fit' not found\n",
     "output_type": "error",
     "traceback": [
      "Error in eval(expr, envir, enclos): object 'players_fit' not found\nTraceback:\n",
      "1. bind_cols(predict(players_fit, players_test), players_test)",
      "2. list2(...)",
      "3. predict(players_fit, players_test)"
     ]
    }
   ],
   "source": [
    "players_predictions <- predict(players_fit, players_test) |>\n",
    "    bind_cols(players_test)\n",
    "\n",
    "players_predictions\n",
    "\n",
    "players_metrics <- players_predictions |>\n",
    "    metrics(truth = subscribe, estimate = .pred_class) |>\n",
    "    filter(.metric == \"accuracy\")\n",
    "\n",
    "players_metrics"
   ]
  },
  {
   "cell_type": "markdown",
   "id": "7cb8b365-3bc2-47f2-84fe-f345a075db32",
   "metadata": {},
   "source": [
    "## HOURS PREDICTOR"
   ]
  },
  {
   "cell_type": "code",
   "execution_count": 18,
   "id": "07f35b70-331a-4265-96a1-d901749d12a2",
   "metadata": {},
   "outputs": [
    {
     "ename": "ERROR",
     "evalue": "Error in eval(expr, envir, enclos): object 'players_train' not found\n",
     "output_type": "error",
     "traceback": [
      "Error in eval(expr, envir, enclos): object 'players_train' not found\nTraceback:\n",
      "1. step_center(step_scale(recipe(subscribe ~ played_hours, data = players_train), \n .     all_predictors()), all_predictors())",
      "2. add_step(recipe, step_center_new(terms = enquos(...), trained = trained, \n .     role = role, means = means, na_rm = na_rm, skip = skip, id = id, \n .     case_weights = NULL))",
      "3. step_scale(recipe(subscribe ~ played_hours, data = players_train), \n .     all_predictors())",
      "4. add_step(recipe, step_scale_new(terms = enquos(...), role = role, \n .     trained = trained, sds = sds, factor = factor, na_rm = na_rm, \n .     skip = skip, id = id, case_weights = NULL))",
      "5. recipe(subscribe ~ played_hours, data = players_train)",
      "6. recipe.formula(subscribe ~ played_hours, data = players_train)",
      "7. rlang::is_missing(data)"
     ]
    }
   ],
   "source": [
    "set.seed(2000)\n",
    "players_recipe_hours <- recipe(subscribe ~ played_hours, data = players_train) |>\n",
    "   step_scale(all_predictors()) |>\n",
    "   step_center(all_predictors())"
   ]
  },
  {
   "cell_type": "code",
   "execution_count": 19,
   "id": "4a309e7b-6079-4b8b-adcb-e00d087e9155",
   "metadata": {},
   "outputs": [
    {
     "ename": "ERROR",
     "evalue": "Error in eval(expr, envir, enclos): object 'players_recipe_hours' not found\n",
     "output_type": "error",
     "traceback": [
      "Error in eval(expr, envir, enclos): object 'players_recipe_hours' not found\nTraceback:\n",
      "1. filter(collect_metrics(tune_grid(add_model(add_recipe(workflow(), \n .     players_recipe_hours), knn_spec), resamples = players_vfold, \n .     grid = k_vals)), .metric == \"accuracy\")",
      "2. collect_metrics(tune_grid(add_model(add_recipe(workflow(), players_recipe_hours), \n .     knn_spec), resamples = players_vfold, grid = k_vals))",
      "3. tune_grid(add_model(add_recipe(workflow(), players_recipe_hours), \n .     knn_spec), resamples = players_vfold, grid = k_vals)",
      "4. add_model(add_recipe(workflow(), players_recipe_hours), knn_spec)",
      "5. add_action(x, action, \"model\")",
      "6. validate_is_workflow(x, call = call)",
      "7. is_workflow(x)",
      "8. add_recipe(workflow(), players_recipe_hours)",
      "9. new_action_recipe(recipe, blueprint)",
      "10. is_recipe(recipe)"
     ]
    }
   ],
   "source": [
    "players_results_hours <- workflow() |>\n",
    "      add_recipe(players_recipe_hours) |>\n",
    "      add_model(knn_spec) |>\n",
    "      tune_grid(resamples = players_vfold, grid = k_vals) |>\n",
    "      collect_metrics() |>\n",
    "      filter(.metric == \"accuracy\")"
   ]
  },
  {
   "cell_type": "code",
   "execution_count": 20,
   "id": "1e3f3c7b-3657-44d6-af93-63582af5ffd0",
   "metadata": {},
   "outputs": [
    {
     "ename": "ERROR",
     "evalue": "Error in eval(expr, envir, enclos): object 'players_results_hours' not found\n",
     "output_type": "error",
     "traceback": [
      "Error in eval(expr, envir, enclos): object 'players_results_hours' not found\nTraceback:\n",
      "1. ggplot(players_results_hours, aes(x = neighbors, y = mean))"
     ]
    }
   ],
   "source": [
    "neighbours_plot_hours <- players_results_hours |>\n",
    "    ggplot(aes(x = neighbors, y = mean)) +\n",
    "        geom_point() +\n",
    "        geom_line() +\n",
    "        labs(x = \"Number of Neighbours\", y = \"Accuracy\", title = \"Accuracy vs. Neighbours\") +\n",
    "        scale_x_continuous(breaks = seq(0, 20, by = 2))\n",
    "\n",
    "neighbours_plot_hours"
   ]
  },
  {
   "cell_type": "code",
   "execution_count": 21,
   "id": "40198327-49a5-4d79-b8a4-9e6ba9e85aba",
   "metadata": {},
   "outputs": [
    {
     "ename": "ERROR",
     "evalue": "Error in eval(expr, envir, enclos): object 'players_recipe_hours' not found\n",
     "output_type": "error",
     "traceback": [
      "Error in eval(expr, envir, enclos): object 'players_recipe_hours' not found\nTraceback:\n",
      "1. fit(add_model(add_recipe(workflow(), players_recipe_hours), knn_spec_test_hours), \n .     data = players_train)",
      "2. add_model(add_recipe(workflow(), players_recipe_hours), knn_spec_test_hours)",
      "3. add_action(x, action, \"model\")",
      "4. validate_is_workflow(x, call = call)",
      "5. is_workflow(x)",
      "6. add_recipe(workflow(), players_recipe_hours)",
      "7. new_action_recipe(recipe, blueprint)",
      "8. is_recipe(recipe)"
     ]
    }
   ],
   "source": [
    "knn_spec_predict_hours <- nearest_neighbor(weight_func = \"rectangular\", neighbors = 13) |>\n",
    "      set_engine(\"kknn\") |>\n",
    "      set_mode(\"classification\")\n",
    "\n",
    "players_fit_hours <- workflow() |>\n",
    "    add_recipe(players_recipe_hours) |>\n",
    "    add_model(knn_spec_predict_hours) |>\n",
    "    fit(data = players_train)"
   ]
  },
  {
   "cell_type": "code",
   "execution_count": 22,
   "id": "faba14dd-8a9a-4499-8fa3-abeb8c6664cb",
   "metadata": {},
   "outputs": [
    {
     "ename": "ERROR",
     "evalue": "Error in eval(expr, envir, enclos): object 'players_fit_hours' not found\n",
     "output_type": "error",
     "traceback": [
      "Error in eval(expr, envir, enclos): object 'players_fit_hours' not found\nTraceback:\n",
      "1. bind_cols(predict(players_fit_hours, players_test), players_test)",
      "2. list2(...)",
      "3. predict(players_fit_hours, players_test)"
     ]
    }
   ],
   "source": [
    "players_predictions_hours <- predict(players_fit_hours, players_test) |>\n",
    "    bind_cols(players_test)\n",
    "\n",
    "players_metrics_hours <- players_predictions_hours |>\n",
    "    metrics(truth = subscribe, estimate = .pred_class) |>\n",
    "    filter(.metric == \"accuracy\")\n",
    "\n",
    "players_metrics_hours"
   ]
  },
  {
   "cell_type": "markdown",
   "id": "8152e68f-5d51-4ef0-8c61-051441fb5e05",
   "metadata": {},
   "source": [
    "## AGE PREDICTOR"
   ]
  },
  {
   "cell_type": "code",
   "execution_count": 23,
   "id": "87f6d170-a1b3-4ed0-b707-f896b8785404",
   "metadata": {},
   "outputs": [
    {
     "ename": "ERROR",
     "evalue": "Error in eval(expr, envir, enclos): object 'players_train' not found\n",
     "output_type": "error",
     "traceback": [
      "Error in eval(expr, envir, enclos): object 'players_train' not found\nTraceback:\n",
      "1. step_center(step_scale(recipe(subscribe ~ age, data = players_train), \n .     all_predictors()), all_predictors())",
      "2. add_step(recipe, step_center_new(terms = enquos(...), trained = trained, \n .     role = role, means = means, na_rm = na_rm, skip = skip, id = id, \n .     case_weights = NULL))",
      "3. step_scale(recipe(subscribe ~ age, data = players_train), all_predictors())",
      "4. add_step(recipe, step_scale_new(terms = enquos(...), role = role, \n .     trained = trained, sds = sds, factor = factor, na_rm = na_rm, \n .     skip = skip, id = id, case_weights = NULL))",
      "5. recipe(subscribe ~ age, data = players_train)",
      "6. recipe.formula(subscribe ~ age, data = players_train)",
      "7. rlang::is_missing(data)"
     ]
    }
   ],
   "source": [
    "set.seed(2000)\n",
    "players_recipe_age <- recipe(subscribe ~ age, data = players_train) |>\n",
    "   step_scale(all_predictors()) |>\n",
    "   step_center(all_predictors())"
   ]
  },
  {
   "cell_type": "code",
   "execution_count": 24,
   "id": "89f7a217-3db4-476e-bd03-7ba6206dff6a",
   "metadata": {},
   "outputs": [
    {
     "ename": "ERROR",
     "evalue": "Error in eval(expr, envir, enclos): object 'players_recipe_age' not found\n",
     "output_type": "error",
     "traceback": [
      "Error in eval(expr, envir, enclos): object 'players_recipe_age' not found\nTraceback:\n",
      "1. filter(collect_metrics(tune_grid(add_model(add_recipe(workflow(), \n .     players_recipe_age), knn_spec), resamples = players_vfold, \n .     grid = k_vals)), .metric == \"accuracy\")",
      "2. collect_metrics(tune_grid(add_model(add_recipe(workflow(), players_recipe_age), \n .     knn_spec), resamples = players_vfold, grid = k_vals))",
      "3. tune_grid(add_model(add_recipe(workflow(), players_recipe_age), \n .     knn_spec), resamples = players_vfold, grid = k_vals)",
      "4. add_model(add_recipe(workflow(), players_recipe_age), knn_spec)",
      "5. add_action(x, action, \"model\")",
      "6. validate_is_workflow(x, call = call)",
      "7. is_workflow(x)",
      "8. add_recipe(workflow(), players_recipe_age)",
      "9. new_action_recipe(recipe, blueprint)",
      "10. is_recipe(recipe)"
     ]
    }
   ],
   "source": [
    "players_results_age <- workflow() |>\n",
    "      add_recipe(players_recipe_age) |>\n",
    "      add_model(knn_spec) |>\n",
    "      tune_grid(resamples = players_vfold, grid = k_vals) |>\n",
    "      collect_metrics() |>\n",
    "      filter(.metric == \"accuracy\")"
   ]
  },
  {
   "cell_type": "code",
   "execution_count": 25,
   "id": "cf937fce-759f-45cc-bfbc-24c470c68fc8",
   "metadata": {},
   "outputs": [
    {
     "ename": "ERROR",
     "evalue": "Error in eval(expr, envir, enclos): object 'players_results_age' not found\n",
     "output_type": "error",
     "traceback": [
      "Error in eval(expr, envir, enclos): object 'players_results_age' not found\nTraceback:\n",
      "1. ggplot(players_results_age, aes(x = neighbors, y = mean))"
     ]
    }
   ],
   "source": [
    "neighbours_plot_age <- players_results_age |>\n",
    "    ggplot(aes(x = neighbors, y = mean)) +\n",
    "        geom_point() +\n",
    "        geom_line() +\n",
    "        labs(x = \"Number of Neighbours\", y = \"Accuracy\", title = \"Accuracy vs. Neighbours\") +\n",
    "        scale_x_continuous(breaks = seq(0, 20, by = 2))\n",
    "\n",
    "neighbours_plot_age"
   ]
  },
  {
   "cell_type": "code",
   "execution_count": 26,
   "id": "6783e535-0d36-4532-9284-cc1b2e6cb982",
   "metadata": {},
   "outputs": [
    {
     "ename": "ERROR",
     "evalue": "Error in eval(expr, envir, enclos): object 'players_recipe_age' not found\n",
     "output_type": "error",
     "traceback": [
      "Error in eval(expr, envir, enclos): object 'players_recipe_age' not found\nTraceback:\n",
      "1. fit(add_model(add_recipe(workflow(), players_recipe_age), knn_spec_test_age), \n .     data = players_train)",
      "2. add_model(add_recipe(workflow(), players_recipe_age), knn_spec_test_age)",
      "3. add_action(x, action, \"model\")",
      "4. validate_is_workflow(x, call = call)",
      "5. is_workflow(x)",
      "6. add_recipe(workflow(), players_recipe_age)",
      "7. new_action_recipe(recipe, blueprint)",
      "8. is_recipe(recipe)"
     ]
    }
   ],
   "source": [
    "knn_spec_predict_age <- nearest_neighbor(weight_func = \"rectangular\", neighbors = 19) |>\n",
    "      set_engine(\"kknn\") |>\n",
    "      set_mode(\"classification\")\n",
    "\n",
    "players_fit_age <- workflow() |>\n",
    "    add_recipe(players_recipe_age) |>\n",
    "    add_model(knn_spec_predict_age) |>\n",
    "    fit(data = players_train)"
   ]
  },
  {
   "cell_type": "code",
   "execution_count": 27,
   "id": "2f659b39-7ff2-40a4-b9f3-64ef230189ec",
   "metadata": {},
   "outputs": [
    {
     "ename": "ERROR",
     "evalue": "Error in eval(expr, envir, enclos): object 'players_fit_age' not found\n",
     "output_type": "error",
     "traceback": [
      "Error in eval(expr, envir, enclos): object 'players_fit_age' not found\nTraceback:\n",
      "1. bind_cols(predict(players_fit_age, players_test), players_test)",
      "2. list2(...)",
      "3. predict(players_fit_age, players_test)"
     ]
    }
   ],
   "source": [
    "players_predictions_age <- predict(players_fit_age, players_test) |>\n",
    "    bind_cols(players_test)\n",
    "\n",
    "players_metrics_age <- players_predictions_age |>\n",
    "    metrics(truth = subscribe, estimate = .pred_class) |>\n",
    "    filter(.metric == \"accuracy\")\n",
    "\n",
    "players_metrics_age"
   ]
  },
  {
   "cell_type": "markdown",
   "id": "f81679e7-6873-4b1e-8d38-62f93e335957",
   "metadata": {},
   "source": [
    "# Discussion"
   ]
  },
  {
   "cell_type": "markdown",
   "id": "c9bd4300-d97c-4ef5-bcb8-5ee7a9ba8865",
   "metadata": {},
   "source": []
  }
 ],
 "metadata": {
  "kernelspec": {
   "display_name": "R",
   "language": "R",
   "name": "ir"
  },
  "language_info": {
   "codemirror_mode": "r",
   "file_extension": ".r",
   "mimetype": "text/x-r-source",
   "name": "R",
   "pygments_lexer": "r",
   "version": "4.3.3"
  }
 },
 "nbformat": 4,
 "nbformat_minor": 5
}
